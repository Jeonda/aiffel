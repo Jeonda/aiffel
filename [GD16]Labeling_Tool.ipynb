{
 "cells": [
  {
   "cell_type": "markdown",
   "metadata": {},
   "source": [
    "# [GD16]Labeling_Tool"
   ]
  },
  {
   "cell_type": "code",
   "execution_count": 51,
   "metadata": {},
   "outputs": [],
   "source": [
    "import tensorflow as tf\n",
    "import numpy as np\n",
    "import math\n",
    "import tensorflow_hub as hub\n",
    "from tensorflow.keras import layers\n",
    "from tensorflow.keras import models\n",
    "from tensorflow.keras.callbacks import LearningRateScheduler"
   ]
  },
  {
   "cell_type": "code",
   "execution_count": 3,
   "metadata": {},
   "outputs": [
    {
     "name": "stdout",
     "output_type": "stream",
     "text": [
      "23682 23712\n",
      "Found 23680 images belonging to 1 classes.\n",
      "Found 23712 images belonging to 1 classes.\n"
     ]
    }
   ],
   "source": [
    "import glob\n",
    "import os\n",
    "\n",
    "home_dir = os.getenv('HOME')+'/lfw'\n",
    "list_image = sorted(glob.glob(home_dir+'/data/train/input/img/*.png'))\n",
    "list_label = sorted(glob.glob(home_dir+'/data/train/label/mask/*.png'))\n",
    "print (len(list_image), len(list_label))\n",
    "\n",
    "# 32의 배수를 벗어나는 파일 경로들을 담은 list\n",
    "list_image_out_of_range = list_image[len(list_image) - (len(list_image) % 32):]\n",
    "list_label_out_of_range = list_label[len(list_label) - (len(list_label) % 32):]\n",
    "\n",
    "# 해당 list가 존재한다면, 파일 삭제\n",
    "if list_image_out_of_range:\n",
    "    for path in list_image_out_of_range:\n",
    "        os.remove(path)\n",
    "if list_label_out_of_range:\n",
    "    for path in list_label_out_of_range:\n",
    "        os.remove(path)\n",
    "\n",
    "IMAGE_SHAPE = (80, 120)\n",
    "data_root = home_dir+'/data/train/input'\n",
    "label_root = home_dir+'/data/train/label'\n",
    "\n",
    "image_generator = tf.keras.preprocessing.image.ImageDataGenerator()\n",
    "label_generator = tf.keras.preprocessing.image.ImageDataGenerator()\n",
    "image_data = image_generator.flow_from_directory(str(data_root), class_mode=None, target_size=IMAGE_SHAPE, batch_size=32)\n",
    "label_data = label_generator.flow_from_directory(str(label_root), class_mode=None, target_size=IMAGE_SHAPE, batch_size=32)"
   ]
  },
  {
   "cell_type": "code",
   "execution_count": 4,
   "metadata": {},
   "outputs": [],
   "source": [
    "def user_generation(train_generator, label_generator):\n",
    "    h, w = train_generator.target_size\n",
    "    for images, labels in zip(train_generator, label_generator):\n",
    "        images /= 255.\n",
    "        images = images[..., ::-1] # rgb to bgr\n",
    "\n",
    "        list_point_labels = []\n",
    "        for img, label in zip(images, labels):\n",
    "\n",
    "            eye_ls = np.where(label==1) # leftside\n",
    "            eye_rs = np.where(label==2) # rightside\n",
    "            eye_center = np.where(label==3)\n",
    "\n",
    "            lx, ly = [eye_ls[1].mean(), eye_ls[0].mean()]\n",
    "            rx, ry = [eye_rs[1].mean(), eye_rs[0].mean()]\n",
    "            cx, cy = [eye_center[1].mean(), eye_center[0].mean()]\n",
    "\n",
    "            if len(eye_ls[0])==0 or len(eye_ls[1])==0:\n",
    "                lx, ly = [0, 0]\n",
    "            if len(eye_rs[0])==0 or len(eye_rs[1])==0:\n",
    "                rx, ry = [w, h]\n",
    "            if len(eye_center[0])==0 or len(eye_center[1])==0:\n",
    "                cx, cy = [0, 0]\n",
    "\n",
    "            np_point_label = np.array([lx/w,ly/h,rx/w,ry/h,cx/w,cy/h], dtype=np.float32)\n",
    "\n",
    "            list_point_labels.append(np_point_label)\n",
    "        np_point_labels = np.array(list_point_labels)\n",
    "        yield (images, np_point_labels)"
   ]
  },
  {
   "cell_type": "code",
   "execution_count": 5,
   "metadata": {},
   "outputs": [
    {
     "name": "stdout",
     "output_type": "stream",
     "text": [
      "(80, 120, 3) [0.         0.         1.         1.         0.35416666 0.4375    ]\n",
      "(80, 120, 3) [0.         0.         1.         1.         0.62083334 0.18445946]\n"
     ]
    },
    {
     "name": "stderr",
     "output_type": "stream",
     "text": [
      "/home/aiffel/anaconda3/envs/aiffel/lib/python3.7/site-packages/ipykernel_launcher.py:14: RuntimeWarning: Mean of empty slice.\n",
      "  \n",
      "/home/aiffel/anaconda3/envs/aiffel/lib/python3.7/site-packages/numpy/core/_methods.py:170: RuntimeWarning: invalid value encountered in double_scalars\n",
      "  ret = ret.dtype.type(ret / rcount)\n",
      "/home/aiffel/anaconda3/envs/aiffel/lib/python3.7/site-packages/ipykernel_launcher.py:15: RuntimeWarning: Mean of empty slice.\n",
      "  from ipykernel import kernelapp as app\n"
     ]
    }
   ],
   "source": [
    "user_train_generator = user_generation(image_data, label_data)\n",
    "for i in range(2):\n",
    "    dd = next(user_train_generator)\n",
    "    print (dd[0][0].shape, dd[1][0])\n"
   ]
  },
  {
   "cell_type": "code",
   "execution_count": 6,
   "metadata": {},
   "outputs": [
    {
     "name": "stdout",
     "output_type": "stream",
     "text": [
      "(32, 2048)\n",
      "Model: \"sequential\"\n",
      "_________________________________________________________________\n",
      "Layer (type)                 Output Shape              Param #   \n",
      "=================================================================\n",
      "keras_layer (KerasLayer)     (None, 2048)              23564800  \n",
      "_________________________________________________________________\n",
      "dense (Dense)                (None, 6)                 12294     \n",
      "=================================================================\n",
      "Total params: 23,577,094\n",
      "Trainable params: 12,294\n",
      "Non-trainable params: 23,564,800\n",
      "_________________________________________________________________\n"
     ]
    }
   ],
   "source": [
    "''' tf hub feature_extractor '''\n",
    "feature_extractor_url = \"https://tfhub.dev/google/imagenet/resnet_v2_50/feature_vector/4\"\n",
    "feature_extractor_layer = hub.KerasLayer(feature_extractor_url,\n",
    "                                            input_shape=(80,120,3))\n",
    "\n",
    "image_batch = next(image_data)\n",
    "feature_batch = feature_extractor_layer(image_batch)\n",
    "print(feature_batch.shape)\n",
    "\n",
    "num_classes = 6\n",
    "\n",
    "feature_extractor_layer.trainable = False\n",
    "model = tf.keras.Sequential([\n",
    "    feature_extractor_layer,\n",
    "    #layers.Dense(1024, activation='relu'),\n",
    "    #layers.Dropout(0.5),\n",
    "    layers.Dense(num_classes, activation='sigmoid'),\n",
    "])\n",
    "\n",
    "model.summary()"
   ]
  },
  {
   "cell_type": "code",
   "execution_count": 7,
   "metadata": {},
   "outputs": [],
   "source": [
    "model.compile(\n",
    "  optimizer=tf.keras.optimizers.Adam(),\n",
    "  loss='mse',\n",
    "  metrics=['mae']\n",
    "  )"
   ]
  },
  {
   "cell_type": "code",
   "execution_count": 8,
   "metadata": {},
   "outputs": [],
   "source": [
    "def lr_step_decay(epoch):\n",
    "      init_lr = 0.0005 #self.flag.initial_learning_rate\n",
    "      lr_decay = 0.5 #self.flag.learning_rate_decay_factor\n",
    "      epoch_per_decay = 2 #self.flag.epoch_per_decay\n",
    "      lrate = init_lr * math.pow(lr_decay, math.floor((1+epoch)/epoch_per_decay))\n",
    "      return lrate"
   ]
  },
  {
   "cell_type": "code",
   "execution_count": 15,
   "metadata": {},
   "outputs": [
    {
     "name": "stdout",
     "output_type": "stream",
     "text": [
      "23680 32 740\n",
      "Epoch 1/100\n",
      "  6/740 [..............................] - ETA: 18s - loss: 0.0124 - mae: 0.0511"
     ]
    },
    {
     "name": "stderr",
     "output_type": "stream",
     "text": [
      "/home/aiffel/anaconda3/envs/aiffel/lib/python3.7/site-packages/ipykernel_launcher.py:14: RuntimeWarning: Mean of empty slice.\n",
      "  \n",
      "/home/aiffel/anaconda3/envs/aiffel/lib/python3.7/site-packages/numpy/core/_methods.py:170: RuntimeWarning: invalid value encountered in double_scalars\n",
      "  ret = ret.dtype.type(ret / rcount)\n",
      "/home/aiffel/anaconda3/envs/aiffel/lib/python3.7/site-packages/ipykernel_launcher.py:15: RuntimeWarning: Mean of empty slice.\n",
      "  from ipykernel import kernelapp as app\n"
     ]
    },
    {
     "name": "stdout",
     "output_type": "stream",
     "text": [
      "740/740 [==============================] - 18s 25ms/step - loss: 0.0134 - mae: 0.0530 0s - loss: 0.0134 - m\n",
      "Epoch 2/100\n",
      "740/740 [==============================] - 18s 25ms/step - loss: 0.0130 - mae: 0.0520\n",
      "Epoch 3/100\n",
      "740/740 [==============================] - 18s 24ms/step - loss: 0.0129 - mae: 0.0518\n",
      "Epoch 4/100\n",
      "740/740 [==============================] - 18s 24ms/step - loss: 0.0127 - mae: 0.0514\n",
      "Epoch 5/100\n",
      "740/740 [==============================] - 18s 24ms/step - loss: 0.0127 - mae: 0.0513\n",
      "Epoch 6/100\n",
      "740/740 [==============================] - 18s 24ms/step - loss: 0.0126 - mae: 0.0511\n",
      "Epoch 7/100\n",
      "740/740 [==============================] - 18s 24ms/step - loss: 0.0125 - mae: 0.0509\n",
      "Epoch 8/100\n",
      "740/740 [==============================] - 18s 24ms/step - loss: 0.0125 - mae: 0.0509\n",
      "Epoch 9/100\n",
      "740/740 [==============================] - 18s 24ms/step - loss: 0.0125 - mae: 0.0509\n",
      "Epoch 10/100\n",
      "740/740 [==============================] - 18s 24ms/step - loss: 0.0124 - mae: 0.0509\n",
      "Epoch 11/100\n",
      "740/740 [==============================] - 18s 24ms/step - loss: 0.0124 - mae: 0.0507\n",
      "Epoch 12/100\n",
      "740/740 [==============================] - 17s 23ms/step - loss: 0.0124 - mae: 0.0509\n",
      "Epoch 13/100\n",
      "740/740 [==============================] - 17s 23ms/step - loss: 0.0124 - mae: 0.0508\n",
      "Epoch 14/100\n",
      "740/740 [==============================] - 17s 23ms/step - loss: 0.0124 - mae: 0.0509\n",
      "Epoch 15/100\n",
      "740/740 [==============================] - 17s 23ms/step - loss: 0.0124 - mae: 0.0508\n",
      "Epoch 16/100\n",
      "740/740 [==============================] - 17s 23ms/step - loss: 0.0124 - mae: 0.0508\n",
      "Epoch 17/100\n",
      "740/740 [==============================] - 17s 23ms/step - loss: 0.0124 - mae: 0.0508\n",
      "Epoch 18/100\n",
      "740/740 [==============================] - 17s 23ms/step - loss: 0.0124 - mae: 0.0507\n",
      "Epoch 19/100\n",
      "740/740 [==============================] - 17s 23ms/step - loss: 0.0124 - mae: 0.0507\n",
      "Epoch 20/100\n",
      "740/740 [==============================] - 17s 23ms/step - loss: 0.0124 - mae: 0.0507\n",
      "Epoch 21/100\n",
      "740/740 [==============================] - 17s 23ms/step - loss: 0.0124 - mae: 0.0508\n",
      "Epoch 22/100\n",
      "740/740 [==============================] - 17s 23ms/step - loss: 0.0124 - mae: 0.0508\n",
      "Epoch 23/100\n",
      "740/740 [==============================] - 17s 23ms/step - loss: 0.0124 - mae: 0.0506\n",
      "Epoch 24/100\n",
      "740/740 [==============================] - 17s 23ms/step - loss: 0.0124 - mae: 0.0507\n",
      "Epoch 25/100\n",
      "740/740 [==============================] - 17s 23ms/step - loss: 0.0124 - mae: 0.0507\n",
      "Epoch 26/100\n",
      "740/740 [==============================] - 17s 23ms/step - loss: 0.0124 - mae: 0.0508\n",
      "Epoch 27/100\n",
      "740/740 [==============================] - 17s 23ms/step - loss: 0.0123 - mae: 0.0506\n",
      "Epoch 28/100\n",
      "740/740 [==============================] - 17s 23ms/step - loss: 0.0124 - mae: 0.0509\n",
      "Epoch 29/100\n",
      "740/740 [==============================] - 17s 23ms/step - loss: 0.0124 - mae: 0.0507\n",
      "Epoch 30/100\n",
      "740/740 [==============================] - 17s 23ms/step - loss: 0.0124 - mae: 0.0509\n",
      "Epoch 31/100\n",
      "740/740 [==============================] - 17s 23ms/step - loss: 0.0124 - mae: 0.0507\n",
      "Epoch 32/100\n",
      "740/740 [==============================] - 17s 23ms/step - loss: 0.0124 - mae: 0.0507\n",
      "Epoch 33/100\n",
      "740/740 [==============================] - 17s 23ms/step - loss: 0.0124 - mae: 0.0508\n",
      "Epoch 34/100\n",
      "740/740 [==============================] - 17s 23ms/step - loss: 0.0124 - mae: 0.0507\n",
      "Epoch 35/100\n",
      "740/740 [==============================] - 17s 24ms/step - loss: 0.0124 - mae: 0.0508\n",
      "Epoch 36/100\n",
      "740/740 [==============================] - 17s 23ms/step - loss: 0.0124 - mae: 0.0508\n",
      "Epoch 37/100\n",
      "740/740 [==============================] - 17s 23ms/step - loss: 0.0124 - mae: 0.0507\n",
      "Epoch 38/100\n",
      "740/740 [==============================] - 17s 23ms/step - loss: 0.0124 - mae: 0.0507\n",
      "Epoch 39/100\n",
      "740/740 [==============================] - 18s 24ms/step - loss: 0.0124 - mae: 0.0508\n",
      "Epoch 40/100\n",
      "740/740 [==============================] - 18s 24ms/step - loss: 0.0124 - mae: 0.0508\n",
      "Epoch 41/100\n",
      "740/740 [==============================] - 18s 24ms/step - loss: 0.0124 - mae: 0.0507\n",
      "Epoch 42/100\n",
      "740/740 [==============================] - 18s 24ms/step - loss: 0.0124 - mae: 0.0508\n",
      "Epoch 43/100\n",
      "740/740 [==============================] - 18s 24ms/step - loss: 0.0124 - mae: 0.0508\n",
      "Epoch 44/100\n",
      "740/740 [==============================] - 18s 24ms/step - loss: 0.0123 - mae: 0.0506\n",
      "Epoch 45/100\n",
      "740/740 [==============================] - 18s 24ms/step - loss: 0.0124 - mae: 0.0508\n",
      "Epoch 46/100\n",
      "740/740 [==============================] - 18s 24ms/step - loss: 0.0124 - mae: 0.0508\n",
      "Epoch 47/100\n",
      "740/740 [==============================] - 18s 24ms/step - loss: 0.0124 - mae: 0.0507\n",
      "Epoch 48/100\n",
      "740/740 [==============================] - 18s 24ms/step - loss: 0.0123 - mae: 0.0506\n",
      "Epoch 49/100\n",
      "740/740 [==============================] - 18s 24ms/step - loss: 0.0124 - mae: 0.0508\n",
      "Epoch 50/100\n",
      "740/740 [==============================] - 18s 24ms/step - loss: 0.0124 - mae: 0.0508\n",
      "Epoch 51/100\n",
      "740/740 [==============================] - 18s 24ms/step - loss: 0.0123 - mae: 0.0506\n",
      "Epoch 52/100\n",
      "740/740 [==============================] - 18s 24ms/step - loss: 0.0124 - mae: 0.0508\n",
      "Epoch 53/100\n",
      "740/740 [==============================] - 18s 24ms/step - loss: 0.0124 - mae: 0.0507\n",
      "Epoch 54/100\n",
      "740/740 [==============================] - 18s 24ms/step - loss: 0.0124 - mae: 0.0508\n",
      "Epoch 55/100\n",
      "740/740 [==============================] - 18s 24ms/step - loss: 0.0123 - mae: 0.0506\n",
      "Epoch 56/100\n",
      "740/740 [==============================] - 18s 24ms/step - loss: 0.0124 - mae: 0.0508\n",
      "Epoch 57/100\n",
      "740/740 [==============================] - 18s 24ms/step - loss: 0.0125 - mae: 0.0508\n",
      "Epoch 58/100\n",
      "740/740 [==============================] - 18s 24ms/step - loss: 0.0124 - mae: 0.0507\n",
      "Epoch 59/100\n",
      "740/740 [==============================] - 18s 24ms/step - loss: 0.0124 - mae: 0.0507\n",
      "Epoch 60/100\n",
      "740/740 [==============================] - 18s 24ms/step - loss: 0.0124 - mae: 0.0508\n",
      "Epoch 61/100\n",
      "740/740 [==============================] - 18s 24ms/step - loss: 0.0124 - mae: 0.0507\n",
      "Epoch 62/100\n",
      "740/740 [==============================] - 18s 24ms/step - loss: 0.0124 - mae: 0.0509\n",
      "Epoch 63/100\n",
      "740/740 [==============================] - 18s 24ms/step - loss: 0.0123 - mae: 0.0506\n",
      "Epoch 64/100\n",
      "740/740 [==============================] - 18s 24ms/step - loss: 0.0124 - mae: 0.0508\n",
      "Epoch 65/100\n",
      "740/740 [==============================] - 18s 24ms/step - loss: 0.0124 - mae: 0.0508\n",
      "Epoch 66/100\n",
      "740/740 [==============================] - 18s 24ms/step - loss: 0.0124 - mae: 0.0507\n",
      "Epoch 67/100\n",
      "740/740 [==============================] - 18s 24ms/step - loss: 0.0124 - mae: 0.0508\n",
      "Epoch 68/100\n",
      "740/740 [==============================] - 18s 24ms/step - loss: 0.0124 - mae: 0.0509\n",
      "Epoch 69/100\n",
      "740/740 [==============================] - 18s 24ms/step - loss: 0.0124 - mae: 0.0507\n",
      "Epoch 70/100\n",
      "740/740 [==============================] - 18s 24ms/step - loss: 0.0124 - mae: 0.0507\n",
      "Epoch 71/100\n",
      "740/740 [==============================] - 18s 24ms/step - loss: 0.0124 - mae: 0.0507\n",
      "Epoch 72/100\n",
      "740/740 [==============================] - 18s 24ms/step - loss: 0.0124 - mae: 0.0508\n",
      "Epoch 73/100\n",
      "740/740 [==============================] - 18s 25ms/step - loss: 0.0124 - mae: 0.0508\n",
      "Epoch 74/100\n",
      "740/740 [==============================] - 18s 24ms/step - loss: 0.0124 - mae: 0.0508\n",
      "Epoch 75/100\n",
      "740/740 [==============================] - 18s 25ms/step - loss: 0.0124 - mae: 0.0508\n",
      "Epoch 76/100\n",
      "740/740 [==============================] - 18s 25ms/step - loss: 0.0123 - mae: 0.0507\n",
      "Epoch 77/100\n",
      "740/740 [==============================] - 18s 25ms/step - loss: 0.0124 - mae: 0.0507\n",
      "Epoch 78/100\n",
      "740/740 [==============================] - 18s 24ms/step - loss: 0.0125 - mae: 0.0509\n",
      "Epoch 79/100\n",
      "740/740 [==============================] - 18s 24ms/step - loss: 0.0124 - mae: 0.0507\n",
      "Epoch 80/100\n",
      "740/740 [==============================] - 18s 24ms/step - loss: 0.0124 - mae: 0.0507\n",
      "Epoch 81/100\n",
      "740/740 [==============================] - 18s 25ms/step - loss: 0.0124 - mae: 0.0509\n",
      "Epoch 82/100\n",
      "740/740 [==============================] - 19s 25ms/step - loss: 0.0124 - mae: 0.0508\n",
      "Epoch 83/100\n"
     ]
    },
    {
     "name": "stdout",
     "output_type": "stream",
     "text": [
      "740/740 [==============================] - 19s 25ms/step - loss: 0.0124 - mae: 0.0508\n",
      "Epoch 84/100\n",
      "740/740 [==============================] - 19s 25ms/step - loss: 0.0123 - mae: 0.0507\n",
      "Epoch 85/100\n",
      "740/740 [==============================] - 19s 26ms/step - loss: 0.0124 - mae: 0.0507\n",
      "Epoch 86/100\n",
      "740/740 [==============================] - 19s 25ms/step - loss: 0.0124 - mae: 0.0507\n",
      "Epoch 87/100\n",
      "740/740 [==============================] - 19s 25ms/step - loss: 0.0124 - mae: 0.0508\n",
      "Epoch 88/100\n",
      "740/740 [==============================] - 18s 25ms/step - loss: 0.0124 - mae: 0.0508\n",
      "Epoch 89/100\n",
      "740/740 [==============================] - 18s 24ms/step - loss: 0.0124 - mae: 0.0508\n",
      "Epoch 90/100\n",
      "740/740 [==============================] - 19s 26ms/step - loss: 0.0124 - mae: 0.0508\n",
      "Epoch 91/100\n",
      "740/740 [==============================] - 19s 25ms/step - loss: 0.0124 - mae: 0.0507\n",
      "Epoch 92/100\n",
      "740/740 [==============================] - 19s 25ms/step - loss: 0.0124 - mae: 0.0508\n",
      "Epoch 93/100\n",
      "740/740 [==============================] - 19s 25ms/step - loss: 0.0124 - mae: 0.0508\n",
      "Epoch 94/100\n",
      "740/740 [==============================] - 18s 25ms/step - loss: 0.0124 - mae: 0.0507\n",
      "Epoch 95/100\n",
      "740/740 [==============================] - 19s 25ms/step - loss: 0.0124 - mae: 0.0507\n",
      "Epoch 96/100\n",
      "740/740 [==============================] - 19s 25ms/step - loss: 0.0124 - mae: 0.0508\n",
      "Epoch 97/100\n",
      "740/740 [==============================] - 19s 25ms/step - loss: 0.0124 - mae: 0.0508 1s - lo\n",
      "Epoch 98/100\n",
      "740/740 [==============================] - 19s 25ms/step - loss: 0.0124 - mae: 0.0508\n",
      "Epoch 99/100\n",
      "740/740 [==============================] - 19s 25ms/step - loss: 0.0124 - mae: 0.0507\n",
      "Epoch 100/100\n",
      "740/740 [==============================] - 19s 26ms/step - loss: 0.0124 - mae: 0.0507\n"
     ]
    }
   ],
   "source": [
    "steps_per_epoch = image_data.samples//image_data.batch_size\n",
    "print (image_data.samples, image_data.batch_size, steps_per_epoch)\n",
    "# 23712 32 741 -> 데이터를 batch_size(32) 의 배수로 맞춰 준비해 주세요. \n",
    "\n",
    "assert(image_data.samples % image_data.batch_size == 0)  # 데이터가 32의 배수가 되지 않으면 model.fit()에서 에러가 발생합니다.\n",
    "\n",
    "learning_rate = LearningRateScheduler(lr_step_decay)\n",
    "\n",
    "history = model.fit(user_train_generator, epochs=100,\n",
    "                    steps_per_epoch=steps_per_epoch,\n",
    "                    callbacks = [learning_rate]\n",
    "                    )"
   ]
  },
  {
   "cell_type": "code",
   "execution_count": 16,
   "metadata": {},
   "outputs": [
    {
     "name": "stdout",
     "output_type": "stream",
     "text": [
      "Found 2638 images belonging to 1 classes.\n",
      "Found 2638 images belonging to 1 classes.\n"
     ]
    }
   ],
   "source": [
    "IMAGE_SHAPE = (80, 120)\n",
    "\n",
    "home_dir = os.getenv('HOME')+'/lfw'\n",
    "\n",
    "val_data_root = home_dir + '/data/val/input'\n",
    "val_label_root = home_dir + '/data/val/label'\n",
    "\n",
    "image_generator_val = tf.keras.preprocessing.image.ImageDataGenerator()\n",
    "label_generator_val = tf.keras.preprocessing.image.ImageDataGenerator()\n",
    "image_data_val = image_generator.flow_from_directory(str(val_data_root), class_mode=None, target_size=IMAGE_SHAPE, shuffle=False)\n",
    "label_data_val = label_generator.flow_from_directory(str(val_label_root), class_mode=None, target_size=IMAGE_SHAPE, shuffle=False)"
   ]
  },
  {
   "cell_type": "code",
   "execution_count": 17,
   "metadata": {},
   "outputs": [
    {
     "name": "stderr",
     "output_type": "stream",
     "text": [
      "/home/aiffel/anaconda3/envs/aiffel/lib/python3.7/site-packages/tensorflow/python/keras/engine/training.py:1877: UserWarning: `Model.evaluate_generator` is deprecated and will be removed in a future version. Please use `Model.evaluate`, which supports generators.\n",
      "  warnings.warn('`Model.evaluate_generator` is deprecated and '\n",
      "/home/aiffel/anaconda3/envs/aiffel/lib/python3.7/site-packages/ipykernel_launcher.py:14: RuntimeWarning: Mean of empty slice.\n",
      "  \n",
      "/home/aiffel/anaconda3/envs/aiffel/lib/python3.7/site-packages/ipykernel_launcher.py:15: RuntimeWarning: Mean of empty slice.\n",
      "  from ipykernel import kernelapp as app\n"
     ]
    },
    {
     "name": "stdout",
     "output_type": "stream",
     "text": [
      "0.01228115800768137 0.050760868936777115\n"
     ]
    }
   ],
   "source": [
    "user_val_generator = user_generation(image_data_val, label_data_val)\n",
    "mse, mae = model.evaluate_generator(user_val_generator, image_data_val.n // 32)\n",
    "print(mse, mae)"
   ]
  },
  {
   "cell_type": "markdown",
   "metadata": {},
   "source": [
    "### Epoch 10번"
   ]
  },
  {
   "cell_type": "code",
   "execution_count": 12,
   "metadata": {},
   "outputs": [
    {
     "data": {
      "image/png": "[encoded data removed]",
      "text/plain": [
       "<Figure size 432x288 with 1 Axes>"
      ]
     },
     "metadata": {
      "needs_background": "light"
     },
     "output_type": "display_data"
    }
   ],
   "source": [
    "# img test\n",
    "import cv2\n",
    "import matplotlib.pyplot as plt\n",
    "\n",
    "img = cv2.imread(val_data_root+'/img/eye_000010_l.png')\n",
    "plt.imshow(cv2.cvtColor(img, cv2.COLOR_BGR2RGB))\n",
    "plt.show()"
   ]
  },
  {
   "cell_type": "code",
   "execution_count": 13,
   "metadata": {},
   "outputs": [
    {
     "name": "stdout",
     "output_type": "stream",
     "text": [
      "[[[1.91395702e-05 3.29171507e-06]\n",
      "  [1.19999985e+02 7.99999237e+01]\n",
      "  [4.49719429e+01 2.97716103e+01]]]\n"
     ]
    }
   ],
   "source": [
    "np_inputs = np.expand_dims(cv2.resize(img, (120, 80)), axis=0)\n",
    "preds = model.predict(np_inputs/255., 1)\n",
    "\n",
    "repred = preds.reshape((1, 3, 2))\n",
    "repred[:,:,0] *= 120\n",
    "repred[:,:,1] *= 80\n",
    "print (repred)"
   ]
  },
  {
   "cell_type": "code",
   "execution_count": 14,
   "metadata": {},
   "outputs": [
    {
     "name": "stdout",
     "output_type": "stream",
     "text": [
      "[0. 0.]\n",
      "[120.  80.]\n",
      "[45. 30.]\n"
     ]
    },
    {
     "data": {
      "image/png": "[encoded data removed]",
      "text/plain": [
       "<Figure size 432x288 with 1 Axes>"
      ]
     },
     "metadata": {
      "needs_background": "light"
     },
     "output_type": "display_data"
    }
   ],
   "source": [
    "show = img.copy()\n",
    "for pt in repred[0]:\n",
    "    print (pt.round())\n",
    "    show = cv2.circle(show, tuple((pt*0.5).astype(int)), 3, (0,255,255), -1)\n",
    "\n",
    "plt.imshow(cv2.cvtColor(show, cv2.COLOR_BGR2RGB))\n",
    "plt.show()"
   ]
  },
  {
   "cell_type": "markdown",
   "metadata": {},
   "source": [
    "### Epoch 100번"
   ]
  },
  {
   "cell_type": "code",
   "execution_count": 18,
   "metadata": {},
   "outputs": [
    {
     "data": {
      "image/png": "[encoded data removed]",
      "text/plain": [
       "<Figure size 432x288 with 1 Axes>"
      ]
     },
     "metadata": {
      "needs_background": "light"
     },
     "output_type": "display_data"
    }
   ],
   "source": [
    "# img test\n",
    "import cv2\n",
    "import matplotlib.pyplot as plt\n",
    "\n",
    "img = cv2.imread(val_data_root+'/img/eye_000010_l.png')\n",
    "plt.imshow(cv2.cvtColor(img, cv2.COLOR_BGR2RGB))\n",
    "plt.show()"
   ]
  },
  {
   "cell_type": "code",
   "execution_count": 19,
   "metadata": {},
   "outputs": [
    {
     "name": "stdout",
     "output_type": "stream",
     "text": [
      "[[[3.0912381e-07 3.1093997e-08]\n",
      "  [1.2000000e+02 8.0000000e+01]\n",
      "  [4.6561630e+01 2.7211649e+01]]]\n"
     ]
    }
   ],
   "source": [
    "np_inputs = np.expand_dims(cv2.resize(img, (120, 80)), axis=0)\n",
    "preds = model.predict(np_inputs/255., 1)\n",
    "\n",
    "repred = preds.reshape((1, 3, 2))\n",
    "repred[:,:,0] *= 120\n",
    "repred[:,:,1] *= 80\n",
    "print (repred)"
   ]
  },
  {
   "cell_type": "code",
   "execution_count": 20,
   "metadata": {},
   "outputs": [
    {
     "name": "stdout",
     "output_type": "stream",
     "text": [
      "[0. 0.]\n",
      "[120.  80.]\n",
      "[47. 27.]\n"
     ]
    },
    {
     "data": {
      "image/png": "[encoded data removed]",
      "text/plain": [
       "<Figure size 432x288 with 1 Axes>"
      ]
     },
     "metadata": {
      "needs_background": "light"
     },
     "output_type": "display_data"
    }
   ],
   "source": [
    "show = img.copy()\n",
    "for pt in repred[0]:\n",
    "    print (pt.round())\n",
    "    show = cv2.circle(show, tuple((pt*0.5).astype(int)), 3, (0,255,255), -1)\n",
    "\n",
    "plt.imshow(cv2.cvtColor(show, cv2.COLOR_BGR2RGB))\n",
    "plt.show()"
   ]
  },
  {
   "cell_type": "markdown",
   "metadata": {},
   "source": [
    "### 당황한 눈"
   ]
  },
  {
   "cell_type": "code",
   "execution_count": 52,
   "metadata": {},
   "outputs": [],
   "source": [
    "import cv2\n",
    "import matplotlib.pyplot as plt\n",
    "import numpy as np"
   ]
  },
  {
   "cell_type": "code",
   "execution_count": 53,
   "metadata": {},
   "outputs": [
    {
     "ename": "error",
     "evalue": "OpenCV(4.5.1) /tmp/pip-req-build-hj027r8z/opencv/modules/imgproc/src/resize.cpp:4051: error: (-215:Assertion failed) !ssize.empty() in function 'resize'\n",
     "output_type": "error",
     "traceback": [
      "\u001b[0;31m---------------------------------------------------------------------------\u001b[0m",
      "\u001b[0;31merror\u001b[0m                                     Traceback (most recent call last)",
      "\u001b[0;32m<ipython-input-53-c50996f6de56>\u001b[0m in \u001b[0;36m<module>\u001b[0;34m\u001b[0m\n\u001b[1;32m      2\u001b[0m \u001b[0mmy_image_path\u001b[0m \u001b[0;34m=\u001b[0m \u001b[0mos\u001b[0m\u001b[0;34m.\u001b[0m\u001b[0mgetenv\u001b[0m\u001b[0;34m(\u001b[0m\u001b[0;34m'HOME'\u001b[0m\u001b[0;34m)\u001b[0m\u001b[0;34m+\u001b[0m\u001b[0;34m'./aiffel/emoji.jpg'\u001b[0m\u001b[0;34m\u001b[0m\u001b[0;34m\u001b[0m\u001b[0m\n\u001b[1;32m      3\u001b[0m \u001b[0mimg_bgr\u001b[0m \u001b[0;34m=\u001b[0m \u001b[0mcv2\u001b[0m\u001b[0;34m.\u001b[0m\u001b[0mimread\u001b[0m\u001b[0;34m(\u001b[0m\u001b[0mmy_image_path\u001b[0m\u001b[0;34m)\u001b[0m    \u001b[0;31m#- OpenCV로 이미지를 읽어서\u001b[0m\u001b[0;34m\u001b[0m\u001b[0;34m\u001b[0m\u001b[0m\n\u001b[0;32m----> 4\u001b[0;31m \u001b[0mimg_bgr\u001b[0m \u001b[0;34m=\u001b[0m \u001b[0mcv2\u001b[0m\u001b[0;34m.\u001b[0m\u001b[0mresize\u001b[0m\u001b[0;34m(\u001b[0m\u001b[0mimg_bgr\u001b[0m\u001b[0;34m,\u001b[0m \u001b[0;34m(\u001b[0m\u001b[0;36m240\u001b[0m\u001b[0;34m,\u001b[0m \u001b[0;36m360\u001b[0m\u001b[0;34m)\u001b[0m\u001b[0;34m)\u001b[0m    \u001b[0;31m# 640x360의 크기로 Resize\u001b[0m\u001b[0;34m\u001b[0m\u001b[0;34m\u001b[0m\u001b[0m\n\u001b[0m\u001b[1;32m      5\u001b[0m \u001b[0mimg_show\u001b[0m \u001b[0;34m=\u001b[0m \u001b[0mimg_bgr\u001b[0m\u001b[0;34m.\u001b[0m\u001b[0mcopy\u001b[0m\u001b[0;34m(\u001b[0m\u001b[0;34m)\u001b[0m      \u001b[0;31m#- 출력용 이미지 별도 보관\u001b[0m\u001b[0;34m\u001b[0m\u001b[0;34m\u001b[0m\u001b[0m\n\u001b[1;32m      6\u001b[0m \u001b[0mplt\u001b[0m\u001b[0;34m.\u001b[0m\u001b[0mimshow\u001b[0m\u001b[0;34m(\u001b[0m\u001b[0mimg_bgr\u001b[0m\u001b[0;34m)\u001b[0m\u001b[0;34m\u001b[0m\u001b[0;34m\u001b[0m\u001b[0m\n",
      "\u001b[0;31merror\u001b[0m: OpenCV(4.5.1) /tmp/pip-req-build-hj027r8z/opencv/modules/imgproc/src/resize.cpp:4051: error: (-215:Assertion failed) !ssize.empty() in function 'resize'\n"
     ]
    }
   ],
   "source": [
    "import os\n",
    "my_image_path = os.getenv('HOME')+'./aiffel/emoji.jpg'\n",
    "img_bgr = cv2.imread(my_image_path)    #- OpenCV로 이미지를 읽어서\n",
    "img_bgr = cv2.resize(img_bgr, (240, 360))    # 640x360의 크기로 Resize\n",
    "img_show = img_bgr.copy()      #- 출력용 이미지 별도 보관\n",
    "plt.imshow(img_bgr)\n",
    "plt.show()\n"
   ]
  },
  {
   "cell_type": "code",
   "execution_count": 39,
   "metadata": {},
   "outputs": [
    {
     "ename": "error",
     "evalue": "OpenCV(4.5.1) /tmp/pip-req-build-hj027r8z/opencv/modules/imgproc/src/color.cpp:182: error: (-215:Assertion failed) !_src.empty() in function 'cvtColor'\n",
     "output_type": "error",
     "traceback": [
      "\u001b[0;31m---------------------------------------------------------------------------\u001b[0m",
      "\u001b[0;31merror\u001b[0m                                     Traceback (most recent call last)",
      "\u001b[0;32m<ipython-input-39-48a8908205f0>\u001b[0m in \u001b[0;36m<module>\u001b[0;34m\u001b[0m\n\u001b[0;32m----> 1\u001b[0;31m \u001b[0mimg_rgb\u001b[0m \u001b[0;34m=\u001b[0m \u001b[0mcv2\u001b[0m\u001b[0;34m.\u001b[0m\u001b[0mcvtColor\u001b[0m\u001b[0;34m(\u001b[0m\u001b[0mimg_bgr\u001b[0m\u001b[0;34m,\u001b[0m \u001b[0mcv2\u001b[0m\u001b[0;34m.\u001b[0m\u001b[0mCOLOR_BGR2RGB\u001b[0m\u001b[0;34m)\u001b[0m\u001b[0;34m\u001b[0m\u001b[0;34m\u001b[0m\u001b[0m\n\u001b[0m\u001b[1;32m      2\u001b[0m \u001b[0mplt\u001b[0m\u001b[0;34m.\u001b[0m\u001b[0mimshow\u001b[0m\u001b[0;34m(\u001b[0m\u001b[0mimg_rgb\u001b[0m\u001b[0;34m)\u001b[0m\u001b[0;34m\u001b[0m\u001b[0;34m\u001b[0m\u001b[0m\n\u001b[1;32m      3\u001b[0m \u001b[0mplt\u001b[0m\u001b[0;34m.\u001b[0m\u001b[0mshow\u001b[0m\u001b[0;34m(\u001b[0m\u001b[0;34m)\u001b[0m\u001b[0;34m\u001b[0m\u001b[0;34m\u001b[0m\u001b[0m\n",
      "\u001b[0;31merror\u001b[0m: OpenCV(4.5.1) /tmp/pip-req-build-hj027r8z/opencv/modules/imgproc/src/color.cpp:182: error: (-215:Assertion failed) !_src.empty() in function 'cvtColor'\n"
     ]
    }
   ],
   "source": [
    "img_rgb = cv2.cvtColor(img_bgr, cv2.COLOR_BGR2RGB)\n",
    "plt.imshow(img_rgb)\n",
    "plt.show()"
   ]
  },
  {
   "cell_type": "markdown",
   "metadata": {},
   "source": [
    "# 루브릭"
   ]
  },
  {
   "cell_type": "markdown",
   "metadata": {},
   "source": [
    "1. mean-shift를 활용하여 눈동자 검출 라벨링 추가작업을 원활히 진행하였다.\n",
    " - 눈이미지-라벨이미지 쌍의 추가데이터셋을 10000건 이상 충분히 확보하였다.\n",
    "2. 눈동자 키포인트 검출 딥러닝 모델이 구현되어 안정적으로 학습이 진행되었다.\n",
    " - pretrained model 기반의 딥러닝 모델의 트레이닝 loss가 안정적으로 감소함을 확인하였다.\n",
    "3. 모델이 검출한 눈 위치에 당황한 표정효과 눈 이미지를 합성한 이미지를 생성하였다.\n",
    " - 사람 얼굴 이미지에서 딥러닝 모델로 눈동자 키포인트를 검출하여 눈 이미지를 자연스럽게 합성한 결과이미지를 생성하였다."
   ]
  },
  {
   "cell_type": "markdown",
   "metadata": {},
   "source": []
  }
 ],
 "metadata": {
  "kernelspec": {
   "display_name": "aiffel",
   "language": "python",
   "name": "datascience"
  },
  "language_info": {
   "codemirror_mode": {
    "name": "ipython",
    "version": 3
   },
   "file_extension": ".py",
   "mimetype": "text/x-python",
   "name": "python",
   "nbconvert_exporter": "python",
   "pygments_lexer": "ipython3",
   "version": "3.7.10"
  }
 },
 "nbformat": 4,
 "nbformat_minor": 4
}
