{
 "cells": [
  {
   "cell_type": "markdown",
   "metadata": {},
   "source": [
    "# [E4] 4th project NAVER Movie Review\n",
    "1. 네이버리뷰\n",
    " - 데이터 전처리\n",
    " - LSTM (RNN)\n",
    " - CNN\n",
    " - MaxPooling\n",
    "2. gensim Word2Vec 불러오기 \n",
    "3. Word2Vec 학습하기\n",
    "4. 결론\n"
   ]
  },
  {
   "cell_type": "markdown",
   "metadata": {},
   "source": [
    "# 1. 네이버 리뷰"
   ]
  },
  {
   "cell_type": "code",
   "execution_count": 1,
   "metadata": {},
   "outputs": [],
   "source": [
    "# 패키지를 불러오기\n",
    "import pandas as pd\n",
    "import urllib.request\n",
    "%matplotlib inline\n",
    "import matplotlib.pyplot as plt\n",
    "import re\n",
    "from konlpy.tag import Okt\n",
    "from tensorflow import keras\n",
    "from tensorflow.keras.preprocessing.text import Tokenizer\n",
    "import numpy as np\n",
    "from tensorflow.keras.preprocessing.sequence import pad_sequences\n",
    "from collections import Counter\n",
    "from tensorflow.keras.layers import Embedding, Dense, LSTM\n",
    "from tensorflow.keras.models import Sequential\n",
    "from tensorflow.keras.models import load_model\n",
    "from tensorflow.keras.callbacks import EarlyStopping, ModelCheckpoint\n",
    "import os\n",
    "from gensim.models.keyedvectors import Word2VecKeyedVectors\n",
    "from tensorflow.keras.initializers import Constant\n",
    "from konlpy.tag import Mecab\n",
    "\n",
    "from gensim.models import KeyedVectors\n",
    "import os\n",
    "import gensim"
   ]
  },
  {
   "cell_type": "code",
   "execution_count": 2,
   "metadata": {},
   "outputs": [
    {
     "name": "stdout",
     "output_type": "stream",
     "text": [
      "테스트용 리뷰 개수 : 50000\n",
      "훈련용 리뷰 개수 : 150000\n"
     ]
    },
    {
     "data": {
      "text/html": [
       "<div>\n",
       "<style scoped>\n",
       "    .dataframe tbody tr th:only-of-type {\n",
       "        vertical-align: middle;\n",
       "    }\n",
       "\n",
       "    .dataframe tbody tr th {\n",
       "        vertical-align: top;\n",
       "    }\n",
       "\n",
       "    .dataframe thead th {\n",
       "        text-align: right;\n",
       "    }\n",
       "</style>\n",
       "<table border=\"1\" class=\"dataframe\">\n",
       "  <thead>\n",
       "    <tr style=\"text-align: right;\">\n",
       "      <th></th>\n",
       "      <th>id</th>\n",
       "      <th>document</th>\n",
       "      <th>label</th>\n",
       "    </tr>\n",
       "  </thead>\n",
       "  <tbody>\n",
       "    <tr>\n",
       "      <th>0</th>\n",
       "      <td>9976970</td>\n",
       "      <td>아 더빙.. 진짜 짜증나네요 목소리</td>\n",
       "      <td>0</td>\n",
       "    </tr>\n",
       "    <tr>\n",
       "      <th>1</th>\n",
       "      <td>3819312</td>\n",
       "      <td>흠...포스터보고 초딩영화줄....오버연기조차 가볍지 않구나</td>\n",
       "      <td>1</td>\n",
       "    </tr>\n",
       "    <tr>\n",
       "      <th>2</th>\n",
       "      <td>10265843</td>\n",
       "      <td>너무재밓었다그래서보는것을추천한다</td>\n",
       "      <td>0</td>\n",
       "    </tr>\n",
       "    <tr>\n",
       "      <th>3</th>\n",
       "      <td>9045019</td>\n",
       "      <td>교도소 이야기구먼 ..솔직히 재미는 없다..평점 조정</td>\n",
       "      <td>0</td>\n",
       "    </tr>\n",
       "    <tr>\n",
       "      <th>4</th>\n",
       "      <td>6483659</td>\n",
       "      <td>사이몬페그의 익살스런 연기가 돋보였던 영화!스파이더맨에서 늙어보이기만 했던 커스틴 ...</td>\n",
       "      <td>1</td>\n",
       "    </tr>\n",
       "  </tbody>\n",
       "</table>\n",
       "</div>"
      ],
      "text/plain": [
       "         id                                           document  label\n",
       "0   9976970                                아 더빙.. 진짜 짜증나네요 목소리      0\n",
       "1   3819312                  흠...포스터보고 초딩영화줄....오버연기조차 가볍지 않구나      1\n",
       "2  10265843                                  너무재밓었다그래서보는것을추천한다      0\n",
       "3   9045019                      교도소 이야기구먼 ..솔직히 재미는 없다..평점 조정      0\n",
       "4   6483659  사이몬페그의 익살스런 연기가 돋보였던 영화!스파이더맨에서 늙어보이기만 했던 커스틴 ...      1"
      ]
     },
     "execution_count": 2,
     "metadata": {},
     "output_type": "execute_result"
    }
   ],
   "source": [
    "# 데이터를 읽어봅시다. 네이버리뷰 미리 다운받은 데이터\n",
    "train_data = pd.read_table('~/aiffel/sentiment_classification/ratings_train.txt')\n",
    "test_data = pd.read_table('~/aiffel/sentiment_classification/ratings_test.txt')\n",
    "\n",
    "print('테스트용 리뷰 개수 :',len(test_data)) # 테스트용 리뷰 개수 출력\n",
    "print('훈련용 리뷰 개수 :',len(train_data)) # 훈련용 리뷰 개수 출력\n",
    "\n",
    "# 데이터를 몇개만 출력해보자\n",
    "train_data.head() # 훈련용 데이터 헤드 "
   ]
  },
  {
   "cell_type": "code",
   "execution_count": 3,
   "metadata": {},
   "outputs": [
    {
     "data": {
      "text/plain": [
       "(146182, 2)"
      ]
     },
     "execution_count": 3,
     "metadata": {},
     "output_type": "execute_result"
    }
   ],
   "source": [
    "# 훈련용 데이터 document와 label 개수를 호가인해보자.\n",
    "train_data['document'].nunique(), train_data['label'].nunique()"
   ]
  },
  {
   "cell_type": "code",
   "execution_count": 4,
   "metadata": {},
   "outputs": [
    {
     "name": "stdout",
     "output_type": "stream",
     "text": [
      "총 샘플의 수 : 146183\n"
     ]
    }
   ],
   "source": [
    "# 데이터 중복 확인\n",
    "#훈련용 데이터 150000 개 중에 146182를 뺀 3818개가 document에서 중복\n",
    "#훈련용 데이터 labeL 0과 1만 가지므로 2가 출력됨. \n",
    "train_data.drop_duplicates(subset=['document'], inplace=True) \n",
    "print('총 샘플의 수 :',len(train_data))"
   ]
  },
  {
   "cell_type": "code",
   "execution_count": 5,
   "metadata": {},
   "outputs": [
    {
     "name": "stdout",
     "output_type": "stream",
     "text": [
      "True\n",
      "id          0\n",
      "document    1\n",
      "label       0\n",
      "dtype: int64\n",
      "False\n",
      "146182\n",
      "id          0\n",
      "document    0\n",
      "label       0\n",
      "dtype: int64\n",
      "146182\n"
     ]
    }
   ],
   "source": [
    "# 데이터 중복 제거\n",
    "#document 열에서 중복인 내용 제거 후 총 샘플 수 확인\n",
    "# null값 확인\n",
    "print(train_data.isnull().values.any())\n",
    "print(train_data.isnull().sum())\n",
    "train_data.loc[train_data.document.isnull()]\n",
    "train_data = train_data.dropna(how = 'any') # Null 값이 존재하는 행 제거\n",
    "print(train_data.isnull().values.any()) # Null 값이 존재하는지 확인\n",
    "print(len(train_data))\n",
    "\n",
    "train_data['document'].replace('', np.nan, inplace=True)\n",
    "print(train_data.isnull().sum())\n",
    "train_data = train_data.dropna(how = 'any')\n",
    "print(len(train_data))"
   ]
  },
  {
   "cell_type": "code",
   "execution_count": 6,
   "metadata": {},
   "outputs": [],
   "source": [
    "#train_data['document'] = train_data['document'].str.replace(\"[^ㄱ-ㅎㅏ-ㅣ가-힣 ]\",\"\")\n",
    "# 한글과 공백을 제외하고 모두 제거\n",
    "#train_data[:5]"
   ]
  },
  {
   "cell_type": "code",
   "execution_count": 7,
   "metadata": {},
   "outputs": [],
   "source": [
    "# 테스트 데이터도 동일하게 제거를 하자\n",
    "#test_data.drop_duplicates(subset = ['document'], inplace=True) # document 열에서 중복인 내용이 있다면 중복 제거\n",
    "#test_data['document'] = test_data['document'].str.replace(\"[^ㄱ-ㅎㅏ-ㅣ가-힣 ]\",\"\") # 정규 표현식 수행\n",
    "#test_data['document'].replace('', np.nan, inplace=True) # 공백은 Null 값으로 변경\n",
    "#test_data = test_data.dropna(how='any') # Null 값 제거\n",
    "#print('전처리 후 테스트용 샘플의 개수 :',len(test_data))"
   ]
  },
  {
   "cell_type": "code",
   "execution_count": 8,
   "metadata": {},
   "outputs": [
    {
     "name": "stdout",
     "output_type": "stream",
     "text": [
      "훈련 샘플 개수: 146182, 테스트 개수: 49157\n"
     ]
    }
   ],
   "source": [
    "\n",
    "tokenizer = Mecab()\n",
    "stopwords = ['의','가','이','은','들','는','좀','잘','걍','과','도','를','으로','자','에','와','한','하다']\n",
    "\n",
    "def load_data(train_data, test_data, num_words=10000):\n",
    "    train_data.drop_duplicates(subset=['document'], inplace=True)\n",
    "    train_data = train_data.dropna(how = 'any') \n",
    "    test_data.drop_duplicates(subset=['document'], inplace=True)\n",
    "    test_data = test_data.dropna(how = 'any') \n",
    "\n",
    "    X_train = []\n",
    "    for sentence in train_data['document']:\n",
    "        temp_X = tokenizer.morphs(sentence) # 토큰화\n",
    "        temp_X = [word for word in temp_X if not word in stopwords] # 불용어 제거\n",
    "        X_train.append(temp_X)\n",
    "\n",
    "    X_test = []\n",
    "    for sentence in test_data['document']:\n",
    "        temp_X = tokenizer.morphs(sentence) # 토큰화\n",
    "        temp_X = [word for word in temp_X if not word in stopwords] # 불용어 제거\n",
    "        X_test.append(temp_X)\n",
    "\n",
    "    words = np.concatenate(X_train).tolist()\n",
    "    counter = Counter(words)\n",
    "    counter = counter.most_common(10000-4)\n",
    "    vocab = ['<PAD>', '<BOS>', '<UNK>', '<UNUSED>'] + [key for key, _ in counter]\n",
    "    word_to_index = {word:index for index, word in enumerate(vocab)}\n",
    "\n",
    "    def wordlist_to_indexlist(wordlist):\n",
    "        return [word_to_index[word] if word in word_to_index else word_to_index['<UNK>'] for word in wordlist]\n",
    "\n",
    "    X_train = list(map(wordlist_to_indexlist, X_train))\n",
    "    X_test = list(map(wordlist_to_indexlist, X_test))\n",
    "\n",
    "    return X_train, np.array(list(train_data['label'])), X_test, np.array(list(test_data['label'])), word_to_index\n",
    "\n",
    "X_train, y_train, X_test, y_test, word_to_index = load_data(train_data, test_data)\n",
    "print(\"훈련 샘플 개수: {}, 테스트 개수: {}\".format(len(X_train), len(X_test)))"
   ]
  },
  {
   "cell_type": "code",
   "execution_count": 9,
   "metadata": {},
   "outputs": [
    {
     "data": {
      "text/html": [
       "<div>\n",
       "<style scoped>\n",
       "    .dataframe tbody tr th:only-of-type {\n",
       "        vertical-align: middle;\n",
       "    }\n",
       "\n",
       "    .dataframe tbody tr th {\n",
       "        vertical-align: top;\n",
       "    }\n",
       "\n",
       "    .dataframe thead th {\n",
       "        text-align: right;\n",
       "    }\n",
       "</style>\n",
       "<table border=\"1\" class=\"dataframe\">\n",
       "  <thead>\n",
       "    <tr style=\"text-align: right;\">\n",
       "      <th></th>\n",
       "      <th>id</th>\n",
       "      <th>document</th>\n",
       "      <th>label</th>\n",
       "    </tr>\n",
       "  </thead>\n",
       "  <tbody>\n",
       "    <tr>\n",
       "      <th>0</th>\n",
       "      <td>9976970</td>\n",
       "      <td>아 더빙.. 진짜 짜증나네요 목소리</td>\n",
       "      <td>0</td>\n",
       "    </tr>\n",
       "    <tr>\n",
       "      <th>1</th>\n",
       "      <td>3819312</td>\n",
       "      <td>흠...포스터보고 초딩영화줄....오버연기조차 가볍지 않구나</td>\n",
       "      <td>1</td>\n",
       "    </tr>\n",
       "    <tr>\n",
       "      <th>2</th>\n",
       "      <td>10265843</td>\n",
       "      <td>너무재밓었다그래서보는것을추천한다</td>\n",
       "      <td>0</td>\n",
       "    </tr>\n",
       "    <tr>\n",
       "      <th>3</th>\n",
       "      <td>9045019</td>\n",
       "      <td>교도소 이야기구먼 ..솔직히 재미는 없다..평점 조정</td>\n",
       "      <td>0</td>\n",
       "    </tr>\n",
       "    <tr>\n",
       "      <th>4</th>\n",
       "      <td>6483659</td>\n",
       "      <td>사이몬페그의 익살스런 연기가 돋보였던 영화!스파이더맨에서 늙어보이기만 했던 커스틴 ...</td>\n",
       "      <td>1</td>\n",
       "    </tr>\n",
       "  </tbody>\n",
       "</table>\n",
       "</div>"
      ],
      "text/plain": [
       "         id                                           document  label\n",
       "0   9976970                                아 더빙.. 진짜 짜증나네요 목소리      0\n",
       "1   3819312                  흠...포스터보고 초딩영화줄....오버연기조차 가볍지 않구나      1\n",
       "2  10265843                                  너무재밓었다그래서보는것을추천한다      0\n",
       "3   9045019                      교도소 이야기구먼 ..솔직히 재미는 없다..평점 조정      0\n",
       "4   6483659  사이몬페그의 익살스런 연기가 돋보였던 영화!스파이더맨에서 늙어보이기만 했던 커스틴 ...      1"
      ]
     },
     "execution_count": 9,
     "metadata": {},
     "output_type": "execute_result"
    }
   ],
   "source": [
    "train_data[:5]"
   ]
  },
  {
   "cell_type": "markdown",
   "metadata": {},
   "source": [
    "# 빈샘플 제거"
   ]
  },
  {
   "cell_type": "code",
   "execution_count": 10,
   "metadata": {},
   "outputs": [],
   "source": [
    "#drop_train = [index for index, sentence in enumerate(X_train) if len(sentence) < 1]\n",
    "\n",
    "# 빈 샘플들을 제거\n",
    "#X_train = np.delete(X_train, drop_train, axis=0)\n",
    "#y_train = np.delete(y_train, drop_train, axis=0)\n",
    "\n",
    "#print(len(X_train))\n",
    "#print(len(y_train))"
   ]
  },
  {
   "cell_type": "markdown",
   "metadata": {},
   "source": [
    "# 패딩"
   ]
  },
  {
   "cell_type": "code",
   "execution_count": 11,
   "metadata": {},
   "outputs": [
    {
     "name": "stdout",
     "output_type": "stream",
     "text": [
      "리뷰의 최대 길이 : 116\n",
      "리뷰의 평균 길이 : 15.981694052619337\n"
     ]
    },
    {
     "data": {
      "image/png": "[encoded data removed]",
      "text/plain": [
       "<Figure size 432x288 with 1 Axes>"
      ]
     },
     "metadata": {
      "needs_background": "light"
     },
     "output_type": "display_data"
    },
    {
     "name": "stdout",
     "output_type": "stream",
     "text": [
      "전체 샘플 중 길이가 30 이하인 샘플의 비율: 88.54510131206304\n"
     ]
    }
   ],
   "source": [
    "print('리뷰의 최대 길이 :',max(len(l) for l in X_train))\n",
    "print('리뷰의 평균 길이 :',sum(map(len, X_train))/len(X_train))\n",
    "plt.hist([len(s) for s in X_train], bins=50)\n",
    "plt.xlabel('length of samples')\n",
    "plt.ylabel('number of samples')\n",
    "plt.show()\n",
    "\n",
    "def below_threshold_len(max_len, nested_list):\n",
    "  cnt = 0\n",
    "  for s in nested_list:\n",
    "    if(len(s) <= max_len):\n",
    "        cnt = cnt + 1\n",
    "  print('전체 샘플 중 길이가 %s 이하인 샘플의 비율: %s'%(max_len, (cnt / len(nested_list))*100))\n",
    "\n",
    "max_len = 30\n",
    "below_threshold_len(max_len, X_train)\n",
    "\n",
    "X_train = pad_sequences(X_train, padding='pre', maxlen = max_len)\n",
    "X_test = pad_sequences(X_test, padding='pre', maxlen = max_len)\n",
    "\n",
    "index_to_word = {index:word for word, index in word_to_index.items()}\n"
   ]
  },
  {
   "cell_type": "markdown",
   "metadata": {},
   "source": [
    "# LSTM 분류하기"
   ]
  },
  {
   "cell_type": "code",
   "execution_count": 12,
   "metadata": {},
   "outputs": [
    {
     "name": "stdout",
     "output_type": "stream",
     "text": [
      "Model: \"sequential\"\n",
      "_________________________________________________________________\n",
      "Layer (type)                 Output Shape              Param #   \n",
      "=================================================================\n",
      "embedding (Embedding)        (None, None, 16)          160000    \n",
      "_________________________________________________________________\n",
      "lstm (LSTM)                  (None, 64)                20736     \n",
      "_________________________________________________________________\n",
      "dense (Dense)                (None, 8)                 520       \n",
      "_________________________________________________________________\n",
      "dense_1 (Dense)              (None, 1)                 9         \n",
      "=================================================================\n",
      "Total params: 181,265\n",
      "Trainable params: 181,265\n",
      "Non-trainable params: 0\n",
      "_________________________________________________________________\n",
      "Epoch 1/15\n",
      "1950/1950 [==============================] - 7s 4ms/step - loss: 0.4071 - accuracy: 0.8139 - val_loss: 0.3788 - val_accuracy: 0.8308\n",
      "Epoch 2/15\n",
      "1950/1950 [==============================] - 7s 3ms/step - loss: 0.3395 - accuracy: 0.8528 - val_loss: 0.3470 - val_accuracy: 0.8496\n",
      "Epoch 3/15\n",
      "1950/1950 [==============================] - 7s 3ms/step - loss: 0.3173 - accuracy: 0.8633 - val_loss: 0.3249 - val_accuracy: 0.8610\n",
      "Epoch 4/15\n",
      "1950/1950 [==============================] - 6s 3ms/step - loss: 0.3029 - accuracy: 0.8718 - val_loss: 0.3224 - val_accuracy: 0.8615\n",
      "Epoch 5/15\n",
      "1950/1950 [==============================] - 6s 3ms/step - loss: 0.2919 - accuracy: 0.8772 - val_loss: 0.3303 - val_accuracy: 0.8613\n",
      "Epoch 6/15\n",
      "1950/1950 [==============================] - 7s 3ms/step - loss: 0.2833 - accuracy: 0.8821 - val_loss: 0.3188 - val_accuracy: 0.8631\n",
      "Epoch 7/15\n",
      "1950/1950 [==============================] - 6s 3ms/step - loss: 0.2756 - accuracy: 0.8857 - val_loss: 0.3175 - val_accuracy: 0.8639\n",
      "Epoch 8/15\n",
      "1950/1950 [==============================] - 6s 3ms/step - loss: 0.2687 - accuracy: 0.8886 - val_loss: 0.3144 - val_accuracy: 0.8677\n",
      "Epoch 9/15\n",
      "1950/1950 [==============================] - 6s 3ms/step - loss: 0.2633 - accuracy: 0.8917 - val_loss: 0.3142 - val_accuracy: 0.8671\n",
      "Epoch 10/15\n",
      "1950/1950 [==============================] - 7s 3ms/step - loss: 0.2577 - accuracy: 0.8945 - val_loss: 0.3261 - val_accuracy: 0.8686\n",
      "Epoch 11/15\n",
      "1950/1950 [==============================] - 7s 3ms/step - loss: 0.2522 - accuracy: 0.8973 - val_loss: 0.3142 - val_accuracy: 0.8676\n",
      "Epoch 12/15\n",
      "1950/1950 [==============================] - 6s 3ms/step - loss: 0.2470 - accuracy: 0.8998 - val_loss: 0.3208 - val_accuracy: 0.8683\n",
      "Epoch 13/15\n",
      "1950/1950 [==============================] - 7s 3ms/step - loss: 0.2424 - accuracy: 0.9018 - val_loss: 0.3239 - val_accuracy: 0.8688\n",
      "Epoch 14/15\n",
      "1950/1950 [==============================] - 6s 3ms/step - loss: 0.2377 - accuracy: 0.9043 - val_loss: 0.3170 - val_accuracy: 0.8650\n",
      "Epoch 15/15\n",
      "1950/1950 [==============================] - 6s 3ms/step - loss: 0.2328 - accuracy: 0.9063 - val_loss: 0.3370 - val_accuracy: 0.8655\n",
      "1537/1537 - 2s - loss: 0.3420 - accuracy: 0.8599\n",
      "[0.34195318818092346, 0.8598978519439697]\n"
     ]
    }
   ],
   "source": [
    "vocab_size = 10000  # 어휘 사전의 크기입니다(10개의 단어), 위에서 사이즈가 정해져 있으므로 생략\n",
    "word_vector_dim = 16  # 단어 하나를 표현하는 임베딩 벡터의 차원수입니다. \n",
    "\n",
    "model_LSTM = Sequential()\n",
    "model_LSTM.add(Embedding(vocab_size, word_vector_dim))\n",
    "model_LSTM.add(LSTM(64))\n",
    "model_LSTM.add(Dense(8, activation='relu'))\n",
    "model_LSTM.add(Dense(1, activation='sigmoid'))\n",
    "model_LSTM.summary()\n",
    "\n",
    "epochs=15\n",
    "\n",
    "model_LSTM.compile(optimizer='rmsprop', loss='binary_crossentropy', metrics=['accuracy'])\n",
    "# validation 0.2 (20%설정)\n",
    "history = model_LSTM.fit(X_train, y_train, epochs=epochs, batch_size=60, validation_split=0.2)\n",
    "\n",
    "results = model_LSTM.evaluate(X_test,  y_test, verbose=2)\n",
    "print(results)"
   ]
  },
  {
   "cell_type": "code",
   "execution_count": 13,
   "metadata": {},
   "outputs": [
    {
     "name": "stdout",
     "output_type": "stream",
     "text": [
      "dict_keys(['loss', 'accuracy', 'val_loss', 'val_accuracy'])\n"
     ]
    },
    {
     "data": {
      "image/png": "[encoded data removed]",
      "text/plain": [
       "<Figure size 432x288 with 1 Axes>"
      ]
     },
     "metadata": {
      "needs_background": "light"
     },
     "output_type": "display_data"
    },
    {
     "data": {
      "image/png": "[encoded data removed]",
      "text/plain": [
       "<Figure size 432x288 with 1 Axes>"
      ]
     },
     "metadata": {
      "needs_background": "light"
     },
     "output_type": "display_data"
    }
   ],
   "source": [
    "history_dict = history.history\n",
    "print(history_dict.keys()) # epoch에 따른 그래프를 그려볼 수 있는 항목들\n",
    "\n",
    "import matplotlib.pyplot as plt\n",
    "\n",
    "acc = history_dict['accuracy']\n",
    "val_acc = history_dict['val_accuracy']\n",
    "loss = history_dict['loss']\n",
    "val_loss = history_dict['val_loss']\n",
    "\n",
    "epochs = range(1, len(acc) + 1)\n",
    "\n",
    "# \"bo\"는 \"파란색 점\"입니다\n",
    "plt.plot(epochs, loss, 'bo', label='Training loss')\n",
    "# b는 \"파란 실선\"입니다\n",
    "plt.plot(epochs, val_loss, 'b', label='Validation loss')\n",
    "plt.title('Training and validation loss')\n",
    "plt.xlabel('Epochs')\n",
    "plt.ylabel('Loss')\n",
    "plt.legend()\n",
    "\n",
    "plt.show()\n",
    "\n",
    "plt.clf()   # 그림을 초기화합니다\n",
    "\n",
    "plt.plot(epochs, acc, 'bo', label='Training accuracy')\n",
    "plt.plot(epochs, val_acc, 'b', label='Validation accuracy')\n",
    "plt.title('Training and validation accuracy')\n",
    "plt.xlabel('Epochs')\n",
    "plt.ylabel('Accuracy')\n",
    "plt.legend()\n",
    "\n",
    "plt.show()"
   ]
  },
  {
   "cell_type": "markdown",
   "metadata": {},
   "source": [
    "# 학습된 임베딩 벡터 저장"
   ]
  },
  {
   "cell_type": "code",
   "execution_count": 14,
   "metadata": {},
   "outputs": [
    {
     "data": {
      "text/plain": [
       "[('귀여운', 0.9838551878929138),\n",
       " ('젊', 0.9715663194656372),\n",
       " ('위트', 0.9704916477203369),\n",
       " ('기발', 0.9695026874542236),\n",
       " ('알파치노', 0.9683853387832642),\n",
       " ('통쾌', 0.9683669209480286),\n",
       " ('울', 0.96725994348526),\n",
       " ('웰메이드', 0.9660279154777527),\n",
       " ('귀엽', 0.9641057848930359),\n",
       " ('만점', 0.9633206129074097)]"
      ]
     },
     "execution_count": 14,
     "metadata": {},
     "output_type": "execute_result"
    }
   ],
   "source": [
    "# 학습한 Embedding 파라미터를 파일에 써서 저장합니다. \n",
    "word2vec_file_path = os.getenv('HOME')+'/aiffel/ko/word2vec_ko_LSTM.txt'\n",
    "f = open(word2vec_file_path, 'w')\n",
    "f.write('{} {}\\n'.format(vocab_size-4, word_vector_dim))  # 몇개의 벡터를 얼마 사이즈로 기재할지 타이틀을 씁니다.\n",
    "#vocab_size\n",
    "\n",
    "# 단어 개수(에서 특수문자 4개는 제외하고)만큼의 워드 벡터를 파일에 기록합니다. \n",
    "vectors = model_LSTM.get_weights()[0]\n",
    "for i in range(4,vocab_size): #vocab_size\n",
    "    f.write('{} {}\\n'.format(index_to_word[i], ' '.join(map(str, list(vectors[i, :])))))\n",
    "f.close()\n",
    "\n",
    "word_vectors = Word2VecKeyedVectors.load_word2vec_format(word2vec_file_path, binary=False)\n",
    "word_vectors.similar_by_word(\"사랑\")"
   ]
  },
  {
   "cell_type": "markdown",
   "metadata": {},
   "source": [
    "# 사전학습 데이터 활용"
   ]
  },
  {
   "cell_type": "code",
   "execution_count": 15,
   "metadata": {},
   "outputs": [
    {
     "name": "stderr",
     "output_type": "stream",
     "text": [
      "/home/aiffel/anaconda3/envs/aiffel/lib/python3.7/site-packages/ipykernel_launcher.py:7: DeprecationWarning: Call to deprecated `similar_by_word` (Method will be removed in 4.0.0, use self.wv.similar_by_word() instead).\n",
      "  import sys\n"
     ]
    },
    {
     "data": {
      "text/plain": [
       "[('슬픔', 0.7216663360595703),\n",
       " ('행복', 0.6759077310562134),\n",
       " ('절망', 0.6468985676765442),\n",
       " ('기쁨', 0.6458414793014526),\n",
       " ('이별', 0.6334798336029053),\n",
       " ('추억', 0.6320937871932983),\n",
       " ('인생', 0.6216273307800293),\n",
       " ('애정', 0.6206068992614746),\n",
       " ('연인', 0.6186063289642334),\n",
       " ('유혹', 0.5965287685394287)]"
      ]
     },
     "execution_count": 15,
     "metadata": {},
     "output_type": "execute_result"
    }
   ],
   "source": [
    "from gensim.models import KeyedVectors\n",
    "import os\n",
    "import gensim\n",
    "\n",
    "ko_model = gensim.models.Word2Vec.load('~/aiffel/ko/ko.bin')\n",
    "word2vec = ko_model\n",
    "word2vec.similar_by_word(\"사랑\")"
   ]
  },
  {
   "cell_type": "markdown",
   "metadata": {},
   "source": [
    "# LSTM + 사전학습 word2vec"
   ]
  },
  {
   "cell_type": "code",
   "execution_count": 17,
   "metadata": {},
   "outputs": [
    {
     "name": "stdout",
     "output_type": "stream",
     "text": [
      "ok\n"
     ]
    },
    {
     "name": "stderr",
     "output_type": "stream",
     "text": [
      "/home/aiffel/anaconda3/envs/aiffel/lib/python3.7/site-packages/ipykernel_launcher.py:8: DeprecationWarning: Call to deprecated `__contains__` (Method will be removed in 4.0.0, use self.wv.__contains__() instead).\n",
      "  \n",
      "/home/aiffel/anaconda3/envs/aiffel/lib/python3.7/site-packages/ipykernel_launcher.py:9: DeprecationWarning: Call to deprecated `__getitem__` (Method will be removed in 4.0.0, use self.wv.__getitem__() instead).\n",
      "  if __name__ == '__main__':\n"
     ]
    }
   ],
   "source": [
    "#vocab_size = 10000    # 어휘 사전의 크기입니다(10,000개의 단어)\n",
    "word_vector_dim = 200  # 워드 벡터의 차원수 (변경가능한 하이퍼파라미터)\n",
    "\n",
    "embedding_matrix = np.random.rand(vocab_size, word_vector_dim)\n",
    "\n",
    "# embedding_matrix에 Word2Vec 워드벡터를 단어 하나씩마다 차례차례 카피한다.\n",
    "for i in range(4,vocab_size):\n",
    "    if index_to_word[i] in word2vec:\n",
    "        embedding_matrix[i] = word2vec[index_to_word[i]]\n",
    "        \n",
    "print(\"ok\")"
   ]
  },
  {
   "cell_type": "code",
   "execution_count": 18,
   "metadata": {},
   "outputs": [
    {
     "name": "stdout",
     "output_type": "stream",
     "text": [
      "Model: \"sequential_1\"\n",
      "_________________________________________________________________\n",
      "Layer (type)                 Output Shape              Param #   \n",
      "=================================================================\n",
      "embedding_1 (Embedding)      (None, 30, 200)           2000000   \n",
      "_________________________________________________________________\n",
      "lstm_1 (LSTM)                (None, 64)                67840     \n",
      "_________________________________________________________________\n",
      "dense_2 (Dense)              (None, 8)                 520       \n",
      "_________________________________________________________________\n",
      "dense_3 (Dense)              (None, 1)                 9         \n",
      "=================================================================\n",
      "Total params: 2,068,369\n",
      "Trainable params: 2,068,369\n",
      "Non-trainable params: 0\n",
      "_________________________________________________________________\n",
      "Epoch 1/15\n",
      "1950/1950 [==============================] - 17s 9ms/step - loss: 0.4162 - accuracy: 0.8064 - val_loss: 0.3668 - val_accuracy: 0.8402\n",
      "Epoch 2/15\n",
      "1950/1950 [==============================] - 17s 9ms/step - loss: 0.3236 - accuracy: 0.8596 - val_loss: 0.3297 - val_accuracy: 0.8583\n",
      "Epoch 3/15\n",
      "1950/1950 [==============================] - 17s 9ms/step - loss: 0.2907 - accuracy: 0.8761 - val_loss: 0.3433 - val_accuracy: 0.8511\n",
      "Epoch 4/15\n",
      "1950/1950 [==============================] - 18s 9ms/step - loss: 0.2653 - accuracy: 0.8887 - val_loss: 0.3393 - val_accuracy: 0.8548\n",
      "Epoch 5/15\n",
      "1950/1950 [==============================] - 18s 9ms/step - loss: 0.2433 - accuracy: 0.8992 - val_loss: 0.3182 - val_accuracy: 0.8668\n",
      "Epoch 6/15\n",
      "1950/1950 [==============================] - 17s 9ms/step - loss: 0.2227 - accuracy: 0.9094 - val_loss: 0.3296 - val_accuracy: 0.8651\n",
      "Epoch 7/15\n",
      "1950/1950 [==============================] - 17s 9ms/step - loss: 0.2022 - accuracy: 0.9187 - val_loss: 0.3655 - val_accuracy: 0.8517\n",
      "Epoch 8/15\n",
      "1950/1950 [==============================] - 17s 9ms/step - loss: 0.1828 - accuracy: 0.9273 - val_loss: 0.3722 - val_accuracy: 0.8648\n",
      "Epoch 9/15\n",
      "1950/1950 [==============================] - 17s 9ms/step - loss: 0.1644 - accuracy: 0.9350 - val_loss: 0.3885 - val_accuracy: 0.8509\n",
      "Epoch 10/15\n",
      "1950/1950 [==============================] - 17s 9ms/step - loss: 0.1467 - accuracy: 0.9430 - val_loss: 0.4029 - val_accuracy: 0.8598\n",
      "Epoch 11/15\n",
      "1950/1950 [==============================] - 17s 9ms/step - loss: 0.1305 - accuracy: 0.9499 - val_loss: 0.4413 - val_accuracy: 0.8559\n",
      "Epoch 12/15\n",
      "1950/1950 [==============================] - 18s 9ms/step - loss: 0.1165 - accuracy: 0.9551 - val_loss: 0.4835 - val_accuracy: 0.8539\n",
      "Epoch 13/15\n",
      "1950/1950 [==============================] - 18s 9ms/step - loss: 0.1012 - accuracy: 0.9615 - val_loss: 0.4940 - val_accuracy: 0.8524\n",
      "Epoch 14/15\n",
      "1950/1950 [==============================] - 18s 9ms/step - loss: 0.0912 - accuracy: 0.9658 - val_loss: 0.5444 - val_accuracy: 0.8516\n",
      "Epoch 15/15\n",
      "1950/1950 [==============================] - 18s 9ms/step - loss: 0.0803 - accuracy: 0.9697 - val_loss: 0.6038 - val_accuracy: 0.8528\n",
      "1537/1537 - 2s - loss: 0.6144 - accuracy: 0.8500\n",
      "[0.6143653392791748, 0.8499705195426941]\n"
     ]
    }
   ],
   "source": [
    "vocab_size = 10000  # 어휘 사전의 크기입니다(10개의 단어), 위에서 사이즈가 정해져 있으므로 생략\n",
    "word_vector_dim = 200  # 단어 하나를 표현하는 임베딩 벡터의 차원수입니다. \n",
    "\n",
    "model_LSTM_plus = Sequential()\n",
    "model_LSTM_plus.add(keras.layers.Embedding(vocab_size, \n",
    "                                 word_vector_dim, \n",
    "                                 embeddings_initializer=Constant(embedding_matrix),  # 카피한 임베딩을 여기서 활용\n",
    "                                 input_length=max_len, \n",
    "                                 trainable=True))   # trainable을 True로 주면 Fine-tuning\n",
    "model_LSTM_plus.add(LSTM(64))\n",
    "model_LSTM_plus.add(Dense(8, activation='relu'))\n",
    "model_LSTM_plus.add(Dense(1, activation='sigmoid'))\n",
    "model_LSTM_plus.summary()\n",
    "\n",
    "epochs=15\n",
    "\n",
    "model_LSTM_plus.compile(optimizer='rmsprop', loss='binary_crossentropy', metrics=['accuracy'])\n",
    "# validation 0.2 (20%설정)\n",
    "history = model_LSTM_plus.fit(X_train, y_train, epochs=epochs, batch_size=60, validation_split=0.2)\n",
    "\n",
    "results = model_LSTM_plus.evaluate(X_test,  y_test, verbose=2)\n",
    "print(results)"
   ]
  },
  {
   "cell_type": "code",
   "execution_count": 19,
   "metadata": {},
   "outputs": [
    {
     "name": "stdout",
     "output_type": "stream",
     "text": [
      "dict_keys(['loss', 'accuracy', 'val_loss', 'val_accuracy'])\n"
     ]
    },
    {
     "data": {
      "image/png": "[encoded data removed]",
      "text/plain": [
       "<Figure size 432x288 with 1 Axes>"
      ]
     },
     "metadata": {
      "needs_background": "light"
     },
     "output_type": "display_data"
    },
    {
     "data": {
      "image/png": "[encoded data removed]",
      "text/plain": [
       "<Figure size 432x288 with 1 Axes>"
      ]
     },
     "metadata": {
      "needs_background": "light"
     },
     "output_type": "display_data"
    }
   ],
   "source": [
    "history_dict = history.history\n",
    "print(history_dict.keys()) # epoch에 따른 그래프를 그려볼 수 있는 항목들\n",
    "\n",
    "import matplotlib.pyplot as plt\n",
    "\n",
    "acc = history_dict['accuracy']\n",
    "val_acc = history_dict['val_accuracy']\n",
    "loss = history_dict['loss']\n",
    "val_loss = history_dict['val_loss']\n",
    "\n",
    "epochs = range(1, len(acc) + 1)\n",
    "\n",
    "# \"bo\"는 \"파란색 점\"입니다\n",
    "plt.plot(epochs, loss, 'bo', label='Training loss')\n",
    "# b는 \"파란 실선\"입니다\n",
    "plt.plot(epochs, val_loss, 'b', label='Validation loss')\n",
    "plt.title('Training and validation loss')\n",
    "plt.xlabel('Epochs')\n",
    "plt.ylabel('Loss')\n",
    "plt.legend()\n",
    "\n",
    "plt.show()\n",
    "\n",
    "plt.clf()   # 그림을 초기화합니다\n",
    "\n",
    "plt.plot(epochs, acc, 'bo', label='Training accuracy')\n",
    "plt.plot(epochs, val_acc, 'b', label='Validation accuracy')\n",
    "plt.title('Training and validation accuracy')\n",
    "plt.xlabel('Epochs')\n",
    "plt.ylabel('Accuracy')\n",
    "plt.legend()\n",
    "\n",
    "plt.show()"
   ]
  },
  {
   "cell_type": "code",
   "execution_count": 20,
   "metadata": {},
   "outputs": [
    {
     "data": {
      "text/plain": [
       "[('슬픔', 0.7239742279052734),\n",
       " ('행복', 0.6869573593139648),\n",
       " ('기쁨', 0.671248197555542),\n",
       " ('애정', 0.6358910799026489),\n",
       " ('존경', 0.6127861738204956),\n",
       " ('인생', 0.6104490756988525),\n",
       " ('연인', 0.6098191738128662),\n",
       " ('즐거움', 0.6093759536743164),\n",
       " ('마음', 0.609087347984314),\n",
       " ('감동', 0.5956058502197266)]"
      ]
     },
     "execution_count": 20,
     "metadata": {},
     "output_type": "execute_result"
    }
   ],
   "source": [
    "# 학습한 Embedding 파라미터를 파일에 써서 저장합니다. \n",
    "word2vec_file_path = os.getenv('HOME')+'/aiffel/ko/word2vec_ko_LSTM_plus.txt'\n",
    "f = open(word2vec_file_path, 'w')\n",
    "f.write('{} {}\\n'.format(vocab_size-4, word_vector_dim))  # 몇개의 벡터를 얼마 사이즈로 기재할지 타이틀을 씁니다.\n",
    "#vocab_size\n",
    "\n",
    "# 단어 개수(에서 특수문자 4개는 제외하고)만큼의 워드 벡터를 파일에 기록합니다. \n",
    "vectors = model_LSTM_plus.get_weights()[0]\n",
    "for i in range(4,vocab_size): #vocab_size\n",
    "    f.write('{} {}\\n'.format(index_to_word[i], ' '.join(map(str, list(vectors[i, :])))))\n",
    "f.close()\n",
    "\n",
    "word_vectors = Word2VecKeyedVectors.load_word2vec_format(word2vec_file_path, binary=False)\n",
    "word_vectors.similar_by_word(\"사랑\")"
   ]
  },
  {
   "cell_type": "markdown",
   "metadata": {},
   "source": [
    "# CNN 분류하기\n"
   ]
  },
  {
   "cell_type": "code",
   "execution_count": 21,
   "metadata": {},
   "outputs": [
    {
     "name": "stdout",
     "output_type": "stream",
     "text": [
      "Model: \"sequential_2\"\n",
      "_________________________________________________________________\n",
      "Layer (type)                 Output Shape              Param #   \n",
      "=================================================================\n",
      "embedding_2 (Embedding)      (None, None, 16)          160000    \n",
      "_________________________________________________________________\n",
      "conv1d (Conv1D)              (None, None, 16)          1808      \n",
      "_________________________________________________________________\n",
      "max_pooling1d (MaxPooling1D) (None, None, 16)          0         \n",
      "_________________________________________________________________\n",
      "dense_4 (Dense)              (None, None, 8)           136       \n",
      "_________________________________________________________________\n",
      "dense_5 (Dense)              (None, None, 1)           9         \n",
      "=================================================================\n",
      "Total params: 161,953\n",
      "Trainable params: 161,953\n",
      "Non-trainable params: 0\n",
      "_________________________________________________________________\n",
      "Epoch 1/10\n",
      "914/914 [==============================] - 9s 9ms/step - loss: 0.6154 - accuracy: 0.6149 - val_loss: 0.5895 - val_accuracy: 0.6366\n",
      "Epoch 2/10\n",
      "914/914 [==============================] - 3s 4ms/step - loss: 0.5743 - accuracy: 0.6482 - val_loss: 0.5846 - val_accuracy: 0.6404\n",
      "Epoch 3/10\n",
      "914/914 [==============================] - 3s 4ms/step - loss: 0.5581 - accuracy: 0.6569 - val_loss: 0.5844 - val_accuracy: 0.6394\n",
      "Epoch 4/10\n",
      "914/914 [==============================] - 3s 4ms/step - loss: 0.5430 - accuracy: 0.6656 - val_loss: 0.5906 - val_accuracy: 0.6397\n",
      "Epoch 5/10\n",
      "914/914 [==============================] - 3s 3ms/step - loss: 0.5281 - accuracy: 0.6758 - val_loss: 0.6004 - val_accuracy: 0.6352\n",
      "Epoch 6/10\n",
      "914/914 [==============================] - 3s 3ms/step - loss: 0.5141 - accuracy: 0.6837 - val_loss: 0.6139 - val_accuracy: 0.6336\n",
      "Epoch 7/10\n",
      "914/914 [==============================] - 3s 3ms/step - loss: 0.5016 - accuracy: 0.6891 - val_loss: 0.6277 - val_accuracy: 0.6316\n",
      "Epoch 8/10\n",
      "914/914 [==============================] - 3s 3ms/step - loss: 0.4907 - accuracy: 0.6963 - val_loss: 0.6418 - val_accuracy: 0.6321\n",
      "Epoch 9/10\n",
      "914/914 [==============================] - 3s 3ms/step - loss: 0.4812 - accuracy: 0.7006 - val_loss: 0.6603 - val_accuracy: 0.6309\n",
      "Epoch 10/10\n",
      "914/914 [==============================] - 3s 3ms/step - loss: 0.4729 - accuracy: 0.7038 - val_loss: 0.6750 - val_accuracy: 0.6291\n",
      "1537/1537 - 3s - loss: 0.6793 - accuracy: 0.6292\n",
      "[0.6793442368507385, 0.6291779279708862]\n"
     ]
    }
   ],
   "source": [
    "vocab_size = 10000\n",
    "word_vector_dim = 16   # 단어 하나를 표현하는 임베딩 벡터의 차원수입니다. \n",
    "\n",
    "model_CNN = keras.Sequential()\n",
    "model_CNN.add(keras.layers.Embedding(vocab_size, word_vector_dim, input_shape=(None,)))\n",
    "model_CNN.add(keras.layers.Conv1D(16, 7, activation='relu'))\n",
    "model_CNN.add(keras.layers.MaxPooling1D(5))\n",
    "model_CNN.add(keras.layers.Dense(8, activation='relu'))\n",
    "model_CNN.add(keras.layers.Dense(1, activation='sigmoid'))  # 최종 출력은 긍정/부정을 나타내는 1dim 입니다.\n",
    "\n",
    "model_CNN.summary()\n",
    "\n",
    "model_CNN.compile(optimizer='adam',\n",
    "              loss='binary_crossentropy',\n",
    "              metrics=['accuracy'])\n",
    "              \n",
    "epochs=10  # 몇 epoch를 훈련하면 좋을지 결과를 보면서 바꾸어 봅시다. \n",
    "\n",
    "history = model_CNN.fit(X_train,\n",
    "                    y_train,\n",
    "                    epochs=epochs,\n",
    "                    batch_size=128,\n",
    "                    validation_split=0.2, \n",
    "                    verbose=1)\n",
    "results = model_CNN.evaluate(X_test,  y_test, verbose=2)\n",
    "print(results)"
   ]
  },
  {
   "cell_type": "code",
   "execution_count": 22,
   "metadata": {},
   "outputs": [
    {
     "name": "stdout",
     "output_type": "stream",
     "text": [
      "dict_keys(['loss', 'accuracy', 'val_loss', 'val_accuracy'])\n"
     ]
    },
    {
     "data": {
      "image/png": "[encoded data removed]",
      "text/plain": [
       "<Figure size 432x288 with 1 Axes>"
      ]
     },
     "metadata": {
      "needs_background": "light"
     },
     "output_type": "display_data"
    },
    {
     "data": {
      "image/png": "[encoded data removed]",
      "text/plain": [
       "<Figure size 432x288 with 1 Axes>"
      ]
     },
     "metadata": {
      "needs_background": "light"
     },
     "output_type": "display_data"
    }
   ],
   "source": [
    "history_dict = history.history\n",
    "print(history_dict.keys()) # epoch에 따른 그래프를 그려볼 수 있는 항목들\n",
    "\n",
    "import matplotlib.pyplot as plt\n",
    "\n",
    "acc = history_dict['accuracy']\n",
    "val_acc = history_dict['val_accuracy']\n",
    "loss = history_dict['loss']\n",
    "val_loss = history_dict['val_loss']\n",
    "\n",
    "epochs = range(1, len(acc) + 1)\n",
    "\n",
    "# \"bo\"는 \"파란색 점\"입니다\n",
    "plt.plot(epochs, loss, 'bo', label='Training loss')\n",
    "# b는 \"파란 실선\"입니다\n",
    "plt.plot(epochs, val_loss, 'b', label='Validation loss')\n",
    "plt.title('Training and validation loss')\n",
    "plt.xlabel('Epochs')\n",
    "plt.ylabel('Loss')\n",
    "plt.legend()\n",
    "\n",
    "plt.show()\n",
    "\n",
    "plt.clf()   # 그림을 초기화합니다\n",
    "\n",
    "plt.plot(epochs, acc, 'bo', label='Training accuracy')\n",
    "plt.plot(epochs, val_acc, 'b', label='Validation accuracy')\n",
    "plt.title('Training and validation accuracy')\n",
    "plt.xlabel('Epochs')\n",
    "plt.ylabel('Accuracy')\n",
    "plt.legend()\n",
    "\n",
    "plt.show()"
   ]
  },
  {
   "cell_type": "code",
   "execution_count": 23,
   "metadata": {},
   "outputs": [
    {
     "data": {
      "text/plain": [
       "[('넘쳤', 0.9054323434829712),\n",
       " ('운적', 0.8874784111976624),\n",
       " ('보냅니다', 0.8776174783706665),\n",
       " ('뒤돌아보', 0.8765003681182861),\n",
       " ('봉준호', 0.8719667196273804),\n",
       " ('나무랄', 0.8712939023971558),\n",
       " ('편도', 0.8626317381858826),\n",
       " ('강렬', 0.8581732511520386),\n",
       " ('^-^', 0.8524709939956665),\n",
       " ('훈훈', 0.8521831035614014)]"
      ]
     },
     "execution_count": 23,
     "metadata": {},
     "output_type": "execute_result"
    }
   ],
   "source": [
    "# 학습한 Embedding 파라미터를 파일에 써서 저장합니다. \n",
    "word2vec_file_path = os.getenv('HOME')+'/aiffel/ko/word2vec_ko_CNN.txt'\n",
    "f = open(word2vec_file_path, 'w')\n",
    "f.write('{} {}\\n'.format(vocab_size-4, word_vector_dim))  # 몇개의 벡터를 얼마 사이즈로 기재할지 타이틀을 씁니다.\n",
    "#vocab_size\n",
    "\n",
    "# 단어 개수(에서 특수문자 4개는 제외하고)만큼의 워드 벡터를 파일에 기록합니다. \n",
    "vectors = model_CNN.get_weights()[0]\n",
    "for i in range(4,vocab_size): #vocab_size\n",
    "    f.write('{} {}\\n'.format(index_to_word[i], ' '.join(map(str, list(vectors[i, :])))))\n",
    "f.close()\n",
    "\n",
    "word_vectors = Word2VecKeyedVectors.load_word2vec_format(word2vec_file_path, binary=False)\n",
    "word_vectors.similar_by_word(\"사랑\")"
   ]
  },
  {
   "cell_type": "markdown",
   "metadata": {},
   "source": [
    "# CNN + 사전학습 데이터 분류기"
   ]
  },
  {
   "cell_type": "code",
   "execution_count": 24,
   "metadata": {},
   "outputs": [
    {
     "name": "stdout",
     "output_type": "stream",
     "text": [
      "Model: \"sequential_3\"\n",
      "_________________________________________________________________\n",
      "Layer (type)                 Output Shape              Param #   \n",
      "=================================================================\n",
      "embedding_3 (Embedding)      (None, 30, 200)           2000000   \n",
      "_________________________________________________________________\n",
      "conv1d_1 (Conv1D)            (None, 24, 16)            22416     \n",
      "_________________________________________________________________\n",
      "max_pooling1d_1 (MaxPooling1 (None, 4, 16)             0         \n",
      "_________________________________________________________________\n",
      "dense_6 (Dense)              (None, 4, 8)              136       \n",
      "_________________________________________________________________\n",
      "dense_7 (Dense)              (None, 4, 1)              9         \n",
      "=================================================================\n",
      "Total params: 2,022,561\n",
      "Trainable params: 2,022,561\n",
      "Non-trainable params: 0\n",
      "_________________________________________________________________\n",
      "Epoch 1/10\n",
      "914/914 [==============================] - 20s 22ms/step - loss: 0.6399 - accuracy: 0.5953 - val_loss: 0.6099 - val_accuracy: 0.6232\n",
      "Epoch 2/10\n",
      "914/914 [==============================] - 15s 16ms/step - loss: 0.5924 - accuracy: 0.6352 - val_loss: 0.5939 - val_accuracy: 0.6333\n",
      "Epoch 3/10\n",
      "914/914 [==============================] - 15s 16ms/step - loss: 0.5734 - accuracy: 0.6488 - val_loss: 0.5916 - val_accuracy: 0.6358\n",
      "Epoch 4/10\n",
      "914/914 [==============================] - 15s 17ms/step - loss: 0.5612 - accuracy: 0.6563 - val_loss: 0.5897 - val_accuracy: 0.6377\n",
      "Epoch 5/10\n",
      "914/914 [==============================] - 15s 16ms/step - loss: 0.5513 - accuracy: 0.6621 - val_loss: 0.5956 - val_accuracy: 0.6355\n",
      "Epoch 6/10\n",
      "914/914 [==============================] - 15s 16ms/step - loss: 0.5419 - accuracy: 0.6679 - val_loss: 0.5983 - val_accuracy: 0.6360\n",
      "Epoch 7/10\n",
      "914/914 [==============================] - 15s 16ms/step - loss: 0.5331 - accuracy: 0.6728 - val_loss: 0.6021 - val_accuracy: 0.6375\n",
      "Epoch 8/10\n",
      "914/914 [==============================] - 15s 16ms/step - loss: 0.5231 - accuracy: 0.6785 - val_loss: 0.6099 - val_accuracy: 0.6366\n",
      "Epoch 9/10\n",
      "914/914 [==============================] - 15s 16ms/step - loss: 0.5133 - accuracy: 0.6837 - val_loss: 0.6198 - val_accuracy: 0.6351\n",
      "Epoch 10/10\n",
      "914/914 [==============================] - 15s 17ms/step - loss: 0.5030 - accuracy: 0.6893 - val_loss: 0.6313 - val_accuracy: 0.6339\n",
      "1537/1537 - 4s - loss: 0.6382 - accuracy: 0.6338\n",
      "[0.6381528973579407, 0.633755087852478]\n"
     ]
    }
   ],
   "source": [
    "vocab_size = 10000\n",
    "word_vector_dim = 200   # 단어 하나를 표현하는 임베딩 벡터의 차원수입니다. \n",
    "\n",
    "model_CNN_plus = keras.Sequential()\n",
    "model_CNN_plus.add(keras.layers.Embedding(vocab_size, \n",
    "                                 word_vector_dim, \n",
    "                                 embeddings_initializer=Constant(embedding_matrix),  # 카피한 임베딩을 여기서 활용\n",
    "                                 input_length=max_len, \n",
    "                                 trainable=True))   # trainable을 True로 주면 Fine-tuning\n",
    "model_CNN_plus.add(keras.layers.Conv1D(16, 7, activation='relu'))\n",
    "model_CNN_plus.add(keras.layers.MaxPooling1D(5))\n",
    "model_CNN_plus.add(keras.layers.Dense(8, activation='relu'))\n",
    "model_CNN_plus.add(keras.layers.Dense(1, activation='sigmoid'))  # 최종 출력은 긍정/부정을 나타내는 1dim 입니다.\n",
    "\n",
    "model_CNN_plus.summary()\n",
    "\n",
    "model_CNN_plus.compile(optimizer='adam',\n",
    "              loss='binary_crossentropy',\n",
    "              metrics=['accuracy'])\n",
    "              \n",
    "epochs=10  # 몇 epoch를 훈련하면 좋을지 결과를 보면서 바꾸어 봅시다. \n",
    "\n",
    "history = model_CNN_plus.fit(X_train,\n",
    "                    y_train,\n",
    "                    epochs=epochs,\n",
    "                    batch_size=128,\n",
    "                    validation_split=0.2, \n",
    "                    verbose=1)\n",
    "results = model_CNN_plus.evaluate(X_test,  y_test, verbose=2)\n",
    "print(results)"
   ]
  },
  {
   "cell_type": "code",
   "execution_count": 25,
   "metadata": {},
   "outputs": [
    {
     "name": "stdout",
     "output_type": "stream",
     "text": [
      "dict_keys(['loss', 'accuracy', 'val_loss', 'val_accuracy'])\n"
     ]
    },
    {
     "data": {
      "image/png": "[encoded data removed]",
      "text/plain": [
       "<Figure size 432x288 with 1 Axes>"
      ]
     },
     "metadata": {
      "needs_background": "light"
     },
     "output_type": "display_data"
    },
    {
     "data": {
      "image/png": "[encoded data removed]",
      "text/plain": [
       "<Figure size 432x288 with 1 Axes>"
      ]
     },
     "metadata": {
      "needs_background": "light"
     },
     "output_type": "display_data"
    }
   ],
   "source": [
    "history_dict = history.history\n",
    "print(history_dict.keys()) # epoch에 따른 그래프를 그려볼 수 있는 항목들\n",
    "\n",
    "import matplotlib.pyplot as plt\n",
    "\n",
    "acc = history_dict['accuracy']\n",
    "val_acc = history_dict['val_accuracy']\n",
    "loss = history_dict['loss']\n",
    "val_loss = history_dict['val_loss']\n",
    "\n",
    "epochs = range(1, len(acc) + 1)\n",
    "\n",
    "# \"bo\"는 \"파란색 점\"입니다\n",
    "plt.plot(epochs, loss, 'bo', label='Training loss')\n",
    "# b는 \"파란 실선\"입니다\n",
    "plt.plot(epochs, val_loss, 'b', label='Validation loss')\n",
    "plt.title('Training and validation loss')\n",
    "plt.xlabel('Epochs')\n",
    "plt.ylabel('Loss')\n",
    "plt.legend()\n",
    "\n",
    "plt.show()\n",
    "\n",
    "plt.clf()   # 그림을 초기화합니다\n",
    "\n",
    "plt.plot(epochs, acc, 'bo', label='Training accuracy')\n",
    "plt.plot(epochs, val_acc, 'b', label='Validation accuracy')\n",
    "plt.title('Training and validation accuracy')\n",
    "plt.xlabel('Epochs')\n",
    "plt.ylabel('Accuracy')\n",
    "plt.legend()\n",
    "\n",
    "plt.show()"
   ]
  },
  {
   "cell_type": "code",
   "execution_count": 26,
   "metadata": {},
   "outputs": [
    {
     "data": {
      "text/plain": [
       "[('슬픔', 0.7173073291778564),\n",
       " ('행복', 0.6646480560302734),\n",
       " ('연인', 0.6367336511611938),\n",
       " ('이별', 0.6295158863067627),\n",
       " ('추억', 0.6253029108047485),\n",
       " ('절망', 0.6233916878700256),\n",
       " ('애정', 0.6231517791748047),\n",
       " ('기쁨', 0.6183872222900391),\n",
       " ('인생', 0.6107255220413208),\n",
       " ('유혹', 0.581893801689148)]"
      ]
     },
     "execution_count": 26,
     "metadata": {},
     "output_type": "execute_result"
    }
   ],
   "source": [
    "# 학습한 Embedding 파라미터를 파일에 써서 저장합니다. \n",
    "word2vec_file_path = os.getenv('HOME')+'/aiffel/ko/word2vec_ko_CNN_plus.txt'\n",
    "f = open(word2vec_file_path, 'w')\n",
    "f.write('{} {}\\n'.format(vocab_size-4, word_vector_dim))  # 몇개의 벡터를 얼마 사이즈로 기재할지 타이틀을 씁니다.\n",
    "#vocab_size\n",
    "\n",
    "# 단어 개수(에서 특수문자 4개는 제외하고)만큼의 워드 벡터를 파일에 기록합니다. \n",
    "vectors = model_CNN_plus.get_weights()[0]\n",
    "for i in range(4,vocab_size): #vocab_size\n",
    "    f.write('{} {}\\n'.format(index_to_word[i], ' '.join(map(str, list(vectors[i, :])))))\n",
    "f.close()\n",
    "\n",
    "word_vectors = Word2VecKeyedVectors.load_word2vec_format(word2vec_file_path, binary=False)\n",
    "word_vectors.similar_by_word(\"사랑\")"
   ]
  },
  {
   "cell_type": "markdown",
   "metadata": {},
   "source": [
    "# GlobalMaxPooling1D"
   ]
  },
  {
   "cell_type": "code",
   "execution_count": 27,
   "metadata": {},
   "outputs": [
    {
     "name": "stdout",
     "output_type": "stream",
     "text": [
      "Model: \"sequential_4\"\n",
      "_________________________________________________________________\n",
      "Layer (type)                 Output Shape              Param #   \n",
      "=================================================================\n",
      "embedding_4 (Embedding)      (None, None, 8)           80000     \n",
      "_________________________________________________________________\n",
      "global_max_pooling1d (Global (None, 8)                 0         \n",
      "_________________________________________________________________\n",
      "dense_8 (Dense)              (None, 8)                 72        \n",
      "_________________________________________________________________\n",
      "dense_9 (Dense)              (None, 1)                 9         \n",
      "=================================================================\n",
      "Total params: 80,081\n",
      "Trainable params: 80,081\n",
      "Non-trainable params: 0\n",
      "_________________________________________________________________\n",
      "Epoch 1/10\n",
      "914/914 [==============================] - 2s 3ms/step - loss: 0.4863 - accuracy: 0.7673 - val_loss: 0.3851 - val_accuracy: 0.8298\n",
      "Epoch 2/10\n",
      "914/914 [==============================] - 2s 2ms/step - loss: 0.3515 - accuracy: 0.8477 - val_loss: 0.3661 - val_accuracy: 0.8401\n",
      "Epoch 3/10\n",
      "914/914 [==============================] - 2s 2ms/step - loss: 0.3170 - accuracy: 0.8655 - val_loss: 0.3647 - val_accuracy: 0.8424\n",
      "Epoch 4/10\n",
      "914/914 [==============================] - 2s 2ms/step - loss: 0.2954 - accuracy: 0.8766 - val_loss: 0.3692 - val_accuracy: 0.8420\n",
      "Epoch 5/10\n",
      "914/914 [==============================] - 2s 2ms/step - loss: 0.2798 - accuracy: 0.8843 - val_loss: 0.3777 - val_accuracy: 0.8388\n",
      "Epoch 6/10\n",
      "914/914 [==============================] - 2s 2ms/step - loss: 0.2680 - accuracy: 0.8900 - val_loss: 0.3840 - val_accuracy: 0.8400\n",
      "Epoch 7/10\n",
      "914/914 [==============================] - 2s 2ms/step - loss: 0.2586 - accuracy: 0.8941 - val_loss: 0.3921 - val_accuracy: 0.8396\n",
      "Epoch 8/10\n",
      "914/914 [==============================] - 2s 2ms/step - loss: 0.2511 - accuracy: 0.8972 - val_loss: 0.4010 - val_accuracy: 0.8359\n",
      "Epoch 9/10\n",
      "914/914 [==============================] - 2s 2ms/step - loss: 0.2444 - accuracy: 0.9006 - val_loss: 0.4094 - val_accuracy: 0.8366\n",
      "Epoch 10/10\n",
      "914/914 [==============================] - 2s 2ms/step - loss: 0.2390 - accuracy: 0.9034 - val_loss: 0.4182 - val_accuracy: 0.8340\n",
      "1537/1537 - 2s - loss: 0.4288 - accuracy: 0.8313\n",
      "[0.4288346767425537, 0.8312956690788269]\n"
     ]
    }
   ],
   "source": [
    "vocab_size = 10000  # 어휘 사전의 크기입니다(10개의 단어)\n",
    "word_vector_dim = 8   # 단어 하나를 표현하는 임베딩 벡터의 차원수입니다. \n",
    "\n",
    "model_global = keras.Sequential()\n",
    "model_global.add(keras.layers.Embedding(vocab_size, word_vector_dim, input_shape=(None,)))\n",
    "model_global.add(keras.layers.GlobalMaxPooling1D())\n",
    "model_global.add(keras.layers.Dense(8, activation='relu'))\n",
    "model_global.add(keras.layers.Dense(1, activation='sigmoid'))  # 최종 출력은 긍정/부정을 나타내는 1dim 입니다.\n",
    "\n",
    "model_global.summary()\n",
    "\n",
    "model_global.compile(optimizer='adam',\n",
    "              loss='binary_crossentropy',\n",
    "              metrics=['accuracy'])\n",
    "              \n",
    "epochs=10  # 몇 epoch를 훈련하면 좋을지 결과를 보면서 바꾸어 봅시다. \n",
    "\n",
    "history = model_global.fit(X_train,\n",
    "                    y_train,\n",
    "                    epochs=epochs,\n",
    "                    batch_size=128,\n",
    "                    validation_split=0.2, \n",
    "                    verbose=1)\n",
    "results = model_global.evaluate(X_test,  y_test, verbose=2)\n",
    "print(results)"
   ]
  },
  {
   "cell_type": "code",
   "execution_count": 28,
   "metadata": {},
   "outputs": [
    {
     "name": "stdout",
     "output_type": "stream",
     "text": [
      "dict_keys(['loss', 'accuracy', 'val_loss', 'val_accuracy'])\n"
     ]
    },
    {
     "data": {
      "image/png": "[encoded data removed]",
      "text/plain": [
       "<Figure size 432x288 with 1 Axes>"
      ]
     },
     "metadata": {
      "needs_background": "light"
     },
     "output_type": "display_data"
    },
    {
     "data": {
      "image/png": "[encoded data removed]",
      "text/plain": [
       "<Figure size 432x288 with 1 Axes>"
      ]
     },
     "metadata": {
      "needs_background": "light"
     },
     "output_type": "display_data"
    }
   ],
   "source": [
    "history_dict = history.history\n",
    "print(history_dict.keys()) # epoch에 따른 그래프를 그려볼 수 있는 항목들\n",
    "\n",
    "import matplotlib.pyplot as plt\n",
    "\n",
    "acc = history_dict['accuracy']\n",
    "val_acc = history_dict['val_accuracy']\n",
    "loss = history_dict['loss']\n",
    "val_loss = history_dict['val_loss']\n",
    "\n",
    "epochs = range(1, len(acc) + 1)\n",
    "\n",
    "# \"bo\"는 \"파란색 점\"입니다\n",
    "plt.plot(epochs, loss, 'bo', label='Training loss')\n",
    "# b는 \"파란 실선\"입니다\n",
    "plt.plot(epochs, val_loss, 'b', label='Validation loss')\n",
    "plt.title('Training and validation loss')\n",
    "plt.xlabel('Epochs')\n",
    "plt.ylabel('Loss')\n",
    "plt.legend()\n",
    "\n",
    "plt.show()\n",
    "\n",
    "plt.clf()   # 그림을 초기화합니다\n",
    "\n",
    "plt.plot(epochs, acc, 'bo', label='Training accuracy')\n",
    "plt.plot(epochs, val_acc, 'b', label='Validation accuracy')\n",
    "plt.title('Training and validation accuracy')\n",
    "plt.xlabel('Epochs')\n",
    "plt.ylabel('Accuracy')\n",
    "plt.legend()\n",
    "\n",
    "plt.show()"
   ]
  },
  {
   "cell_type": "code",
   "execution_count": 29,
   "metadata": {},
   "outputs": [
    {
     "data": {
      "text/plain": [
       "[('자유', 0.9734324216842651),\n",
       " ('스캔들', 0.9704996943473816),\n",
       " ('넘치', 0.9612266421318054),\n",
       " ('여태', 0.9608643054962158),\n",
       " ('번', 0.9585793018341064),\n",
       " ('쿠', 0.9554920196533203),\n",
       " ('스물', 0.9526336789131165),\n",
       " ('디카프리오', 0.9463655948638916),\n",
       " ('쇼생크', 0.9429834485054016),\n",
       " ('박수', 0.9425299167633057)]"
      ]
     },
     "execution_count": 29,
     "metadata": {},
     "output_type": "execute_result"
    }
   ],
   "source": [
    "# 학습한 Embedding 파라미터를 파일에 써서 저장합니다. \n",
    "word2vec_file_path = os.getenv('HOME')+'/aiffel/ko/word2vec_ko_Global.txt'\n",
    "f = open(word2vec_file_path, 'w')\n",
    "f.write('{} {}\\n'.format(vocab_size-4, word_vector_dim))  # 몇개의 벡터를 얼마 사이즈로 기재할지 타이틀을 씁니다.\n",
    "#vocab_size\n",
    "\n",
    "# 단어 개수(에서 특수문자 4개는 제외하고)만큼의 워드 벡터를 파일에 기록합니다. \n",
    "vectors = model_global.get_weights()[0]\n",
    "for i in range(4,vocab_size): #vocab_size\n",
    "    f.write('{} {}\\n'.format(index_to_word[i], ' '.join(map(str, list(vectors[i, :])))))\n",
    "f.close()\n",
    "\n",
    "word_vectors = Word2VecKeyedVectors.load_word2vec_format(word2vec_file_path, binary=False)\n",
    "word_vectors.similar_by_word(\"사랑\")"
   ]
  },
  {
   "cell_type": "code",
   "execution_count": 30,
   "metadata": {},
   "outputs": [
    {
     "name": "stdout",
     "output_type": "stream",
     "text": [
      "ok\n"
     ]
    },
    {
     "name": "stderr",
     "output_type": "stream",
     "text": [
      "/home/aiffel/anaconda3/envs/aiffel/lib/python3.7/site-packages/ipykernel_launcher.py:8: DeprecationWarning: Call to deprecated `__contains__` (Method will be removed in 4.0.0, use self.wv.__contains__() instead).\n",
      "  \n",
      "/home/aiffel/anaconda3/envs/aiffel/lib/python3.7/site-packages/ipykernel_launcher.py:9: DeprecationWarning: Call to deprecated `__getitem__` (Method will be removed in 4.0.0, use self.wv.__getitem__() instead).\n",
      "  if __name__ == '__main__':\n"
     ]
    }
   ],
   "source": [
    "vocab_size = 10000    # 어휘 사전의 크기입니다(10,000개의 단어)\n",
    "word_vector_dim = 200  # 워드 벡터의 차원수 (변경가능한 하이퍼파라미터)\n",
    "\n",
    "embedding_matrix = np.random.rand(vocab_size, word_vector_dim)\n",
    "\n",
    "# embedding_matrix에 Word2Vec 워드벡터를 단어 하나씩마다 차례차례 카피한다.\n",
    "for i in range(4,vocab_size):\n",
    "    if index_to_word[i] in word2vec:\n",
    "        embedding_matrix[i] = word2vec[index_to_word[i]]\n",
    "        \n",
    "print(\"ok\")"
   ]
  },
  {
   "cell_type": "code",
   "execution_count": 31,
   "metadata": {},
   "outputs": [
    {
     "name": "stdout",
     "output_type": "stream",
     "text": [
      "Model: \"sequential_5\"\n",
      "_________________________________________________________________\n",
      "Layer (type)                 Output Shape              Param #   \n",
      "=================================================================\n",
      "embedding_5 (Embedding)      (None, 30, 200)           2000000   \n",
      "_________________________________________________________________\n",
      "global_max_pooling1d_1 (Glob (None, 200)               0         \n",
      "_________________________________________________________________\n",
      "dense_10 (Dense)             (None, 8)                 1608      \n",
      "_________________________________________________________________\n",
      "dense_11 (Dense)             (None, 1)                 9         \n",
      "=================================================================\n",
      "Total params: 2,001,617\n",
      "Trainable params: 2,001,617\n",
      "Non-trainable params: 0\n",
      "_________________________________________________________________\n",
      "Epoch 1/10\n",
      "914/914 [==============================] - 15s 17ms/step - loss: 0.6045 - accuracy: 0.6636 - val_loss: 0.5138 - val_accuracy: 0.7492\n",
      "Epoch 2/10\n",
      "914/914 [==============================] - 15s 16ms/step - loss: 0.4735 - accuracy: 0.7728 - val_loss: 0.4535 - val_accuracy: 0.7872\n",
      "Epoch 3/10\n",
      "914/914 [==============================] - 15s 16ms/step - loss: 0.4174 - accuracy: 0.8086 - val_loss: 0.4258 - val_accuracy: 0.8060\n",
      "Epoch 4/10\n",
      "914/914 [==============================] - 15s 16ms/step - loss: 0.3804 - accuracy: 0.8304 - val_loss: 0.4121 - val_accuracy: 0.8119\n",
      "Epoch 5/10\n",
      "914/914 [==============================] - 15s 16ms/step - loss: 0.3545 - accuracy: 0.8442 - val_loss: 0.4033 - val_accuracy: 0.8159\n",
      "Epoch 6/10\n",
      "914/914 [==============================] - 15s 16ms/step - loss: 0.3324 - accuracy: 0.8562 - val_loss: 0.4154 - val_accuracy: 0.8108\n",
      "Epoch 7/10\n",
      "914/914 [==============================] - 15s 16ms/step - loss: 0.3122 - accuracy: 0.8667 - val_loss: 0.4045 - val_accuracy: 0.8221\n",
      "Epoch 8/10\n",
      "914/914 [==============================] - 15s 16ms/step - loss: 0.2929 - accuracy: 0.8768 - val_loss: 0.4003 - val_accuracy: 0.8260\n",
      "Epoch 9/10\n",
      "914/914 [==============================] - 15s 16ms/step - loss: 0.2749 - accuracy: 0.8862 - val_loss: 0.4043 - val_accuracy: 0.8241\n",
      "Epoch 10/10\n",
      "914/914 [==============================] - 15s 16ms/step - loss: 0.2578 - accuracy: 0.8949 - val_loss: 0.4126 - val_accuracy: 0.8236\n",
      "1537/1537 - 2s - loss: 0.4170 - accuracy: 0.8224\n",
      "[0.416960746049881, 0.8223854303359985]\n"
     ]
    }
   ],
   "source": [
    "vocab_size = 10000  # 어휘 사전의 크기입니다(10개의 단어)\n",
    "word_vector_dim = 200   # 단어 하나를 표현하는 임베딩 벡터의 차원수입니다. \n",
    "\n",
    "model_global_plus = keras.Sequential()\n",
    "model_global_plus.add(keras.layers.Embedding(vocab_size, \n",
    "                                 word_vector_dim, \n",
    "                                 embeddings_initializer=Constant(embedding_matrix),  # 카피한 임베딩을 여기서 활용\n",
    "                                 input_length=max_len, \n",
    "                                 trainable=True))   # trainable을 True로 주면 Fine-tuning\n",
    "model_global_plus.add(keras.layers.GlobalMaxPooling1D())\n",
    "model_global_plus.add(keras.layers.Dense(8, activation='relu'))\n",
    "model_global_plus.add(keras.layers.Dense(1, activation='sigmoid'))  # 최종 출력은 긍정/부정을 나타내는 1dim 입니다.\n",
    "\n",
    "model_global_plus.summary()\n",
    "\n",
    "model_global_plus.compile(optimizer='adam',\n",
    "              loss='binary_crossentropy',\n",
    "              metrics=['accuracy'])\n",
    "              \n",
    "epochs=10  # 몇 epoch를 훈련하면 좋을지 결과를 보면서 바꾸어 봅시다. \n",
    "\n",
    "history = model_global_plus.fit(X_train,\n",
    "                    y_train,\n",
    "                    epochs=epochs,\n",
    "                    batch_size=128,\n",
    "                    validation_split=0.2, \n",
    "                    verbose=1)\n",
    "results = model_global_plus.evaluate(X_test,  y_test, verbose=2)\n",
    "print(results)"
   ]
  },
  {
   "cell_type": "code",
   "execution_count": 32,
   "metadata": {},
   "outputs": [
    {
     "name": "stdout",
     "output_type": "stream",
     "text": [
      "dict_keys(['loss', 'accuracy', 'val_loss', 'val_accuracy'])\n"
     ]
    },
    {
     "data": {
      "image/png": "[encoded data removed]",
      "text/plain": [
       "<Figure size 432x288 with 1 Axes>"
      ]
     },
     "metadata": {
      "needs_background": "light"
     },
     "output_type": "display_data"
    },
    {
     "data": {
      "image/png": "[encoded data removed]",
      "text/plain": [
       "<Figure size 432x288 with 1 Axes>"
      ]
     },
     "metadata": {
      "needs_background": "light"
     },
     "output_type": "display_data"
    }
   ],
   "source": [
    "history_dict = history.history\n",
    "print(history_dict.keys()) # epoch에 따른 그래프를 그려볼 수 있는 항목들\n",
    "\n",
    "import matplotlib.pyplot as plt\n",
    "\n",
    "acc = history_dict['accuracy']\n",
    "val_acc = history_dict['val_accuracy']\n",
    "loss = history_dict['loss']\n",
    "val_loss = history_dict['val_loss']\n",
    "\n",
    "epochs = range(1, len(acc) + 1)\n",
    "\n",
    "# \"bo\"는 \"파란색 점\"입니다\n",
    "plt.plot(epochs, loss, 'bo', label='Training loss')\n",
    "# b는 \"파란 실선\"입니다\n",
    "plt.plot(epochs, val_loss, 'b', label='Validation loss')\n",
    "plt.title('Training and validation loss')\n",
    "plt.xlabel('Epochs')\n",
    "plt.ylabel('Loss')\n",
    "plt.legend()\n",
    "\n",
    "plt.show()\n",
    "\n",
    "plt.clf()   # 그림을 초기화합니다\n",
    "\n",
    "plt.plot(epochs, acc, 'bo', label='Training accuracy')\n",
    "plt.plot(epochs, val_acc, 'b', label='Validation accuracy')\n",
    "plt.title('Training and validation accuracy')\n",
    "plt.xlabel('Epochs')\n",
    "plt.ylabel('Accuracy')\n",
    "plt.legend()\n",
    "\n",
    "plt.show()"
   ]
  },
  {
   "cell_type": "code",
   "execution_count": 33,
   "metadata": {},
   "outputs": [
    {
     "data": {
      "text/plain": [
       "[('슬픔', 0.726982593536377),\n",
       " ('행복', 0.6647186875343323),\n",
       " ('절망', 0.6428117752075195),\n",
       " ('기쁨', 0.6423717737197876),\n",
       " ('이별', 0.6325733661651611),\n",
       " ('추억', 0.6321818828582764),\n",
       " ('인생', 0.6172713041305542),\n",
       " ('연인', 0.61249178647995),\n",
       " ('애정', 0.6041457653045654),\n",
       " ('유혹', 0.6029502153396606)]"
      ]
     },
     "execution_count": 33,
     "metadata": {},
     "output_type": "execute_result"
    }
   ],
   "source": [
    "# 학습한 Embedding 파라미터를 파일에 써서 저장합니다. \n",
    "word2vec_file_path = os.getenv('HOME')+'/aiffel/ko/word2vec_ko_Global_plus.txt'\n",
    "f = open(word2vec_file_path, 'w')\n",
    "f.write('{} {}\\n'.format(vocab_size-4, word_vector_dim))  # 몇개의 벡터를 얼마 사이즈로 기재할지 타이틀을 씁니다.\n",
    "#vocab_size\n",
    "\n",
    "# 단어 개수(에서 특수문자 4개는 제외하고)만큼의 워드 벡터를 파일에 기록합니다. \n",
    "vectors = model_global_plus.get_weights()[0]\n",
    "for i in range(4,vocab_size): #vocab_size\n",
    "    f.write('{} {}\\n'.format(index_to_word[i], ' '.join(map(str, list(vectors[i, :])))))\n",
    "f.close()\n",
    "\n",
    "word_vectors = Word2VecKeyedVectors.load_word2vec_format(word2vec_file_path, binary=False)\n",
    "word_vectors.similar_by_word(\"사랑\")"
   ]
  },
  {
   "cell_type": "markdown",
   "metadata": {},
   "source": [
    "# 결과정리"
   ]
  },
  {
   "cell_type": "code",
   "execution_count": 34,
   "metadata": {},
   "outputs": [
    {
     "name": "stdout",
     "output_type": "stream",
     "text": [
      "-------------LSTM-------------\n",
      "[('귀여운', 0.9838551878929138), ('젊', 0.9715663194656372), ('위트', 0.9704916477203369), ('기발', 0.9695026874542236), ('알파치노', 0.9683853387832642), ('통쾌', 0.9683669209480286), ('울', 0.96725994348526), ('웰메이드', 0.9660279154777527), ('귀엽', 0.9641057848930359), ('만점', 0.9633206129074097)]\n",
      "---------------------------\n",
      "[('슬픔', 0.7239742279052734), ('행복', 0.6869573593139648), ('기쁨', 0.671248197555542), ('애정', 0.6358910799026489), ('존경', 0.6127861738204956), ('인생', 0.6104490756988525), ('연인', 0.6098191738128662), ('즐거움', 0.6093759536743164), ('마음', 0.609087347984314), ('감동', 0.5956058502197266)]\n",
      "-------------CNN-------------\n",
      "[('넘쳤', 0.9054323434829712), ('운적', 0.8874784111976624), ('보냅니다', 0.8776174783706665), ('뒤돌아보', 0.8765003681182861), ('봉준호', 0.8719667196273804), ('나무랄', 0.8712939023971558), ('편도', 0.8626317381858826), ('강렬', 0.8581732511520386), ('^-^', 0.8524709939956665), ('훈훈', 0.8521831035614014)]\n",
      "---------------------------\n",
      "[('슬픔', 0.7173073291778564), ('행복', 0.6646480560302734), ('연인', 0.6367336511611938), ('이별', 0.6295158863067627), ('추억', 0.6253029108047485), ('절망', 0.6233916878700256), ('애정', 0.6231517791748047), ('기쁨', 0.6183872222900391), ('인생', 0.6107255220413208), ('유혹', 0.581893801689148)]\n",
      "-------------Global-------------\n",
      "[('자유', 0.9734324216842651), ('스캔들', 0.9704996943473816), ('넘치', 0.9612266421318054), ('여태', 0.9608643054962158), ('번', 0.9585793018341064), ('쿠', 0.9554920196533203), ('스물', 0.9526336789131165), ('디카프리오', 0.9463655948638916), ('쇼생크', 0.9429834485054016), ('박수', 0.9425299167633057)]\n",
      "---------------------------\n",
      "[('슬픔', 0.726982593536377), ('행복', 0.6647186875343323), ('절망', 0.6428117752075195), ('기쁨', 0.6423717737197876), ('이별', 0.6325733661651611), ('추억', 0.6321818828582764), ('인생', 0.6172713041305542), ('연인', 0.61249178647995), ('애정', 0.6041457653045654), ('유혹', 0.6029502153396606)]\n"
     ]
    }
   ],
   "source": [
    "\n",
    "word2vec_LSTM_file_path = os.getenv('HOME')+'/aiffel/ko/word2vec_ko_LSTM.txt'\n",
    "word2vec_LSTM_plus_file_path = os.getenv('HOME')+'/aiffel/ko/word2vec_ko_LSTM_plus.txt'\n",
    "word2vec_CNN_file_path = os.getenv('HOME')+'/aiffel/ko/word2vec_ko_CNN.txt'\n",
    "word2vec_CNN_plus_file_path = os.getenv('HOME')+'/aiffel/ko/word2vec_ko_CNN_plus.txt'\n",
    "word2vec_Global_file_path = os.getenv('HOME')+'/aiffel/ko/word2vec_ko_Global.txt'\n",
    "word2vec_Global_plus_file_path = os.getenv('HOME')+'/aiffel/ko/word2vec_ko_Global_plus.txt'\n",
    "print(\"-------------LSTM-------------\")\n",
    "word_vectors = Word2VecKeyedVectors.load_word2vec_format(word2vec_LSTM_file_path, binary=False)\n",
    "print(word_vectors.similar_by_word(\"사랑\"))\n",
    "print(\"---------------------------\")\n",
    "word_vectors = Word2VecKeyedVectors.load_word2vec_format(word2vec_LSTM_plus_file_path, binary=False)\n",
    "print(word_vectors.similar_by_word(\"사랑\"))\n",
    "print(\"-------------CNN-------------\")\n",
    "word_vectors = Word2VecKeyedVectors.load_word2vec_format(word2vec_CNN_file_path, binary=False)\n",
    "print(word_vectors.similar_by_word(\"사랑\"))\n",
    "print(\"---------------------------\")\n",
    "word_vectors = Word2VecKeyedVectors.load_word2vec_format(word2vec_CNN_plus_file_path, binary=False)\n",
    "print(word_vectors.similar_by_word(\"사랑\"))\n",
    "print(\"-------------Global-------------\")\n",
    "word_vectors = Word2VecKeyedVectors.load_word2vec_format(word2vec_Global_file_path, binary=False)\n",
    "print(word_vectors.similar_by_word(\"사랑\"))\n",
    "print(\"---------------------------\")\n",
    "word_vectors = Word2VecKeyedVectors.load_word2vec_format(word2vec_Global_plus_file_path, binary=False)\n",
    "print(word_vectors.similar_by_word(\"사랑\"))"
   ]
  },
  {
   "cell_type": "markdown",
   "metadata": {},
   "source": [
    "# 4. 결론\n"
   ]
  },
  {
   "cell_type": "markdown",
   "metadata": {},
   "source": [
    "자연어 처리에서 RNN, CNN, Maxpooling 모델을 통해서 결과를 확인해보았다.\n",
    "결과는 예상대로 RNN이 가장 높은 성능을 보여주었고 CNN의 경우는 다소 학습이 안되는 결과로 보여졌다.\n",
    "- LSTM - loss: 0.3420 - accuracy: 0.8599\n",
    "- CNN - loss: 0.6793 - accuracy: 0.6292\n",
    "- Maxpooling - loss: 0.4288 - accuracy: 0.8313\n",
    "\n",
    "다음 사전학습된 임베딩 벡터파일을 통해서 성능을 향상시켜볼 수 있었다. 일반적으로 2% 성능향상이 있다고 하지만\n",
    "모델구성에 따라 다소 편차가 있는것같다. \n",
    "- LSTM plus - loss: 0.6144 - accuracy: 0.8500\n",
    "- CNN plus - loss: 0.6382 - accuracy: 0.6338\n",
    "- Maxpooling plus - loss: 0.4170 - accuracy: 0.8224\n",
    "\n",
    "LSTM은 Long Short-Term Memory는 RNN에서 forget gate를 추가한것으로 RNN의 일종으로 모델을 구성하였다.\n",
    "자연어처리에서 전단계의 과거 학습 데이터를 재귀 시키는 형태로서, 이전의 값을 메모리 형태로 기억되어 순차적인 데이터열 처리에 적합함을 확인할 수 있었다. \n",
    "\n",
    "gensim으로 학습된 word2vec 모델과 비교를 하였고 자체학습 된 모델과 word2vec 없이 학습된 모델과 비교하였다.\n"
   ]
  }
 ],
 "metadata": {
  "kernelspec": {
   "display_name": "Python 3",
   "language": "python",
   "name": "python3"
  },
  "language_info": {
   "codemirror_mode": {
    "name": "ipython",
    "version": 3
   },
   "file_extension": ".py",
   "mimetype": "text/x-python",
   "name": "python",
   "nbconvert_exporter": "python",
   "pygments_lexer": "ipython3",
   "version": "3.7.9"
  }
 },
 "nbformat": 4,
 "nbformat_minor": 4
}
