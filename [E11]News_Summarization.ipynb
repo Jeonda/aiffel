{
 "cells": [
  {
   "cell_type": "markdown",
   "id": "romance-target",
   "metadata": {},
   "source": [
    "# [E11] 뉴스 기사 요약하기"
   ]
  },
  {
   "cell_type": "code",
   "execution_count": 1,
   "id": "african-colony",
   "metadata": {},
   "outputs": [
    {
     "name": "stderr",
     "output_type": "stream",
     "text": [
      "[nltk_data] Downloading package stopwords to /home/aiffel/nltk_data...\n",
      "[nltk_data]   Package stopwords is already up-to-date!\n"
     ]
    }
   ],
   "source": [
    "import nltk\n",
    "nltk.download('stopwords')\n",
    "\n",
    "import numpy as np\n",
    "import pandas as pd\n",
    "import os\n",
    "import re\n",
    "import matplotlib.pyplot as plt\n",
    "from nltk.corpus import stopwords\n",
    "from bs4 import BeautifulSoup \n",
    "from tensorflow.keras.preprocessing.text import Tokenizer \n",
    "from tensorflow.keras.preprocessing.sequence import pad_sequences\n",
    "import urllib.request"
   ]
  },
  {
   "cell_type": "code",
   "execution_count": 3,
   "id": "suited-colony",
   "metadata": {},
   "outputs": [
    {
     "data": {
      "text/html": [
       "<div>\n",
       "<style scoped>\n",
       "    .dataframe tbody tr th:only-of-type {\n",
       "        vertical-align: middle;\n",
       "    }\n",
       "\n",
       "    .dataframe tbody tr th {\n",
       "        vertical-align: top;\n",
       "    }\n",
       "\n",
       "    .dataframe thead th {\n",
       "        text-align: right;\n",
       "    }\n",
       "</style>\n",
       "<table border=\"1\" class=\"dataframe\">\n",
       "  <thead>\n",
       "    <tr style=\"text-align: right;\">\n",
       "      <th></th>\n",
       "      <th>headlines</th>\n",
       "      <th>text</th>\n",
       "    </tr>\n",
       "  </thead>\n",
       "  <tbody>\n",
       "    <tr>\n",
       "      <th>79856</th>\n",
       "      <td>Guj firm to give 'Made in India' phones to its...</td>\n",
       "      <td>Amidst ongoing tensions between India and Chin...</td>\n",
       "    </tr>\n",
       "    <tr>\n",
       "      <th>2431</th>\n",
       "      <td>FBI probed whether Trump was secretly working ...</td>\n",
       "      <td>The Federal Bureau of Investigation opened a p...</td>\n",
       "    </tr>\n",
       "    <tr>\n",
       "      <th>14848</th>\n",
       "      <td>Pedestrian killed by windowpane that fell 250 ...</td>\n",
       "      <td>A man was killed after he was hit by a windowp...</td>\n",
       "    </tr>\n",
       "    <tr>\n",
       "      <th>26574</th>\n",
       "      <td>Nana Patekar to star in 'Housefull 4'</td>\n",
       "      <td>'Housefull 4' producer Sajid Nadiadwala has co...</td>\n",
       "    </tr>\n",
       "    <tr>\n",
       "      <th>63897</th>\n",
       "      <td>CBI registers FIR for misuse of PM's name in l...</td>\n",
       "      <td>The CBI has registered a case against unidenti...</td>\n",
       "    </tr>\n",
       "    <tr>\n",
       "      <th>90385</th>\n",
       "      <td>Award-winning mountaineer Ueli Steck cremated ...</td>\n",
       "      <td>The body of award-winning Swiss mountaineer Ue...</td>\n",
       "    </tr>\n",
       "    <tr>\n",
       "      <th>14034</th>\n",
       "      <td>Odisha orders evacuation of areas ahead of cyc...</td>\n",
       "      <td>Odisha government has ordered an immediate eva...</td>\n",
       "    </tr>\n",
       "    <tr>\n",
       "      <th>49384</th>\n",
       "      <td>Pakistan minister shoots wife, kills himself</td>\n",
       "      <td>Pakistani provincial minister Mir Hazar Bijara...</td>\n",
       "    </tr>\n",
       "    <tr>\n",
       "      <th>80744</th>\n",
       "      <td>Trump hints at changing position on Paris clim...</td>\n",
       "      <td>US President Donald Trump on Thursday suggeste...</td>\n",
       "    </tr>\n",
       "    <tr>\n",
       "      <th>51214</th>\n",
       "      <td>Researchers patent glasses which can prevent m...</td>\n",
       "      <td>University of Michigan researchers have patent...</td>\n",
       "    </tr>\n",
       "  </tbody>\n",
       "</table>\n",
       "</div>"
      ],
      "text/plain": [
       "                                               headlines  \\\n",
       "79856  Guj firm to give 'Made in India' phones to its...   \n",
       "2431   FBI probed whether Trump was secretly working ...   \n",
       "14848  Pedestrian killed by windowpane that fell 250 ...   \n",
       "26574              Nana Patekar to star in 'Housefull 4'   \n",
       "63897  CBI registers FIR for misuse of PM's name in l...   \n",
       "90385  Award-winning mountaineer Ueli Steck cremated ...   \n",
       "14034  Odisha orders evacuation of areas ahead of cyc...   \n",
       "49384       Pakistan minister shoots wife, kills himself   \n",
       "80744  Trump hints at changing position on Paris clim...   \n",
       "51214  Researchers patent glasses which can prevent m...   \n",
       "\n",
       "                                                    text  \n",
       "79856  Amidst ongoing tensions between India and Chin...  \n",
       "2431   The Federal Bureau of Investigation opened a p...  \n",
       "14848  A man was killed after he was hit by a windowp...  \n",
       "26574  'Housefull 4' producer Sajid Nadiadwala has co...  \n",
       "63897  The CBI has registered a case against unidenti...  \n",
       "90385  The body of award-winning Swiss mountaineer Ue...  \n",
       "14034  Odisha government has ordered an immediate eva...  \n",
       "49384  Pakistani provincial minister Mir Hazar Bijara...  \n",
       "80744  US President Donald Trump on Thursday suggeste...  \n",
       "51214  University of Michigan researchers have patent...  "
      ]
     },
     "execution_count": 3,
     "metadata": {},
     "output_type": "execute_result"
    }
   ],
   "source": [
    "#데이터 수집하기, 아래 링크 기사데이터 사용, 데이터 다운로드 하기\n",
    "\n",
    "import urllib.request\n",
    "urllib.request.urlretrieve(\"https://raw.githubusercontent.com/sunnysai12345/News_Summary/master/news_summary_more.csv\", filename=\"news_summary_more.csv\")\n",
    "data = pd.read_csv('news_summary_more.csv', encoding='iso-8859-1')\n",
    "\n",
    "data.sample(10)"
   ]
  },
  {
   "cell_type": "code",
   "execution_count": 4,
   "id": "colored-flavor",
   "metadata": {},
   "outputs": [
    {
     "data": {
      "text/html": [
       "<div>\n",
       "<style scoped>\n",
       "    .dataframe tbody tr th:only-of-type {\n",
       "        vertical-align: middle;\n",
       "    }\n",
       "\n",
       "    .dataframe tbody tr th {\n",
       "        vertical-align: top;\n",
       "    }\n",
       "\n",
       "    .dataframe thead th {\n",
       "        text-align: right;\n",
       "    }\n",
       "</style>\n",
       "<table border=\"1\" class=\"dataframe\">\n",
       "  <thead>\n",
       "    <tr style=\"text-align: right;\">\n",
       "      <th></th>\n",
       "      <th>headlines</th>\n",
       "      <th>text</th>\n",
       "    </tr>\n",
       "  </thead>\n",
       "  <tbody>\n",
       "    <tr>\n",
       "      <th>0</th>\n",
       "      <td>upGrad learner switches to career in ML &amp; Al w...</td>\n",
       "      <td>Saurav Kant, an alumnus of upGrad and IIIT-B's...</td>\n",
       "    </tr>\n",
       "    <tr>\n",
       "      <th>1</th>\n",
       "      <td>Delhi techie wins free food from Swiggy for on...</td>\n",
       "      <td>Kunal Shah's credit card bill payment platform...</td>\n",
       "    </tr>\n",
       "    <tr>\n",
       "      <th>2</th>\n",
       "      <td>New Zealand end Rohit Sharma-led India's 12-ma...</td>\n",
       "      <td>New Zealand defeated India by 8 wickets in the...</td>\n",
       "    </tr>\n",
       "    <tr>\n",
       "      <th>3</th>\n",
       "      <td>Aegon life iTerm insurance plan helps customer...</td>\n",
       "      <td>With Aegon Life iTerm Insurance plan, customer...</td>\n",
       "    </tr>\n",
       "    <tr>\n",
       "      <th>4</th>\n",
       "      <td>Have known Hirani for yrs, what if MeToo claim...</td>\n",
       "      <td>Speaking about the sexual harassment allegatio...</td>\n",
       "    </tr>\n",
       "  </tbody>\n",
       "</table>\n",
       "</div>"
      ],
      "text/plain": [
       "                                           headlines  \\\n",
       "0  upGrad learner switches to career in ML & Al w...   \n",
       "1  Delhi techie wins free food from Swiggy for on...   \n",
       "2  New Zealand end Rohit Sharma-led India's 12-ma...   \n",
       "3  Aegon life iTerm insurance plan helps customer...   \n",
       "4  Have known Hirani for yrs, what if MeToo claim...   \n",
       "\n",
       "                                                text  \n",
       "0  Saurav Kant, an alumnus of upGrad and IIIT-B's...  \n",
       "1  Kunal Shah's credit card bill payment platform...  \n",
       "2  New Zealand defeated India by 8 wickets in the...  \n",
       "3  With Aegon Life iTerm Insurance plan, customer...  \n",
       "4  Speaking about the sexual harassment allegatio...  "
      ]
     },
     "execution_count": 4,
     "metadata": {},
     "output_type": "execute_result"
    }
   ],
   "source": [
    "data.head()"
   ]
  },
  {
   "cell_type": "code",
   "execution_count": 5,
   "id": "nutritional-victory",
   "metadata": {},
   "outputs": [
    {
     "data": {
      "text/html": [
       "<div>\n",
       "<style scoped>\n",
       "    .dataframe tbody tr th:only-of-type {\n",
       "        vertical-align: middle;\n",
       "    }\n",
       "\n",
       "    .dataframe tbody tr th {\n",
       "        vertical-align: top;\n",
       "    }\n",
       "\n",
       "    .dataframe thead th {\n",
       "        text-align: right;\n",
       "    }\n",
       "</style>\n",
       "<table border=\"1\" class=\"dataframe\">\n",
       "  <thead>\n",
       "    <tr style=\"text-align: right;\">\n",
       "      <th></th>\n",
       "      <th>text</th>\n",
       "      <th>headlines</th>\n",
       "    </tr>\n",
       "  </thead>\n",
       "  <tbody>\n",
       "    <tr>\n",
       "      <th>88264</th>\n",
       "      <td>Actor Tiger Shroff took to Twitter to share th...</td>\n",
       "      <td>Tiger Shroff unveils first look poster of 'Ram...</td>\n",
       "    </tr>\n",
       "    <tr>\n",
       "      <th>86965</th>\n",
       "      <td>Game of Thrones actor Jason Momoa, who played ...</td>\n",
       "      <td>Game of Thrones' Khal Drogo does a war cry wit...</td>\n",
       "    </tr>\n",
       "    <tr>\n",
       "      <th>36073</th>\n",
       "      <td>Facebook added nearly $21 billion in market va...</td>\n",
       "      <td>Facebook gained $21 billion during Zuckerberg'...</td>\n",
       "    </tr>\n",
       "    <tr>\n",
       "      <th>71276</th>\n",
       "      <td>Actress Riya Sen, while responding to rumours ...</td>\n",
       "      <td>Expected pregnancy speculation at time of my w...</td>\n",
       "    </tr>\n",
       "    <tr>\n",
       "      <th>61550</th>\n",
       "      <td>Former Indian captain MS Dhoni officially laun...</td>\n",
       "      <td>MS Dhoni launches cricket academy in Dubai</td>\n",
       "    </tr>\n",
       "    <tr>\n",
       "      <th>12950</th>\n",
       "      <td>The Enforcement Directorate on Thursday said i...</td>\n",
       "      <td>ED issues notice to NDTV over Ã¢ÂÂ¹4,300 cror...</td>\n",
       "    </tr>\n",
       "    <tr>\n",
       "      <th>5951</th>\n",
       "      <td>Former two-time Chief Executive Officer (CEO) ...</td>\n",
       "      <td>Former two-time CEO of Jet Airways quits as ad...</td>\n",
       "    </tr>\n",
       "    <tr>\n",
       "      <th>84290</th>\n",
       "      <td>Financial services major Barclays and four for...</td>\n",
       "      <td>Barclays, former top execs charged with fraud ...</td>\n",
       "    </tr>\n",
       "    <tr>\n",
       "      <th>30891</th>\n",
       "      <td>Actress Aishwarya Rai Bachchan has said if a w...</td>\n",
       "      <td>Applying makeup doesn't mean you don't have br...</td>\n",
       "    </tr>\n",
       "    <tr>\n",
       "      <th>35100</th>\n",
       "      <td>MI wicketkeeper Ishan Kishan on Tuesday suffer...</td>\n",
       "      <td>MI keeper Kishan hit on the face by Hardik Pan...</td>\n",
       "    </tr>\n",
       "    <tr>\n",
       "      <th>7182</th>\n",
       "      <td>Denmark is planning to send criminal immigrant...</td>\n",
       "      <td>Denmark plans to put criminal immigrants on re...</td>\n",
       "    </tr>\n",
       "    <tr>\n",
       "      <th>86776</th>\n",
       "      <td>The US has proposed fining United Airlines $43...</td>\n",
       "      <td>United facing Ã¢ÂÂ¹3 crore fine for flying un...</td>\n",
       "    </tr>\n",
       "    <tr>\n",
       "      <th>46425</th>\n",
       "      <td>About 11 years after its incorporation, Americ...</td>\n",
       "      <td>Dropbox files for IPO of up to $500 million</td>\n",
       "    </tr>\n",
       "    <tr>\n",
       "      <th>51001</th>\n",
       "      <td>Actor Rishi Kapoor has revealed that he has bl...</td>\n",
       "      <td>Have blocked more than 5,000 people on Twitter...</td>\n",
       "    </tr>\n",
       "    <tr>\n",
       "      <th>79279</th>\n",
       "      <td>\"The greatest favour Rahul Gandhi could do him...</td>\n",
       "      <td>Greatest favour Rahul Gandhi could do is retir...</td>\n",
       "    </tr>\n",
       "  </tbody>\n",
       "</table>\n",
       "</div>"
      ],
      "text/plain": [
       "                                                    text  \\\n",
       "88264  Actor Tiger Shroff took to Twitter to share th...   \n",
       "86965  Game of Thrones actor Jason Momoa, who played ...   \n",
       "36073  Facebook added nearly $21 billion in market va...   \n",
       "71276  Actress Riya Sen, while responding to rumours ...   \n",
       "61550  Former Indian captain MS Dhoni officially laun...   \n",
       "12950  The Enforcement Directorate on Thursday said i...   \n",
       "5951   Former two-time Chief Executive Officer (CEO) ...   \n",
       "84290  Financial services major Barclays and four for...   \n",
       "30891  Actress Aishwarya Rai Bachchan has said if a w...   \n",
       "35100  MI wicketkeeper Ishan Kishan on Tuesday suffer...   \n",
       "7182   Denmark is planning to send criminal immigrant...   \n",
       "86776  The US has proposed fining United Airlines $43...   \n",
       "46425  About 11 years after its incorporation, Americ...   \n",
       "51001  Actor Rishi Kapoor has revealed that he has bl...   \n",
       "79279  \"The greatest favour Rahul Gandhi could do him...   \n",
       "\n",
       "                                               headlines  \n",
       "88264  Tiger Shroff unveils first look poster of 'Ram...  \n",
       "86965  Game of Thrones' Khal Drogo does a war cry wit...  \n",
       "36073  Facebook gained $21 billion during Zuckerberg'...  \n",
       "71276  Expected pregnancy speculation at time of my w...  \n",
       "61550         MS Dhoni launches cricket academy in Dubai  \n",
       "12950  ED issues notice to NDTV over Ã¢ÂÂ¹4,300 cror...  \n",
       "5951   Former two-time CEO of Jet Airways quits as ad...  \n",
       "84290  Barclays, former top execs charged with fraud ...  \n",
       "30891  Applying makeup doesn't mean you don't have br...  \n",
       "35100  MI keeper Kishan hit on the face by Hardik Pan...  \n",
       "7182   Denmark plans to put criminal immigrants on re...  \n",
       "86776  United facing Ã¢ÂÂ¹3 crore fine for flying un...  \n",
       "46425        Dropbox files for IPO of up to $500 million  \n",
       "51001  Have blocked more than 5,000 people on Twitter...  \n",
       "79279  Greatest favour Rahul Gandhi could do is retir...  "
      ]
     },
     "execution_count": 5,
     "metadata": {},
     "output_type": "execute_result"
    }
   ],
   "source": [
    "data = data[['text','headlines']]\n",
    "data.head()\n",
    "\n",
    "#랜덤한 15개 샘플 출력\n",
    "data.sample(15)"
   ]
  },
  {
   "cell_type": "code",
   "execution_count": 6,
   "id": "acquired-mississippi",
   "metadata": {},
   "outputs": [
    {
     "name": "stdout",
     "output_type": "stream",
     "text": [
      "Text 열에서 중복을 배제한 유일한 샘플의 수 : 98360\n",
      "Summary 열에서 중복을 배제한 유일한 샘플의 수 : 98280\n"
     ]
    }
   ],
   "source": [
    "print('Text 열에서 중복을 배제한 유일한 샘플의 수 :', data['text'].nunique())\n",
    "print('Summary 열에서 중복을 배제한 유일한 샘플의 수 :', data['headlines'].nunique())"
   ]
  },
  {
   "cell_type": "code",
   "execution_count": 7,
   "id": "concerned-current",
   "metadata": {},
   "outputs": [
    {
     "name": "stdout",
     "output_type": "stream",
     "text": [
      "전체 샘플수 : 98360\n"
     ]
    }
   ],
   "source": [
    "data.drop_duplicates(subset = ['text'], inplace = True)\n",
    "print('전체 샘플수 :',(len(data)))"
   ]
  },
  {
   "cell_type": "code",
   "execution_count": 8,
   "id": "respected-yellow",
   "metadata": {},
   "outputs": [
    {
     "name": "stdout",
     "output_type": "stream",
     "text": [
      "text         0\n",
      "headlines    0\n",
      "dtype: int64\n"
     ]
    }
   ],
   "source": [
    "print(data.isnull().sum())"
   ]
  },
  {
   "cell_type": "code",
   "execution_count": 9,
   "id": "cheap-powder",
   "metadata": {},
   "outputs": [
    {
     "name": "stdout",
     "output_type": "stream",
     "text": [
      "전체 샘플수 : 98360\n"
     ]
    }
   ],
   "source": [
    "data.dropna(axis = 0, inplace = True)\n",
    "print('전체 샘플수 :',(len(data)))"
   ]
  },
  {
   "cell_type": "code",
   "execution_count": 10,
   "id": "lesbian-convention",
   "metadata": {},
   "outputs": [
    {
     "name": "stdout",
     "output_type": "stream",
     "text": [
      "정규화 사전의 수:  120\n"
     ]
    }
   ],
   "source": [
    "contractions = {\"ain't\": \"is not\", \"aren't\": \"are not\",\"can't\": \"cannot\", \"'cause\": \"because\", \"could've\": \"could have\", \"couldn't\": \"could not\",\n",
    "                           \"didn't\": \"did not\",  \"doesn't\": \"does not\", \"don't\": \"do not\", \"hadn't\": \"had not\", \"hasn't\": \"has not\", \"haven't\": \"have not\",\n",
    "                           \"he'd\": \"he would\",\"he'll\": \"he will\", \"he's\": \"he is\", \"how'd\": \"how did\", \"how'd'y\": \"how do you\", \"how'll\": \"how will\", \"how's\": \"how is\",\n",
    "                           \"I'd\": \"I would\", \"I'd've\": \"I would have\", \"I'll\": \"I will\", \"I'll've\": \"I will have\",\"I'm\": \"I am\", \"I've\": \"I have\", \"i'd\": \"i would\",\n",
    "                           \"i'd've\": \"i would have\", \"i'll\": \"i will\",  \"i'll've\": \"i will have\",\"i'm\": \"i am\", \"i've\": \"i have\", \"isn't\": \"is not\", \"it'd\": \"it would\",\n",
    "                           \"it'd've\": \"it would have\", \"it'll\": \"it will\", \"it'll've\": \"it will have\",\"it's\": \"it is\", \"let's\": \"let us\", \"ma'am\": \"madam\",\n",
    "                           \"mayn't\": \"may not\", \"might've\": \"might have\",\"mightn't\": \"might not\",\"mightn't've\": \"might not have\", \"must've\": \"must have\",\n",
    "                           \"mustn't\": \"must not\", \"mustn't've\": \"must not have\", \"needn't\": \"need not\", \"needn't've\": \"need not have\",\"o'clock\": \"of the clock\",\n",
    "                           \"oughtn't\": \"ought not\", \"oughtn't've\": \"ought not have\", \"shan't\": \"shall not\", \"sha'n't\": \"shall not\", \"shan't've\": \"shall not have\",\n",
    "                           \"she'd\": \"she would\", \"she'd've\": \"she would have\", \"she'll\": \"she will\", \"she'll've\": \"she will have\", \"she's\": \"she is\",\n",
    "                           \"should've\": \"should have\", \"shouldn't\": \"should not\", \"shouldn't've\": \"should not have\", \"so've\": \"so have\",\"so's\": \"so as\",\n",
    "                           \"this's\": \"this is\",\"that'd\": \"that would\", \"that'd've\": \"that would have\", \"that's\": \"that is\", \"there'd\": \"there would\",\n",
    "                           \"there'd've\": \"there would have\", \"there's\": \"there is\", \"here's\": \"here is\",\"they'd\": \"they would\", \"they'd've\": \"they would have\",\n",
    "                           \"they'll\": \"they will\", \"they'll've\": \"they will have\", \"they're\": \"they are\", \"they've\": \"they have\", \"to've\": \"to have\",\n",
    "                           \"wasn't\": \"was not\", \"we'd\": \"we would\", \"we'd've\": \"we would have\", \"we'll\": \"we will\", \"we'll've\": \"we will have\", \"we're\": \"we are\",\n",
    "                           \"we've\": \"we have\", \"weren't\": \"were not\", \"what'll\": \"what will\", \"what'll've\": \"what will have\", \"what're\": \"what are\",\n",
    "                           \"what's\": \"what is\", \"what've\": \"what have\", \"when's\": \"when is\", \"when've\": \"when have\", \"where'd\": \"where did\", \"where's\": \"where is\",\n",
    "                           \"where've\": \"where have\", \"who'll\": \"who will\", \"who'll've\": \"who will have\", \"who's\": \"who is\", \"who've\": \"who have\",\n",
    "                           \"why's\": \"why is\", \"why've\": \"why have\", \"will've\": \"will have\", \"won't\": \"will not\", \"won't've\": \"will not have\",\n",
    "                           \"would've\": \"would have\", \"wouldn't\": \"would not\", \"wouldn't've\": \"would not have\", \"y'all\": \"you all\",\n",
    "                           \"y'all'd\": \"you all would\",\"y'all'd've\": \"you all would have\",\"y'all're\": \"you all are\",\"y'all've\": \"you all have\",\n",
    "                           \"you'd\": \"you would\", \"you'd've\": \"you would have\", \"you'll\": \"you will\", \"you'll've\": \"you will have\",\n",
    "                           \"you're\": \"you are\", \"you've\": \"you have\"}\n",
    "\n",
    "print(\"정규화 사전의 수: \",len(contractions))"
   ]
  },
  {
   "cell_type": "code",
   "execution_count": 11,
   "id": "forty-linux",
   "metadata": {},
   "outputs": [
    {
     "name": "stdout",
     "output_type": "stream",
     "text": [
      "불용어 개수 : 179\n",
      "['i', 'me', 'my', 'myself', 'we', 'our', 'ours', 'ourselves', 'you', \"you're\", \"you've\", \"you'll\", \"you'd\", 'your', 'yours', 'yourself', 'yourselves', 'he', 'him', 'his', 'himself', 'she', \"she's\", 'her', 'hers', 'herself', 'it', \"it's\", 'its', 'itself', 'they', 'them', 'their', 'theirs', 'themselves', 'what', 'which', 'who', 'whom', 'this', 'that', \"that'll\", 'these', 'those', 'am', 'is', 'are', 'was', 'were', 'be', 'been', 'being', 'have', 'has', 'had', 'having', 'do', 'does', 'did', 'doing', 'a', 'an', 'the', 'and', 'but', 'if', 'or', 'because', 'as', 'until', 'while', 'of', 'at', 'by', 'for', 'with', 'about', 'against', 'between', 'into', 'through', 'during', 'before', 'after', 'above', 'below', 'to', 'from', 'up', 'down', 'in', 'out', 'on', 'off', 'over', 'under', 'again', 'further', 'then', 'once', 'here', 'there', 'when', 'where', 'why', 'how', 'all', 'any', 'both', 'each', 'few', 'more', 'most', 'other', 'some', 'such', 'no', 'nor', 'not', 'only', 'own', 'same', 'so', 'than', 'too', 'very', 's', 't', 'can', 'will', 'just', 'don', \"don't\", 'should', \"should've\", 'now', 'd', 'll', 'm', 'o', 're', 've', 'y', 'ain', 'aren', \"aren't\", 'couldn', \"couldn't\", 'didn', \"didn't\", 'doesn', \"doesn't\", 'hadn', \"hadn't\", 'hasn', \"hasn't\", 'haven', \"haven't\", 'isn', \"isn't\", 'ma', 'mightn', \"mightn't\", 'mustn', \"mustn't\", 'needn', \"needn't\", 'shan', \"shan't\", 'shouldn', \"shouldn't\", 'wasn', \"wasn't\", 'weren', \"weren't\", 'won', \"won't\", 'wouldn', \"wouldn't\"]\n"
     ]
    }
   ],
   "source": [
    "print('불용어 개수 :', len(stopwords.words('english') ))\n",
    "print(stopwords.words('english'))"
   ]
  },
  {
   "cell_type": "code",
   "execution_count": 12,
   "id": "buried-tracker",
   "metadata": {},
   "outputs": [],
   "source": [
    "#데이터 전처리 함수\n",
    "def preprocess_sentence(sentence, remove_stopwords=True):\n",
    "    sentence = sentence.lower() # 텍스트 소문자화\n",
    "    sentence = BeautifulSoup(sentence, \"lxml\").text # <br />, <a href = ...> 등의 html 태그 제거\n",
    "    sentence = re.sub(r'\\([^)]*\\)', '', sentence) # 괄호로 닫힌 문자열 (...) 제거 Ex) my husband (and myself!) for => my husband for\n",
    "    sentence = re.sub('\"','', sentence) # 쌍따옴표 \" 제거\n",
    "    sentence = ' '.join([contractions[t] if t in contractions else t for t in sentence.split(\" \")]) # 약어 정규화\n",
    "    sentence = re.sub(r\"'s\\b\",\"\",sentence) # 소유격 제거. Ex) roland's -> roland\n",
    "    sentence = re.sub(\"[^a-zA-Z]\", \" \", sentence) # 영어 외 문자(숫자, 특수문자 등) 공백으로 변환\n",
    "    sentence = re.sub('[m]{2,}', 'mm', sentence) # m이 3개 이상이면 2개로 변경. Ex) ummmmmmm yeah -> umm yeah\n",
    "    \n",
    "    # 불용어 제거 (Text)\n",
    "    if remove_stopwords:\n",
    "        tokens = ' '.join(word for word in sentence.split() if not word in stopwords.words('english') if len(word) > 1)\n",
    "    # 불용어 미제거 (Summary)\n",
    "    else:\n",
    "        tokens = ' '.join(word for word in sentence.split() if len(word) > 1)\n",
    "    return tokens"
   ]
  },
  {
   "cell_type": "code",
   "execution_count": 13,
   "id": "saving-ground",
   "metadata": {},
   "outputs": [
    {
     "name": "stdout",
     "output_type": "stream",
     "text": [
      "everything bought great infact ordered twice third ordered wasfor mother father\n",
      "great way to start the day\n"
     ]
    }
   ],
   "source": [
    "temp_text = 'Everything I bought was great, infact I ordered twice and the third ordered was<br />for my mother and father.'\n",
    "temp_summary = 'Great way to start (or finish) the day!!!'\n",
    "\n",
    "print(preprocess_sentence(temp_text))\n",
    "print(preprocess_sentence(temp_summary, False))  # 불용어를 제거하지 않습니다."
   ]
  },
  {
   "cell_type": "code",
   "execution_count": 14,
   "id": "cross-month",
   "metadata": {},
   "outputs": [
    {
     "data": {
      "text/plain": [
       "['saurav kant alumnus upgrad iiit pg program machine learning artificial intelligence sr systems engineer infosys almost years work experience program upgrad degree career support helped transition data scientist tech mahindra salary hike upgrad online power learning powered lakh careers',\n",
       " 'kunal shah credit card bill payment platform cred gave users chance win free food swiggy one year pranav kaushik delhi techie bagged reward spending cred coins users get one cred coin per rupee bill paid used avail rewards brands like ixigo bookmyshow ubereats cult fit',\n",
       " 'new zealand defeated india wickets fourth odi hamilton thursday win first match five match odi series india lost international match rohit sharma captaincy consecutive victories dating back march match witnessed india getting seventh lowest total odi cricket history',\n",
       " 'aegon life iterm insurance plan customers enjoy tax benefits premiums paid save taxes plan provides life cover age years also customers options insure critical illnesses disability accidental death benefit rider life cover age years',\n",
       " 'speaking sexual harassment allegations rajkumar hirani sonam kapoor said known hirani many years true metoo movement get derailed metoo movement always believe woman case need reserve judgment added hirani accused assistant worked sanju']"
      ]
     },
     "execution_count": 14,
     "metadata": {},
     "output_type": "execute_result"
    }
   ],
   "source": [
    "clean_text = []\n",
    "\n",
    "# 전체 Text 데이터에 대한 전처리 : 10분 이상 시간이 걸릴 수 있습니다. \n",
    "for s in data['text']:\n",
    "    clean_text.append(preprocess_sentence(s))\n",
    "\n",
    "# 전처리 후 출력\n",
    "clean_text[:5]"
   ]
  },
  {
   "cell_type": "code",
   "execution_count": 15,
   "id": "gorgeous-arizona",
   "metadata": {},
   "outputs": [
    {
     "data": {
      "text/plain": [
       "['upgrad learner switches to career in ml al with salary hike',\n",
       " 'delhi techie wins free food from swiggy for one year on cred',\n",
       " 'new zealand end rohit sharma led india match winning streak',\n",
       " 'aegon life iterm insurance plan helps customers save tax',\n",
       " 'have known hirani for yrs what if metoo claims are not true sonam']"
      ]
     },
     "execution_count": 15,
     "metadata": {},
     "output_type": "execute_result"
    }
   ],
   "source": [
    "clean_summary = []\n",
    "\n",
    "# 전체 Summary 데이터에 대한 전처리 : 5분 이상 시간이 걸릴 수 있습니다. \n",
    "for s in data['headlines']:\n",
    "    clean_summary.append(preprocess_sentence(s, False))\n",
    "\n",
    "clean_summary[:5]"
   ]
  },
  {
   "cell_type": "code",
   "execution_count": 16,
   "id": "continued-genealogy",
   "metadata": {},
   "outputs": [],
   "source": [
    "data['text'] = clean_text\n",
    "data['headlines'] = clean_summary\n",
    "\n",
    "# 빈 값을 Null 값으로 변환\n",
    "data.replace('', np.nan, inplace=True)"
   ]
  },
  {
   "cell_type": "code",
   "execution_count": 17,
   "id": "changed-cassette",
   "metadata": {},
   "outputs": [
    {
     "data": {
      "text/plain": [
       "text         0\n",
       "headlines    0\n",
       "dtype: int64"
      ]
     },
     "execution_count": 17,
     "metadata": {},
     "output_type": "execute_result"
    }
   ],
   "source": [
    "data.isnull().sum()"
   ]
  },
  {
   "cell_type": "code",
   "execution_count": 18,
   "id": "insured-subscriber",
   "metadata": {},
   "outputs": [
    {
     "name": "stdout",
     "output_type": "stream",
     "text": [
      "전체 샘플수 : 98360\n"
     ]
    }
   ],
   "source": [
    "data.dropna(axis=0, inplace=True)\n",
    "print('전체 샘플수 :',(len(data)))#데이터 전처리 함수"
   ]
  },
  {
   "cell_type": "code",
   "execution_count": 19,
   "id": "mexican-kennedy",
   "metadata": {},
   "outputs": [
    {
     "name": "stdout",
     "output_type": "stream",
     "text": [
      "텍스트의 최소 길이 : 1\n",
      "텍스트의 최대 길이 : 60\n",
      "텍스트의 평균 길이 : 35.09968483123221\n",
      "요약의 최소 길이 : 1\n",
      "요약의 최대 길이 : 16\n",
      "요약의 평균 길이 : 9.299532330215534\n"
     ]
    },
    {
     "data": {
      "image/png": "[encoded data removed]",
      "text/plain": [
       "<Figure size 432x288 with 2 Axes>"
      ]
     },
     "metadata": {
      "needs_background": "light"
     },
     "output_type": "display_data"
    },
    {
     "data": {
      "image/png": "[encoded data removed]",
      "text/plain": [
       "<Figure size 432x288 with 1 Axes>"
      ]
     },
     "metadata": {
      "needs_background": "light"
     },
     "output_type": "display_data"
    },
    {
     "data": {
      "image/png": "[encoded data removed]",
      "text/plain": [
       "<Figure size 432x288 with 1 Axes>"
      ]
     },
     "metadata": {
      "needs_background": "light"
     },
     "output_type": "display_data"
    }
   ],
   "source": [
    "# 길이 분포 출력\n",
    "import matplotlib.pyplot as plt\n",
    "\n",
    "text_len = [len(s.split()) for s in data['text']]\n",
    "summary_len = [len(s.split()) for s in data['headlines']]\n",
    "\n",
    "print('텍스트의 최소 길이 : {}'.format(np.min(text_len)))\n",
    "print('텍스트의 최대 길이 : {}'.format(np.max(text_len)))\n",
    "print('텍스트의 평균 길이 : {}'.format(np.mean(text_len)))\n",
    "print('요약의 최소 길이 : {}'.format(np.min(summary_len)))\n",
    "print('요약의 최대 길이 : {}'.format(np.max(summary_len)))\n",
    "print('요약의 평균 길이 : {}'.format(np.mean(summary_len)))\n",
    "\n",
    "plt.subplot(1,2,1)\n",
    "plt.boxplot(summary_len)\n",
    "plt.title('headlines')\n",
    "plt.subplot(1,2,2)\n",
    "plt.boxplot(text_len)\n",
    "plt.title('text')\n",
    "plt.tight_layout()\n",
    "plt.show()\n",
    "\n",
    "plt.title('Summary')\n",
    "plt.hist(summary_len, bins = 40)\n",
    "plt.xlabel('length of samples')\n",
    "plt.ylabel('number of samples')\n",
    "plt.show()\n",
    "\n",
    "plt.title('Text')\n",
    "plt.hist(text_len, bins = 40)\n",
    "plt.xlabel('length of samples')\n",
    "plt.ylabel('number of samples')\n",
    "plt.show()"
   ]
  },
  {
   "cell_type": "code",
   "execution_count": 20,
   "id": "included-entry",
   "metadata": {},
   "outputs": [],
   "source": [
    "text_max_len = 50\n",
    "summary_max_len = 12"
   ]
  },
  {
   "cell_type": "code",
   "execution_count": 21,
   "id": "tracked-reward",
   "metadata": {},
   "outputs": [],
   "source": [
    "def below_threshold_len(max_len, nested_list):\n",
    "  cnt = 0\n",
    "  for s in nested_list:\n",
    "    if(len(s.split()) <= max_len):\n",
    "        cnt = cnt + 1\n",
    "  print('전체 샘플 중 길이가 %s 이하인 샘플의 비율: %s'%(max_len, (cnt / len(nested_list))))"
   ]
  },
  {
   "cell_type": "code",
   "execution_count": 23,
   "id": "specific-march",
   "metadata": {},
   "outputs": [
    {
     "name": "stdout",
     "output_type": "stream",
     "text": [
      "전체 샘플 중 길이가 50 이하인 샘플의 비율: 0.9998576657177715\n",
      "전체 샘플 중 길이가 12 이하인 샘플의 비율: 0.9880337535583571\n"
     ]
    }
   ],
   "source": [
    "below_threshold_len(text_max_len, data['text'])\n",
    "below_threshold_len(summary_max_len,  data['headlines'])"
   ]
  },
  {
   "cell_type": "code",
   "execution_count": 24,
   "id": "oriented-chain",
   "metadata": {},
   "outputs": [
    {
     "name": "stdout",
     "output_type": "stream",
     "text": [
      "전체 샘플수 : 97169\n"
     ]
    }
   ],
   "source": [
    "data = data[data['text'].apply(lambda x: len(x.split()) <= text_max_len)]\n",
    "data = data[data['headlines'].apply(lambda x: len(x.split()) <= summary_max_len)]\n",
    "print('전체 샘플수 :',(len(data)))"
   ]
  },
  {
   "cell_type": "code",
   "execution_count": 25,
   "id": "wireless-white",
   "metadata": {},
   "outputs": [
    {
     "data": {
      "text/html": [
       "<div>\n",
       "<style scoped>\n",
       "    .dataframe tbody tr th:only-of-type {\n",
       "        vertical-align: middle;\n",
       "    }\n",
       "\n",
       "    .dataframe tbody tr th {\n",
       "        vertical-align: top;\n",
       "    }\n",
       "\n",
       "    .dataframe thead th {\n",
       "        text-align: right;\n",
       "    }\n",
       "</style>\n",
       "<table border=\"1\" class=\"dataframe\">\n",
       "  <thead>\n",
       "    <tr style=\"text-align: right;\">\n",
       "      <th></th>\n",
       "      <th>text</th>\n",
       "      <th>headlines</th>\n",
       "      <th>decoder_input</th>\n",
       "      <th>decoder_target</th>\n",
       "    </tr>\n",
       "  </thead>\n",
       "  <tbody>\n",
       "    <tr>\n",
       "      <th>0</th>\n",
       "      <td>saurav kant alumnus upgrad iiit pg program mac...</td>\n",
       "      <td>upgrad learner switches to career in ml al wit...</td>\n",
       "      <td>sostoken upgrad learner switches to career in ...</td>\n",
       "      <td>upgrad learner switches to career in ml al wit...</td>\n",
       "    </tr>\n",
       "    <tr>\n",
       "      <th>1</th>\n",
       "      <td>kunal shah credit card bill payment platform c...</td>\n",
       "      <td>delhi techie wins free food from swiggy for on...</td>\n",
       "      <td>sostoken delhi techie wins free food from swig...</td>\n",
       "      <td>delhi techie wins free food from swiggy for on...</td>\n",
       "    </tr>\n",
       "    <tr>\n",
       "      <th>2</th>\n",
       "      <td>new zealand defeated india wickets fourth odi ...</td>\n",
       "      <td>new zealand end rohit sharma led india match w...</td>\n",
       "      <td>sostoken new zealand end rohit sharma led indi...</td>\n",
       "      <td>new zealand end rohit sharma led india match w...</td>\n",
       "    </tr>\n",
       "    <tr>\n",
       "      <th>3</th>\n",
       "      <td>aegon life iterm insurance plan customers enjo...</td>\n",
       "      <td>aegon life iterm insurance plan helps customer...</td>\n",
       "      <td>sostoken aegon life iterm insurance plan helps...</td>\n",
       "      <td>aegon life iterm insurance plan helps customer...</td>\n",
       "    </tr>\n",
       "    <tr>\n",
       "      <th>5</th>\n",
       "      <td>pakistani singer rahat fateh ali khan denied r...</td>\n",
       "      <td>rahat fateh ali khan denies getting notice for...</td>\n",
       "      <td>sostoken rahat fateh ali khan denies getting n...</td>\n",
       "      <td>rahat fateh ali khan denies getting notice for...</td>\n",
       "    </tr>\n",
       "  </tbody>\n",
       "</table>\n",
       "</div>"
      ],
      "text/plain": [
       "                                                text  \\\n",
       "0  saurav kant alumnus upgrad iiit pg program mac...   \n",
       "1  kunal shah credit card bill payment platform c...   \n",
       "2  new zealand defeated india wickets fourth odi ...   \n",
       "3  aegon life iterm insurance plan customers enjo...   \n",
       "5  pakistani singer rahat fateh ali khan denied r...   \n",
       "\n",
       "                                           headlines  \\\n",
       "0  upgrad learner switches to career in ml al wit...   \n",
       "1  delhi techie wins free food from swiggy for on...   \n",
       "2  new zealand end rohit sharma led india match w...   \n",
       "3  aegon life iterm insurance plan helps customer...   \n",
       "5  rahat fateh ali khan denies getting notice for...   \n",
       "\n",
       "                                       decoder_input  \\\n",
       "0  sostoken upgrad learner switches to career in ...   \n",
       "1  sostoken delhi techie wins free food from swig...   \n",
       "2  sostoken new zealand end rohit sharma led indi...   \n",
       "3  sostoken aegon life iterm insurance plan helps...   \n",
       "5  sostoken rahat fateh ali khan denies getting n...   \n",
       "\n",
       "                                      decoder_target  \n",
       "0  upgrad learner switches to career in ml al wit...  \n",
       "1  delhi techie wins free food from swiggy for on...  \n",
       "2  new zealand end rohit sharma led india match w...  \n",
       "3  aegon life iterm insurance plan helps customer...  \n",
       "5  rahat fateh ali khan denies getting notice for...  "
      ]
     },
     "execution_count": 25,
     "metadata": {},
     "output_type": "execute_result"
    }
   ],
   "source": [
    "#요약 데이터에는 시작 토큰과 종료 토큰을 추가한다.\n",
    "data['decoder_input'] = data['headlines'].apply(lambda x : 'sostoken '+ x)\n",
    "data['decoder_target'] = data['headlines'].apply(lambda x : x + ' eostoken')\n",
    "data.head()"
   ]
  },
  {
   "cell_type": "code",
   "execution_count": 26,
   "id": "portuguese-canada",
   "metadata": {},
   "outputs": [],
   "source": [
    "encoder_input = np.array(data['text']) # 인코더의 입력\n",
    "decoder_input = np.array(data['decoder_input']) # 디코더의 입력\n",
    "decoder_target = np.array(data['decoder_target']) # 디코더의 레이블"
   ]
  },
  {
   "cell_type": "code",
   "execution_count": 27,
   "id": "eligible-satellite",
   "metadata": {},
   "outputs": [
    {
     "name": "stdout",
     "output_type": "stream",
     "text": [
      "[29052 54674 64399 ... 53718 12899 85792]\n"
     ]
    }
   ],
   "source": [
    "indices = np.arange(encoder_input.shape[0])\n",
    "np.random.shuffle(indices)\n",
    "print(indices)"
   ]
  },
  {
   "cell_type": "code",
   "execution_count": 28,
   "id": "hungarian-spectacular",
   "metadata": {},
   "outputs": [],
   "source": [
    "encoder_input = encoder_input[indices]\n",
    "decoder_input = decoder_input[indices]\n",
    "decoder_target = decoder_target[indices]"
   ]
  },
  {
   "cell_type": "code",
   "execution_count": 29,
   "id": "christian-plastic",
   "metadata": {},
   "outputs": [
    {
     "name": "stdout",
     "output_type": "stream",
     "text": [
      "테스트 데이터의 수 : 19433\n"
     ]
    }
   ],
   "source": [
    "n_of_val = int(len(encoder_input)*0.2)\n",
    "print('테스트 데이터의 수 :',n_of_val)"
   ]
  },
  {
   "cell_type": "code",
   "execution_count": 30,
   "id": "intermediate-castle",
   "metadata": {},
   "outputs": [
    {
     "name": "stdout",
     "output_type": "stream",
     "text": [
      "훈련 데이터의 개수 : 77736\n",
      "훈련 레이블의 개수 : 77736\n",
      "테스트 데이터의 개수 : 19433\n",
      "테스트 레이블의 개수 : 19433\n"
     ]
    }
   ],
   "source": [
    "encoder_input_train = encoder_input[:-n_of_val]\n",
    "decoder_input_train = decoder_input[:-n_of_val]\n",
    "decoder_target_train = decoder_target[:-n_of_val]\n",
    "\n",
    "encoder_input_test = encoder_input[-n_of_val:]\n",
    "decoder_input_test = decoder_input[-n_of_val:]\n",
    "decoder_target_test = decoder_target[-n_of_val:]\n",
    "\n",
    "print('훈련 데이터의 개수 :', len(encoder_input_train))\n",
    "print('훈련 레이블의 개수 :',len(decoder_input_train))\n",
    "print('테스트 데이터의 개수 :',len(encoder_input_test))\n",
    "print('테스트 레이블의 개수 :',len(decoder_input_test))"
   ]
  },
  {
   "cell_type": "code",
   "execution_count": 31,
   "id": "documentary-wheat",
   "metadata": {},
   "outputs": [],
   "source": [
    "src_tokenizer = Tokenizer() # 토크나이저 정의\n",
    "src_tokenizer.fit_on_texts(encoder_input_train) # 입력된 데이터로부터 단어 집합 생성"
   ]
  },
  {
   "cell_type": "code",
   "execution_count": 32,
   "id": "speaking-group",
   "metadata": {},
   "outputs": [
    {
     "name": "stdout",
     "output_type": "stream",
     "text": [
      "단어 집합(vocabulary)의 크기 : 69412\n",
      "등장 빈도가 6번 이하인 희귀 단어의 수: 47354\n",
      "단어 집합에서 희귀 단어를 제외시킬 경우의 단어 집합의 크기 22058\n",
      "단어 집합에서 희귀 단어의 비율: 68.22163314700627\n",
      "전체 등장 빈도에서 희귀 단어 등장 빈도 비율: 3.529150931814726\n"
     ]
    }
   ],
   "source": [
    "threshold = 7\n",
    "total_cnt = len(src_tokenizer.word_index) # 단어의 수\n",
    "rare_cnt = 0 # 등장 빈도수가 threshold보다 작은 단어의 개수를 카운트\n",
    "total_freq = 0 # 훈련 데이터의 전체 단어 빈도수 총 합\n",
    "rare_freq = 0 # 등장 빈도수가 threshold보다 작은 단어의 등장 빈도수의 총 합\n",
    "\n",
    "# 단어와 빈도수의 쌍(pair)을 key와 value로 받는다.\n",
    "for key, value in src_tokenizer.word_counts.items():\n",
    "    total_freq = total_freq + value\n",
    "\n",
    "    # 단어의 등장 빈도수가 threshold보다 작으면\n",
    "    if(value < threshold):\n",
    "        rare_cnt = rare_cnt + 1\n",
    "        rare_freq = rare_freq + value\n",
    "\n",
    "print('단어 집합(vocabulary)의 크기 :',total_cnt)\n",
    "print('등장 빈도가 %s번 이하인 희귀 단어의 수: %s'%(threshold - 1, rare_cnt))\n",
    "print('단어 집합에서 희귀 단어를 제외시킬 경우의 단어 집합의 크기 %s'%(total_cnt - rare_cnt))\n",
    "print(\"단어 집합에서 희귀 단어의 비율:\", (rare_cnt / total_cnt)*100)\n",
    "print(\"전체 등장 빈도에서 희귀 단어 등장 빈도 비율:\", (rare_freq / total_freq)*100)"
   ]
  },
  {
   "cell_type": "code",
   "execution_count": 33,
   "id": "graduate-criticism",
   "metadata": {},
   "outputs": [],
   "source": [
    "src_vocab = 8000\n",
    "src_tokenizer = Tokenizer(num_words = src_vocab) # 단어 집합의 크기를 8,000으로 제한\n",
    "src_tokenizer.fit_on_texts(encoder_input_train) # 단어 집합 재생성."
   ]
  },
  {
   "cell_type": "code",
   "execution_count": 34,
   "id": "distinguished-aurora",
   "metadata": {},
   "outputs": [
    {
     "name": "stdout",
     "output_type": "stream",
     "text": [
      "[[2, 3360, 3230, 1483, 183, 62, 3360, 636, 1957, 19, 399, 2369, 2969, 65, 6669, 2086, 764, 1508, 1361, 2970, 264, 1717, 3563, 143, 2086, 6, 347, 1521, 100, 528, 551, 5433, 2384], [3, 13, 64, 5, 247, 898, 692, 155, 4402, 23, 420, 1023, 19, 200, 4402, 4272, 1817, 898, 3, 151, 729, 65, 4402, 1885, 119, 1817, 898, 482, 812, 242], [409, 7121, 2107, 72, 966, 2971, 88, 12, 1057, 5778, 72, 86, 1063, 190, 901, 218, 62, 3393, 9, 3130, 6512, 43, 1484, 4896, 1502, 43, 7227, 972, 295, 1159, 377]]\n"
     ]
    }
   ],
   "source": [
    "# 텍스트 시퀀스를 정수 시퀀스로 변환\n",
    "encoder_input_train = src_tokenizer.texts_to_sequences(encoder_input_train) \n",
    "encoder_input_test = src_tokenizer.texts_to_sequences(encoder_input_test)\n",
    "\n",
    "#잘 진행되었는지 샘플 출력\n",
    "print(encoder_input_train[:3])"
   ]
  },
  {
   "cell_type": "code",
   "execution_count": 35,
   "id": "approximate-montana",
   "metadata": {},
   "outputs": [],
   "source": [
    "tar_tokenizer = Tokenizer()\n",
    "tar_tokenizer.fit_on_texts(decoder_input_train)"
   ]
  },
  {
   "cell_type": "code",
   "execution_count": 36,
   "id": "mounted-footage",
   "metadata": {},
   "outputs": [
    {
     "name": "stdout",
     "output_type": "stream",
     "text": [
      "단어 집합(vocabulary)의 크기 : 30038\n",
      "등장 빈도가 5번 이하인 희귀 단어의 수: 19658\n",
      "단어 집합에서 희귀 단어를 제외시킬 경우의 단어 집합의 크기 10380\n",
      "단어 집합에서 희귀 단어의 비율: 65.44377122311738\n",
      "전체 등장 빈도에서 희귀 단어 등장 빈도 비율: 4.702828697454323\n"
     ]
    }
   ],
   "source": [
    "threshold = 6\n",
    "total_cnt = len(tar_tokenizer.word_index) # 단어의 수\n",
    "rare_cnt = 0 # 등장 빈도수가 threshold보다 작은 단어의 개수를 카운트\n",
    "total_freq = 0 # 훈련 데이터의 전체 단어 빈도수 총 합\n",
    "rare_freq = 0 # 등장 빈도수가 threshold보다 작은 단어의 등장 빈도수의 총 합\n",
    "\n",
    "# 단어와 빈도수의 쌍(pair)을 key와 value로 받는다.\n",
    "for key, value in tar_tokenizer.word_counts.items():\n",
    "    total_freq = total_freq + value\n",
    "\n",
    "    # 단어의 등장 빈도수가 threshold보다 작으면\n",
    "    if(value < threshold):\n",
    "        rare_cnt = rare_cnt + 1\n",
    "        rare_freq = rare_freq + value\n",
    "\n",
    "print('단어 집합(vocabulary)의 크기 :',total_cnt)\n",
    "print('등장 빈도가 %s번 이하인 희귀 단어의 수: %s'%(threshold - 1, rare_cnt))\n",
    "print('단어 집합에서 희귀 단어를 제외시킬 경우의 단어 집합의 크기 %s'%(total_cnt - rare_cnt))\n",
    "print(\"단어 집합에서 희귀 단어의 비율:\", (rare_cnt / total_cnt)*100)\n",
    "print(\"전체 등장 빈도에서 희귀 단어 등장 빈도 비율:\", (rare_freq / total_freq)*100)"
   ]
  },
  {
   "cell_type": "code",
   "execution_count": 37,
   "id": "bright-meaning",
   "metadata": {},
   "outputs": [
    {
     "name": "stdout",
     "output_type": "stream",
     "text": [
      "input\n",
      "input  [[1, 8, 1624, 180, 1342, 449, 7], [1, 64, 27, 348, 623, 3, 340, 13, 101, 581], [1, 183, 81, 5, 1482, 185, 63, 4, 55], [1, 127, 416, 632, 41, 160, 70, 15, 586, 246], [1, 20, 44, 576, 39, 27, 88, 131, 981, 916]]\n",
      "target\n",
      "decoder  [[8, 1624, 180, 1342, 449, 7, 2], [64, 27, 348, 623, 3, 340, 13, 101, 581, 2], [183, 81, 5, 1482, 185, 63, 4, 55, 2], [127, 416, 632, 41, 160, 70, 15, 586, 246, 2], [20, 44, 576, 39, 27, 88, 131, 981, 916, 2]]\n"
     ]
    }
   ],
   "source": [
    "tar_vocab = 2000\n",
    "tar_tokenizer = Tokenizer(num_words = tar_vocab) \n",
    "tar_tokenizer.fit_on_texts(decoder_input_train)\n",
    "tar_tokenizer.fit_on_texts(decoder_target_train)\n",
    "\n",
    "# 텍스트 시퀀스를 정수 시퀀스로 변환\n",
    "decoder_input_train = tar_tokenizer.texts_to_sequences(decoder_input_train) \n",
    "decoder_target_train = tar_tokenizer.texts_to_sequences(decoder_target_train)\n",
    "decoder_input_test = tar_tokenizer.texts_to_sequences(decoder_input_test)\n",
    "decoder_target_test = tar_tokenizer.texts_to_sequences(decoder_target_test)\n",
    "\n",
    "#잘 변환되었는지 확인\n",
    "print('input')\n",
    "print('input ',decoder_input_train[:5])\n",
    "print('target')\n",
    "print('decoder ',decoder_target_train[:5])"
   ]
  },
  {
   "cell_type": "code",
   "execution_count": 38,
   "id": "still-receiver",
   "metadata": {},
   "outputs": [
    {
     "name": "stdout",
     "output_type": "stream",
     "text": [
      "삭제할 훈련 데이터의 개수 : 17\n",
      "삭제할 테스트 데이터의 개수 : 1\n",
      "훈련 데이터의 개수 : 77719\n",
      "훈련 레이블의 개수 : 77719\n",
      "테스트 데이터의 개수 : 19432\n",
      "테스트 레이블의 개수 : 19432\n"
     ]
    },
    {
     "name": "stderr",
     "output_type": "stream",
     "text": [
      "/home/aiffel/anaconda3/envs/aiffel/lib/python3.7/site-packages/numpy/core/_asarray.py:83: VisibleDeprecationWarning: Creating an ndarray from ragged nested sequences (which is a list-or-tuple of lists-or-tuples-or ndarrays with different lengths or shapes) is deprecated. If you meant to do this, you must specify 'dtype=object' when creating the ndarray\n",
      "  return array(a, dtype, copy=False, order=order)\n"
     ]
    }
   ],
   "source": [
    "drop_train = [index for index, sentence in enumerate(decoder_input_train) if len(sentence) == 1]\n",
    "drop_test = [index for index, sentence in enumerate(decoder_input_test) if len(sentence) == 1]\n",
    "\n",
    "print('삭제할 훈련 데이터의 개수 :',len(drop_train))\n",
    "print('삭제할 테스트 데이터의 개수 :',len(drop_test))\n",
    "\n",
    "encoder_input_train = np.delete(encoder_input_train, drop_train, axis=0)\n",
    "decoder_input_train = np.delete(decoder_input_train, drop_train, axis=0)\n",
    "decoder_target_train = np.delete(decoder_target_train, drop_train, axis=0)\n",
    "\n",
    "encoder_input_test = np.delete(encoder_input_test, drop_test, axis=0)\n",
    "decoder_input_test = np.delete(decoder_input_test, drop_test, axis=0)\n",
    "decoder_target_test = np.delete(decoder_target_test, drop_test, axis=0)\n",
    "\n",
    "print('훈련 데이터의 개수 :', len(encoder_input_train))\n",
    "print('훈련 레이블의 개수 :',len(decoder_input_train))\n",
    "print('테스트 데이터의 개수 :',len(encoder_input_test))\n",
    "print('테스트 레이블의 개수 :',len(decoder_input_test))"
   ]
  },
  {
   "cell_type": "code",
   "execution_count": 39,
   "id": "stuffed-alliance",
   "metadata": {},
   "outputs": [],
   "source": [
    "encoder_input_train = pad_sequences(encoder_input_train, maxlen = text_max_len, padding='post')\n",
    "encoder_input_test = pad_sequences(encoder_input_test, maxlen = text_max_len, padding='post')\n",
    "decoder_input_train = pad_sequences(decoder_input_train, maxlen = summary_max_len, padding='post')\n",
    "decoder_target_train = pad_sequences(decoder_target_train, maxlen = summary_max_len, padding='post')\n",
    "decoder_input_test = pad_sequences(decoder_input_test, maxlen = summary_max_len, padding='post')\n",
    "decoder_target_test = pad_sequences(decoder_target_test, maxlen = summary_max_len, padding='post')"
   ]
  },
  {
   "cell_type": "markdown",
   "id": "extensive-southwest",
   "metadata": {},
   "source": [
    "# 어텐션 메커니즘 사용 (추상적 요약하기)"
   ]
  },
  {
   "cell_type": "code",
   "execution_count": 40,
   "id": "spanish-burke",
   "metadata": {},
   "outputs": [
    {
     "name": "stdout",
     "output_type": "stream",
     "text": [
      "WARNING:tensorflow:Layer lstm will not use cuDNN kernel since it doesn't meet the cuDNN kernel criteria. It will use generic GPU kernel as fallback when running on GPU\n",
      "WARNING:tensorflow:Layer lstm_1 will not use cuDNN kernel since it doesn't meet the cuDNN kernel criteria. It will use generic GPU kernel as fallback when running on GPU\n",
      "WARNING:tensorflow:Layer lstm_2 will not use cuDNN kernel since it doesn't meet the cuDNN kernel criteria. It will use generic GPU kernel as fallback when running on GPU\n"
     ]
    }
   ],
   "source": [
    "from tensorflow.keras.layers import Input, LSTM, Embedding, Dense, Concatenate\n",
    "from tensorflow.keras.models import Model\n",
    "from tensorflow.keras.callbacks import EarlyStopping, ModelCheckpoint\n",
    "\n",
    "# 인코더 설계 시작\n",
    "embedding_dim = 128\n",
    "hidden_size = 256\n",
    "\n",
    "# 인코더\n",
    "encoder_inputs = Input(shape=(text_max_len,))\n",
    "\n",
    "# 인코더의 임베딩 층\n",
    "enc_emb = Embedding(src_vocab, embedding_dim)(encoder_inputs)\n",
    "\n",
    "# 인코더의 LSTM 1\n",
    "encoder_lstm1 = LSTM(hidden_size, return_sequences=True, return_state=True ,dropout = 0.4, recurrent_dropout = 0.4)\n",
    "encoder_output1, state_h1, state_c1 = encoder_lstm1(enc_emb)\n",
    "\n",
    "# 인코더의 LSTM 2\n",
    "encoder_lstm2 = LSTM(hidden_size, return_sequences=True, return_state=True, dropout=0.4, recurrent_dropout=0.4)\n",
    "encoder_output2, state_h2, state_c2 = encoder_lstm2(encoder_output1)\n",
    "\n",
    "# 인코더의 LSTM 3\n",
    "encoder_lstm3 = LSTM(hidden_size, return_state=True, return_sequences=True, dropout=0.4, recurrent_dropout=0.4)\n",
    "encoder_outputs, state_h, state_c= encoder_lstm3(encoder_output2)"
   ]
  },
  {
   "cell_type": "code",
   "execution_count": 41,
   "id": "worldwide-camera",
   "metadata": {},
   "outputs": [
    {
     "name": "stdout",
     "output_type": "stream",
     "text": [
      "WARNING:tensorflow:Layer lstm_3 will not use cuDNN kernel since it doesn't meet the cuDNN kernel criteria. It will use generic GPU kernel as fallback when running on GPU\n"
     ]
    }
   ],
   "source": [
    "# 디코더 설계\n",
    "decoder_inputs = Input(shape=(None,))\n",
    "\n",
    "# 디코더의 임베딩 층\n",
    "dec_emb_layer = Embedding(tar_vocab, embedding_dim)\n",
    "dec_emb = dec_emb_layer(decoder_inputs)\n",
    "\n",
    "# 디코더의 LSTM\n",
    "decoder_lstm = LSTM(hidden_size, return_sequences = True, return_state = True, dropout = 0.4, recurrent_dropout=0.2)\n",
    "decoder_outputs, _, _ = decoder_lstm(dec_emb, initial_state = [state_h, state_c])"
   ]
  },
  {
   "cell_type": "code",
   "execution_count": 42,
   "id": "continuing-slide",
   "metadata": {},
   "outputs": [
    {
     "name": "stdout",
     "output_type": "stream",
     "text": [
      "Model: \"model\"\n",
      "__________________________________________________________________________________________________\n",
      "Layer (type)                    Output Shape         Param #     Connected to                     \n",
      "==================================================================================================\n",
      "input_1 (InputLayer)            [(None, 50)]         0                                            \n",
      "__________________________________________________________________________________________________\n",
      "embedding (Embedding)           (None, 50, 128)      1024000     input_1[0][0]                    \n",
      "__________________________________________________________________________________________________\n",
      "lstm (LSTM)                     [(None, 50, 256), (N 394240      embedding[0][0]                  \n",
      "__________________________________________________________________________________________________\n",
      "input_2 (InputLayer)            [(None, None)]       0                                            \n",
      "__________________________________________________________________________________________________\n",
      "lstm_1 (LSTM)                   [(None, 50, 256), (N 525312      lstm[0][0]                       \n",
      "__________________________________________________________________________________________________\n",
      "embedding_1 (Embedding)         (None, None, 128)    256000      input_2[0][0]                    \n",
      "__________________________________________________________________________________________________\n",
      "lstm_2 (LSTM)                   [(None, 50, 256), (N 525312      lstm_1[0][0]                     \n",
      "__________________________________________________________________________________________________\n",
      "lstm_3 (LSTM)                   [(None, None, 256),  394240      embedding_1[0][0]                \n",
      "                                                                 lstm_2[0][1]                     \n",
      "                                                                 lstm_2[0][2]                     \n",
      "__________________________________________________________________________________________________\n",
      "dense (Dense)                   (None, None, 2000)   514000      lstm_3[0][0]                     \n",
      "==================================================================================================\n",
      "Total params: 3,633,104\n",
      "Trainable params: 3,633,104\n",
      "Non-trainable params: 0\n",
      "__________________________________________________________________________________________________\n"
     ]
    }
   ],
   "source": [
    "# 디코더의 출력층\n",
    "decoder_softmax_layer = Dense(tar_vocab, activation = 'softmax')\n",
    "decoder_softmax_outputs = decoder_softmax_layer(decoder_outputs) \n",
    "\n",
    "# 모델 정의\n",
    "model = Model([encoder_inputs, decoder_inputs], decoder_softmax_outputs)\n",
    "model.summary()"
   ]
  },
  {
   "cell_type": "code",
   "execution_count": 43,
   "id": "starting-flour",
   "metadata": {},
   "outputs": [],
   "source": [
    "urllib.request.urlretrieve(\"https://raw.githubusercontent.com/thushv89/attention_keras/master/src/layers/attention.py\", filename=\"attention.py\")\n",
    "from attention import AttentionLayer"
   ]
  },
  {
   "cell_type": "code",
   "execution_count": 44,
   "id": "agreed-memorabilia",
   "metadata": {},
   "outputs": [
    {
     "name": "stdout",
     "output_type": "stream",
     "text": [
      "Model: \"model_1\"\n",
      "__________________________________________________________________________________________________\n",
      "Layer (type)                    Output Shape         Param #     Connected to                     \n",
      "==================================================================================================\n",
      "input_1 (InputLayer)            [(None, 50)]         0                                            \n",
      "__________________________________________________________________________________________________\n",
      "embedding (Embedding)           (None, 50, 128)      1024000     input_1[0][0]                    \n",
      "__________________________________________________________________________________________________\n",
      "lstm (LSTM)                     [(None, 50, 256), (N 394240      embedding[0][0]                  \n",
      "__________________________________________________________________________________________________\n",
      "input_2 (InputLayer)            [(None, None)]       0                                            \n",
      "__________________________________________________________________________________________________\n",
      "lstm_1 (LSTM)                   [(None, 50, 256), (N 525312      lstm[0][0]                       \n",
      "__________________________________________________________________________________________________\n",
      "embedding_1 (Embedding)         (None, None, 128)    256000      input_2[0][0]                    \n",
      "__________________________________________________________________________________________________\n",
      "lstm_2 (LSTM)                   [(None, 50, 256), (N 525312      lstm_1[0][0]                     \n",
      "__________________________________________________________________________________________________\n",
      "lstm_3 (LSTM)                   [(None, None, 256),  394240      embedding_1[0][0]                \n",
      "                                                                 lstm_2[0][1]                     \n",
      "                                                                 lstm_2[0][2]                     \n",
      "__________________________________________________________________________________________________\n",
      "attention_layer (AttentionLayer ((None, None, 256),  131328      lstm_2[0][0]                     \n",
      "                                                                 lstm_3[0][0]                     \n",
      "__________________________________________________________________________________________________\n",
      "concat_layer (Concatenate)      (None, None, 512)    0           lstm_3[0][0]                     \n",
      "                                                                 attention_layer[0][0]            \n",
      "__________________________________________________________________________________________________\n",
      "dense_1 (Dense)                 (None, None, 2000)   1026000     concat_layer[0][0]               \n",
      "==================================================================================================\n",
      "Total params: 4,276,432\n",
      "Trainable params: 4,276,432\n",
      "Non-trainable params: 0\n",
      "__________________________________________________________________________________________________\n"
     ]
    }
   ],
   "source": [
    "# 어텐션 층(어텐션 함수)\n",
    "attn_layer = AttentionLayer(name='attention_layer')\n",
    "# 인코더와 디코더의 모든 time step의 hidden state를 어텐션 층에 전달하고 결과를 리턴\n",
    "attn_out, attn_states = attn_layer([encoder_outputs, decoder_outputs])\n",
    "\n",
    "# 어텐션의 결과와 디코더의 hidden state들을 연결\n",
    "decoder_concat_input = Concatenate(axis = -1, name='concat_layer')([decoder_outputs, attn_out])\n",
    "\n",
    "# 디코더의 출력층\n",
    "decoder_softmax_layer = Dense(tar_vocab, activation='softmax')\n",
    "decoder_softmax_outputs = decoder_softmax_layer(decoder_concat_input)\n",
    "\n",
    "# 모델 정의\n",
    "model = Model([encoder_inputs, decoder_inputs], decoder_softmax_outputs)\n",
    "model.summary()"
   ]
  },
  {
   "cell_type": "code",
   "execution_count": 45,
   "id": "younger-forth",
   "metadata": {},
   "outputs": [
    {
     "name": "stdout",
     "output_type": "stream",
     "text": [
      "Epoch 1/50\n",
      "304/304 [==============================] - 101s 332ms/step - loss: 3.8546 - val_loss: 3.5258\n",
      "Epoch 2/50\n",
      "304/304 [==============================] - 101s 331ms/step - loss: 3.3807 - val_loss: 3.2413\n",
      "Epoch 3/50\n",
      "304/304 [==============================] - 99s 327ms/step - loss: 3.1423 - val_loss: 3.0431\n",
      "Epoch 4/50\n",
      "304/304 [==============================] - 99s 326ms/step - loss: 2.9444 - val_loss: 2.8849\n",
      "Epoch 5/50\n",
      "304/304 [==============================] - 99s 327ms/step - loss: 2.7958 - val_loss: 2.7814\n",
      "Epoch 6/50\n",
      "304/304 [==============================] - 99s 326ms/step - loss: 2.6834 - val_loss: 2.6996\n",
      "Epoch 7/50\n",
      "304/304 [==============================] - 99s 327ms/step - loss: 2.5916 - val_loss: 2.6432\n",
      "Epoch 8/50\n",
      "304/304 [==============================] - 99s 326ms/step - loss: 2.5139 - val_loss: 2.5846\n",
      "Epoch 9/50\n",
      "304/304 [==============================] - 99s 327ms/step - loss: 2.4460 - val_loss: 2.5478\n",
      "Epoch 10/50\n",
      "304/304 [==============================] - 99s 327ms/step - loss: 2.3854 - val_loss: 2.5127\n",
      "Epoch 11/50\n",
      "304/304 [==============================] - 99s 327ms/step - loss: 2.3313 - val_loss: 2.4883\n",
      "Epoch 12/50\n",
      "304/304 [==============================] - 99s 326ms/step - loss: 2.2829 - val_loss: 2.4660\n",
      "Epoch 13/50\n",
      "304/304 [==============================] - 102s 335ms/step - loss: 2.2388 - val_loss: 2.4446\n",
      "Epoch 14/50\n",
      "304/304 [==============================] - 102s 335ms/step - loss: 2.1989 - val_loss: 2.4274\n",
      "Epoch 15/50\n",
      "304/304 [==============================] - 102s 336ms/step - loss: 2.1610 - val_loss: 2.4183\n",
      "Epoch 16/50\n",
      "304/304 [==============================] - 101s 334ms/step - loss: 2.1264 - val_loss: 2.4035\n",
      "Epoch 17/50\n",
      "304/304 [==============================] - 101s 332ms/step - loss: 2.0939 - val_loss: 2.3910\n",
      "Epoch 18/50\n",
      "304/304 [==============================] - 101s 333ms/step - loss: 2.0632 - val_loss: 2.3837\n",
      "Epoch 19/50\n",
      "304/304 [==============================] - 101s 333ms/step - loss: 2.0353 - val_loss: 2.3758\n",
      "Epoch 20/50\n",
      "304/304 [==============================] - 101s 333ms/step - loss: 2.0074 - val_loss: 2.3669\n",
      "Epoch 21/50\n",
      "304/304 [==============================] - 101s 333ms/step - loss: 1.9832 - val_loss: 2.3624\n",
      "Epoch 22/50\n",
      "304/304 [==============================] - 102s 334ms/step - loss: 1.9607 - val_loss: 2.3625\n",
      "Epoch 23/50\n",
      "304/304 [==============================] - 101s 333ms/step - loss: 1.9367 - val_loss: 2.3573\n",
      "Epoch 24/50\n",
      "304/304 [==============================] - 101s 333ms/step - loss: 1.9151 - val_loss: 2.3603\n",
      "Epoch 25/50\n",
      "304/304 [==============================] - 101s 333ms/step - loss: 1.8952 - val_loss: 2.3611\n",
      "Epoch 00025: early stopping\n"
     ]
    }
   ],
   "source": [
    "model.compile(optimizer='rmsprop', loss='sparse_categorical_crossentropy')\n",
    "es = EarlyStopping(monitor='val_loss', mode='min', verbose=1, patience = 2)\n",
    "history = model.fit(x = [encoder_input_train, decoder_input_train], y = decoder_target_train, \\\n",
    "          validation_data = ([encoder_input_test, decoder_input_test], decoder_target_test),\n",
    "          batch_size = 256, callbacks=[es], epochs = 50)"
   ]
  },
  {
   "cell_type": "code",
   "execution_count": 46,
   "id": "nominated-dallas",
   "metadata": {},
   "outputs": [
    {
     "data": {
      "image/png": "[encoded data removed]",
      "text/plain": [
       "<Figure size 432x288 with 1 Axes>"
      ]
     },
     "metadata": {
      "needs_background": "light"
     },
     "output_type": "display_data"
    }
   ],
   "source": [
    "plt.plot(history.history['loss'], label='train')\n",
    "plt.plot(history.history['val_loss'], label='test')\n",
    "plt.legend()\n",
    "plt.show()"
   ]
  },
  {
   "cell_type": "markdown",
   "id": "numerous-drilling",
   "metadata": {},
   "source": [
    "# 인퍼런스 모델 구현"
   ]
  },
  {
   "cell_type": "code",
   "execution_count": 47,
   "id": "martial-specific",
   "metadata": {},
   "outputs": [],
   "source": [
    "src_index_to_word = src_tokenizer.index_word # 원문 단어 집합에서 정수 -> 단어를 얻음\n",
    "tar_word_to_index = tar_tokenizer.word_index # 요약 단어 집합에서 단어 -> 정수를 얻음\n",
    "tar_index_to_word = tar_tokenizer.index_word # 요약 단어 집합에서 정수 -> 단어를 얻음"
   ]
  },
  {
   "cell_type": "code",
   "execution_count": 48,
   "id": "stretch-campaign",
   "metadata": {},
   "outputs": [],
   "source": [
    "# 인코더 설계\n",
    "encoder_model = Model(inputs=encoder_inputs, outputs=[encoder_outputs, state_h, state_c])\n",
    "\n",
    "# 이전 시점의 상태들을 저장하는 텐서\n",
    "decoder_state_input_h = Input(shape=(hidden_size,))\n",
    "decoder_state_input_c = Input(shape=(hidden_size,))\n",
    "\n",
    "dec_emb2 = dec_emb_layer(decoder_inputs)\n",
    "# 문장의 다음 단어를 예측하기 위해서 초기 상태(initial_state)를 이전 시점의 상태로 사용. 이는 뒤의 함수 decode_sequence()에 구현\n",
    "# 훈련 과정에서와 달리 LSTM의 리턴하는 은닉 상태와 셀 상태인 state_h와 state_c를 버리지 않음.\n",
    "decoder_outputs2, state_h2, state_c2 = decoder_lstm(dec_emb2, initial_state=[decoder_state_input_h, decoder_state_input_c])"
   ]
  },
  {
   "cell_type": "code",
   "execution_count": 49,
   "id": "hairy-reggae",
   "metadata": {},
   "outputs": [],
   "source": [
    "# 어텐션 함수\n",
    "decoder_hidden_state_input = Input(shape=(text_max_len, hidden_size))\n",
    "attn_out_inf, attn_states_inf = attn_layer([decoder_hidden_state_input, decoder_outputs2])\n",
    "decoder_inf_concat = Concatenate(axis=-1, name='concat')([decoder_outputs2, attn_out_inf])\n",
    "\n",
    "# 디코더의 출력층\n",
    "decoder_outputs2 = decoder_softmax_layer(decoder_inf_concat) \n",
    "\n",
    "# 최종 디코더 모델\n",
    "decoder_model = Model(\n",
    "    [decoder_inputs] + [decoder_hidden_state_input,decoder_state_input_h, decoder_state_input_c],\n",
    "    [decoder_outputs2] + [state_h2, state_c2])"
   ]
  },
  {
   "cell_type": "code",
   "execution_count": 50,
   "id": "breathing-position",
   "metadata": {},
   "outputs": [],
   "source": [
    "def decode_sequence(input_seq):\n",
    "    # 입력으로부터 인코더의 상태를 얻음\n",
    "    e_out, e_h, e_c = encoder_model.predict(input_seq)\n",
    "\n",
    "     # <SOS>에 해당하는 토큰 생성\n",
    "    target_seq = np.zeros((1,1))\n",
    "    target_seq[0, 0] = tar_word_to_index['sostoken']\n",
    "\n",
    "    stop_condition = False\n",
    "    decoded_sentence = ''\n",
    "    while not stop_condition: # stop_condition이 True가 될 때까지 루프 반복\n",
    "\n",
    "        output_tokens, h, c = decoder_model.predict([target_seq] + [e_out, e_h, e_c])\n",
    "        sampled_token_index = np.argmax(output_tokens[0, -1, :])\n",
    "        sampled_token = tar_index_to_word[sampled_token_index]\n",
    "\n",
    "        if(sampled_token!='eostoken'):\n",
    "            decoded_sentence += ' '+sampled_token\n",
    "\n",
    "        #  <eos>에 도달하거나 최대 길이를 넘으면 중단.\n",
    "        if (sampled_token == 'eostoken'  or len(decoded_sentence.split()) >= (summary_max_len-1)):\n",
    "            stop_condition = True\n",
    "\n",
    "        # 길이가 1인 타겟 시퀀스를 업데이트\n",
    "        target_seq = np.zeros((1,1))\n",
    "        target_seq[0, 0] = sampled_token_index\n",
    "\n",
    "        # 상태를 업데이트 합니다.\n",
    "        e_h, e_c = h, c\n",
    "\n",
    "    return decoded_sentence"
   ]
  },
  {
   "cell_type": "markdown",
   "id": "assigned-variable",
   "metadata": {},
   "source": [
    "# 모델 결과 테스트"
   ]
  },
  {
   "cell_type": "code",
   "execution_count": 51,
   "id": "smaller-cleaners",
   "metadata": {},
   "outputs": [],
   "source": [
    "# 원문의 정수 시퀀스를 텍스트 시퀀스로 변환\n",
    "def seq2text(input_seq):\n",
    "    temp=''\n",
    "    for i in input_seq:\n",
    "        if(i!=0):\n",
    "            temp = temp + src_index_to_word[i]+' '\n",
    "    return temp\n",
    "\n",
    "# 요약문의 정수 시퀀스를 텍스트 시퀀스로 변환\n",
    "def seq2summary(input_seq):\n",
    "    temp=''\n",
    "    for i in input_seq:\n",
    "        if((i!=0 and i!=tar_word_to_index['sostoken']) and i!=tar_word_to_index['eostoken']):\n",
    "            temp = temp + tar_index_to_word[i] + ' '\n",
    "    return temp"
   ]
  },
  {
   "cell_type": "code",
   "execution_count": 52,
   "id": "czech-volunteer",
   "metadata": {},
   "outputs": [
    {
     "name": "stdout",
     "output_type": "stream",
     "text": [
      "원문 : restrictions imposed parts srinagar maintain law order situation militant killed shootout friday region schools colleges city closed day train services also suspended al qaeda militant killed policeman martyred shootout \n",
      "실제 요약 : in after killing \n",
      "예측 요약 :  over quota in days\n",
      "\n",
      "\n",
      "원문 : people killed others wounded government air strikes syria eastern two weeks medical aid group doctors without borders said although united nations security council approved day ceasefire resolution syria rebel fighters syrian government forces accused breaking \n",
      "실제 요약 : people killed in syrian in weeks \n",
      "예측 요약 :  killed in air strikes in syria\n",
      "\n",
      "\n",
      "원문 : authorities russia found bag containing severed human hands near city per reports local first spotted single hand eventually led discovery bag island river investigation incident launched \n",
      "실제 요약 : bag hands found in russia \n",
      "예측 요약 :  kg of kg found in\n",
      "\n",
      "\n",
      "원문 : year old accused sexually assaulting four year old girl found hanging tree tamil nadu sunday police said man allegedly sexually assaulted minor girl neighbourhood following parents lodged police complaint nn \n",
      "실제 요약 : wanted for sexual assault of yr old girl tn man ends life \n",
      "예측 요약 :  yr old sexual assault by yr old girl in delhi\n",
      "\n",
      "\n",
      "원문 : samajwadi party mulayam singh yadav saturday said brother shivpal yadav speak announcing new secular front one family party wanted split year old party added front simply given statement talk mulayam singh added \n",
      "실제 요약 : did not me before new front \n",
      "예측 요약 :  will be new party leader\n",
      "\n",
      "\n",
      "원문 : mi rounder krunal pandya said brother hardik looked like caribbean indian childhood someone called black mother used fight say black krunal added always used say fighting son black someone calls black wrong said \n",
      "실제 요약 : hardik more than indian pandya \n",
      "예측 요약 :  hardik pandya is black black\n",
      "\n",
      "\n",
      "원문 : south africa unveiled dish radio telescope world largest powerful telescope completion built million integrated dishes spread square kilometre area said times better resolution nasa hubble space telescope fully operational \n",
      "실제 요약 : africa unveils mn set to be world largest \n",
      "예측 요약 :  unveils world largest\n",
      "\n",
      "\n",
      "원문 : sacked aap minister kapil mishra attacked man claiming party sitting indefinite hunger strike outside residence new delhi wednesday war corruption let attack urge supporters aggression mishra said assault \n",
      "실제 요약 : kapil attacked by aap activist while on strike \n",
      "예측 요약 :  aap leader kapil kapil apologises for attack on strike\n",
      "\n",
      "\n",
      "원문 : indian road safety campaign ngo makes people aware road safety august launched championship colleges aimed reduce deaths caused road accidents half include competitions like movie making poster making panel discussions focused road safety issues last date register september \n",
      "실제 요약 : road safety launches for \n",
      "예측 요약 :  indian railways safety safety system\n",
      "\n",
      "\n",
      "원문 : supreme court saturday allowed bjp mla kg continue speaker ahead floor test karnataka assembly pm congress jd filed petition governor speaker court directed floor test broadcast live ensure transparency \n",
      "실제 요약 : sc allows bjp mla to continue as speaker in taka \n",
      "예측 요약 :  sc to speaker floor floor test speaker\n",
      "\n",
      "\n",
      "원문 : facebook ceo mark zuckerberg said started engineer community zuckerberg statement comes completion personal challenge meet people across us states end zuckerberg also said community engineer requires ability share values \n",
      "실제 요약 : started as engineer as fb ceo \n",
      "예측 요약 :  zuckerberg shares of us\n",
      "\n",
      "\n",
      "원문 : sports minister ex india cricketer chetan chauhan said lord hanuman caste discussed adding caste chauhan said lord hanuman used enemies worship require power energy like earlier cm yogi adityanath said lord hanuman dalit \n",
      "실제 요약 : was have no up sports minister \n",
      "예측 요약 :  never like to be minister\n",
      "\n",
      "\n",
      "원문 : team india captain virat kohli faced total balls first test england faced five match test series england year old slammed first innings second innings notably kohli posted runs test innings england \n",
      "실제 요약 : kohli more balls in st test than entire tour \n",
      "예측 요약 :  kohli has hit test in test history\n",
      "\n",
      "\n",
      "원문 : twenty three time grand slam winner serena williams joined board online polling provider along williams american software company ceo brad smith also joining board williams smith replace enterprise ceo cloud company executive chairman bill stepped board \n",
      "실제 요약 : serena joins the board of \n",
      "예측 요약 :  serena hires serena\n",
      "\n",
      "\n",
      "원문 : old video clips late tamil nadu cm jayalalithaa state government told madras high court never pregnant lifetime comes court hearing case filed woman claiming jayalalithaa daughter bengaluru based sought take properties left behind former aiadmk leader \n",
      "실제 요약 : was never pregnant tn govt tells hc \n",
      "예측 요약 :  cannot be ready to hc to hc\n",
      "\n",
      "\n",
      "원문 : enforcement directorate tuesday registered case aiadmk leader ttv dhinakaran prevention money laundering act allegedly election commission official get aiadmk two leaves symbol dhinakaran nephew jailed party general secretary vk sasikala aide monday sent judicial custody till may \n",
      "실제 요약 : aiadmk case ed books for money \n",
      "예측 요약 :  ed raids party in case\n",
      "\n",
      "\n",
      "원문 : tickets champions trophy final india pakistan amounts lakh times regular price icc allows tickets official channel value websites allowing fan bought ticket \n",
      "실제 요약 : india pakistan final tickets being for lakh \n",
      "예측 요약 :  football team to get ticket for champions trophy\n",
      "\n",
      "\n",
      "원문 : railways giving emotional intelligence training senior officials help deal situations emotions involved especially customers circumstances officers able pressure demanding situations official said training understanding areas like control \n",
      "실제 요약 : railways to train senior officers in \n",
      "예측 요약 :  railways to get jobs to\n",
      "\n",
      "\n",
      "원문 : addressing rajya sabha wednesday minister state home rijiju said government received reports terrorist groups including jaish mohammad hizbul mujahideen misuse children agenda reports informed government extremist groups chhattisgarh bihar jharkhand use children states said \n",
      "실제 요약 : kids being used by terror in india govt \n",
      "예측 요약 :  no in kashmir to terrorists\n",
      "\n",
      "\n",
      "원문 : late tamil nadu cm karunanidhi son mk said would accept brother mk stalin dmk president allowed return party expelled dmk amid reported war stalin differences father karunanidhi \n",
      "실제 요약 : will brother as prez if can re join \n",
      "예측 요약 :  son to be held with son\n",
      "\n",
      "\n",
      "원문 : huge cancer causing chemical found fish goa cm manohar parrikar wednesday banned import fish neighbouring states days added fishing activity would resume august fish would available decision taken measure cm said \n",
      "실제 요약 : goa bans fish for days after \n",
      "예측 요약 :  fish in goa cm fish fish\n",
      "\n",
      "\n",
      "원문 : new vs web series released show scheduled start may show titled vs take reportedly see seven years story serial originally aired star one \n",
      "실제 요약 : vs web series date announced \n",
      "예측 요약 :  to launch new web series in series reports\n",
      "\n",
      "\n",
      "원문 : punjab chief minister captain amarinder singh monday announced government decided seek death penalty drug smuggling pointing drug destroying entire generations cm singh said deserves punishment stand commitment drug free punjab added \n",
      "실제 요약 : punjab to seek death penalty for drug \n",
      "예측 요약 :  punjab govt plans to death for drug deaths\n",
      "\n",
      "\n",
      "원문 : two separate teams scientists claimed found evidence missing part ordinary matter universe missing matter made particles called believed link galaxies via web hot gas scientists estimate universe made dark matter dark energy ordinary matter \n",
      "실제 요약 : half of missing found scientists claim \n",
      "예측 요약 :  scientists find of\n",
      "\n",
      "\n",
      "원문 : sister priyanka gandhi vadra entered active politics congress president rahul gandhi said discussion include priyanka going years added said children young needed take care children reached age one gone university another go \n",
      "실제 요약 : talk of priyanka politics was for years rahul \n",
      "예측 요약 :  priyanka is of priyanka on priyanka production\n",
      "\n",
      "\n",
      "원문 : model dressed spider man kissed husband singer john legend hanging yes tweeted sharing clip act scene film spider man plays superhero love interest mary portrayed \n",
      "실제 요약 : gives husband john man inspired \n",
      "예측 요약 :  man actor on his death\n",
      "\n",
      "\n",
      "원문 : addressing event via video beijing hillary clinton criticised chinese president xi jinping saying unprecedented power chinese leader triggered leadership run responsible cooperation military build small neighbours clinton added \n",
      "실제 요약 : chinese prez at event \n"
     ]
    },
    {
     "name": "stdout",
     "output_type": "stream",
     "text": [
      "예측 요약 :  china prez xi to\n",
      "\n",
      "\n",
      "원문 : club bowler deliberately threw ball boundary deny opposition player chance score maiden hundred apologised actions left batsman jay stranded five runs latter team needed two runs win handed nine match ban \n",
      "실제 요약 : banned bowler apologises for batsman century \n",
      "예측 요약 :  player ball with ball\n",
      "\n",
      "\n",
      "원문 : year old attempted suicide wednesday jumping th floor building escape torture employer haryana girl burn injury marks body rescued fell bird net th floor doctors reportedly said girl long \n",
      "실제 요약 : year old jumps from th floor to escape \n",
      "예측 요약 :  year old jumps off building on floor floor\n",
      "\n",
      "\n",
      "원문 : actress kangana ranaut chhattisgarh cm raman singh monday launched smartphone distribution scheme called mobile tihar yojana scheme includes distribution smartphones lakh women lakh children setting new mobile towers singh said government working towards improving network connectivity youth smartphones \n",
      "실제 요약 : kangana chhattisgarh cm launch mobile scheme \n",
      "예측 요약 :  gujarat cm launches for digital free digital\n",
      "\n",
      "\n",
      "원문 : union bank india ceo rai said bank direct credit exposure crore companies controlled jeweller nirav modi another crore mehul choksi owned gitanjali group amount separate crore exposure bank previously reported account fraudulent pnb \n",
      "실제 요약 : have cr to nirav choksi firms union bank \n",
      "예측 요약 :  bank ceo pay to nirav modi firms\n",
      "\n",
      "\n",
      "원문 : pakistan world cup winning captain imran khan ignored invitation chairman attend pakistan world xi match lahore announced invited former players series including javed first international series pakistan zimbabwe one tour following terror attack sri lanka \n",
      "실제 요약 : imran to watch world xi series \n",
      "예측 요약 :  imran khan to imran khan for st time in pakistan\n",
      "\n",
      "\n",
      "원문 : number face achieved serbia according guinness world records achieved record september guinness world record challengers site also holds guinness record body \n",
      "실제 요약 : man has world record for most on face \n",
      "예측 요약 :  world record set world record\n",
      "\n",
      "\n",
      "원문 : india awarded five runs despite sri lankan captain dinesh breaking fake fielding law india innings first test saturday throw ball even though near umpires signal penalty virat kohli seen five run penalty dressing room \n",
      "실제 요약 : india denied runs after sri lanka fake in test \n",
      "예측 요약 :  indian women captain sri lanka to take wickets in sl\n",
      "\n",
      "\n",
      "원문 : wishing sri lankan cricketer lasith malinga th birthday tuesday sachin tendulkar tweeted came batting always said ko ball ko happy birthday friend sachin malinga played together indian premier league side mumbai indians malinga last played sri lanka september \n",
      "실제 요약 : ball sachin wishes on day \n",
      "예측 요약 :  sachin tendulkar shares old birthday\n",
      "\n",
      "\n",
      "원문 : kerala minister sunday slammed priest sabarimala temple saying temple town grace work till date gone protest cpi leader said earlier priest threatened close temple woman entered shrine \n",
      "실제 요약 : at sabarimala have more than minister \n",
      "예측 요약 :  kerala minister slams kerala for sabarimala\n",
      "\n",
      "\n",
      "원문 : chaudhary year old international level sprinter allegedly committed suicide hostel room delhi jawaharlal nehru stadium tuesday told argument father said official meanwhile father said told needed money assured give money know happened later \n",
      "실제 요약 : yr old allegedly commits suicide at delhi stadium \n",
      "예측 요약 :  delhi teen commits suicide after family fails to kill\n",
      "\n",
      "\n",
      "원문 : shah rukh khan attending restaurant opening mumbai jokingly said comes restaurants designed wife gauri khan gets free food good parties added gauri also joked allowed go restaurants designed \n",
      "실제 요약 : attend opening of by for free food srk \n",
      "예측 요약 :  my wife is like my wife srk\n",
      "\n",
      "\n",
      "원문 : many seven people killed madhya pradesh speeding ran helping victims accident involving two motorcycles injured taken nagpur treatment families bodies sent meanwhile police said search truck \n",
      "실제 요약 : runs over kills people accident victims \n",
      "예측 요약 :  killed as truck in mp\n",
      "\n",
      "\n",
      "원문 : ex australia wicketkeeper batsman adam gilchrist asked al disclose names cricketers accused involved match fixing operation channel body nation team immune spot fixing every chance still going said gilchrist added believe australian cricketers involved spot fixing \n",
      "실제 요약 : asks al to name those in \n",
      "예측 요약 :  slams aus pacer for\n",
      "\n",
      "\n",
      "원문 : threat us sanctions stop russia pursuing future defence deals india russian ambassador india said added india russia could sign deals assault rifles within two three months us law sanctions countries military trade russia \n",
      "실제 요약 : us sanctions will not stop future with india russia \n",
      "예측 요약 :  russia threatens to russia on russia\n",
      "\n",
      "\n",
      "원문 : monthly transactions payments interface jumped million june increase million transactions may value transactions recorded growth crore upi payments system launched instant fund transfer without requiring bank account \n",
      "실제 요약 : in june rise to million \n",
      "예측 요약 :  cross crore in revenue\n",
      "\n",
      "\n",
      "원문 : rajasthan bjp chief ashok wednesday suggested residents hold referendum want liquor shops area shift places asked increasing protests liquor shops rajasthan witnessed people voting liquor shops areas people right hold referendum said \n",
      "실제 요약 : people can on liquor rajasthan bjp \n",
      "예측 요약 :  bjp to ban on liquor in raj\n",
      "\n",
      "\n",
      "원문 : circular issued ministry social justice empowerment directed states union territories avoid using words dalit official communications added term scheduled caste used people belonging category circular issued five days supreme court order sc st atrocities act \n",
      "실제 요약 : avoid dalit in official papers govt to states \n",
      "예측 요약 :  centre tells states to\n",
      "\n",
      "\n",
      "원문 : andhra pradesh cm chandrababu naidu requested appointment sitting high court judge look allegations theft jewellery temple cm added counter unable provide need fears millions devotees \n",
      "실제 요약 : andhra cm seeks probe into temple jewellery theft \n",
      "예측 요약 :  kerala cm seeks defamation claim to beef\n",
      "\n",
      "\n",
      "원문 : punjab police started new campaign senior police personally visit singers areas request liquor arms drugs work adding youth follow may crime police officials said singers gangster culture \n",
      "실제 요약 : do not liquor and drugs punjab cops to \n",
      "예측 요약 :  punjab police to use of drug\n",
      "\n",
      "\n",
      "원문 : thief stole university student laptop uk later sent mail apologising theft extremely poor left phone wallet hope slightly makes something thief wrote mail shared online student gone viral internet \n",
      "실제 요약 : student sends him an via \n",
      "예측 요약 :  student uses to help\n",
      "\n",
      "\n",
      "원문 : us senator advocate industry said president donald trump promised stand pre election pledge provide support industry notably committee investigating trump son ongoing probe alleged russian interference us election \n",
      "실제 요약 : trump support to who is his son \n",
      "예측 요약 :  us us prez trump to trump\n",
      "\n",
      "\n",
      "원문 : afghanistan president ghani said job worst earth like year taking responsibility year old really grew terms leadership things really falling place ghani added also said within four years afghan forces would able claim legitimate power \n",
      "실제 요약 : my job is the worst on earth afghanistan president \n",
      "예측 요약 :  putin has nothing to be in the world putin\n",
      "\n",
      "\n",
      "원문 : actor ranbir kapoor said film fails making money pay back added healthy exercise film film like released incurred losses bobby released grandfather raj kapoor gave bigger share added ranbir \n",
      "실제 요약 : will pay back the if my film fails says ranbir \n",
      "예측 요약 :  ranbir fee fee for ranbir kapoor\n",
      "\n",
      "\n"
     ]
    }
   ],
   "source": [
    "for i in range(50, 100):\n",
    "    print(\"원문 :\", seq2text(encoder_input_test[i]))\n",
    "    print(\"실제 요약 :\", seq2summary(decoder_input_test[i]))\n",
    "    print(\"예측 요약 :\", decode_sequence(encoder_input_test[i].reshape(1, text_max_len)))\n",
    "    print(\"\\n\")"
   ]
  },
  {
   "cell_type": "markdown",
   "id": "least-relationship",
   "metadata": {},
   "source": [
    "## 50개의 샘플 비교하기\n",
    "비슷한 단어를 맞추기는 했지만 대부분 틀린 답이 많은것으로 보인다. \n",
    "여러가지 개선방안이 있지만 노드에서 제안한 추출적 요약을 통해 비교해보기로 한다."
   ]
  },
  {
   "cell_type": "markdown",
   "id": "refined-numbers",
   "metadata": {},
   "source": [
    "# summa를 이용하여 추출적 요약"
   ]
  },
  {
   "cell_type": "code",
   "execution_count": 1,
   "id": "stopped-subsection",
   "metadata": {},
   "outputs": [],
   "source": [
    "import requests\n",
    "from summa.summarizer import summarize\n",
    "import urllib.request\n",
    "import numpy as np\n",
    "import pandas as pd"
   ]
  },
  {
   "cell_type": "code",
   "execution_count": 2,
   "id": "native-incidence",
   "metadata": {},
   "outputs": [],
   "source": [
    "urllib.request.urlretrieve(\"https://raw.githubusercontent.com/sunnysai12345/News_Summary/master/news_summary_more.csv\", filename=\"news_summary_more.csv\")\n",
    "data = pd.read_csv('news_summary_more.csv', encoding='iso-8859-1')"
   ]
  },
  {
   "cell_type": "code",
   "execution_count": 3,
   "id": "innovative-muslim",
   "metadata": {},
   "outputs": [],
   "source": [
    "data = data[['text', 'headlines']]\n",
    "text = data['text']"
   ]
  },
  {
   "cell_type": "code",
   "execution_count": 4,
   "id": "copyrighted-trust",
   "metadata": {},
   "outputs": [
    {
     "data": {
      "text/plain": [
       "0    Saurav Kant, an alumnus of upGrad and IIIT-B's...\n",
       "1    Kunal Shah's credit card bill payment platform...\n",
       "2    New Zealand defeated India by 8 wickets in the...\n",
       "3    With Aegon Life iTerm Insurance plan, customer...\n",
       "4    Speaking about the sexual harassment allegatio...\n",
       "Name: text, dtype: object"
      ]
     },
     "execution_count": 4,
     "metadata": {},
     "output_type": "execute_result"
    }
   ],
   "source": [
    "text.head()"
   ]
  },
  {
   "cell_type": "code",
   "execution_count": 5,
   "id": "treated-latin",
   "metadata": {},
   "outputs": [
    {
     "name": "stdout",
     "output_type": "stream",
     "text": [
      "0       Saurav Kant, an alumnus of upGrad and IIIT-B's...\n",
      "1       Kunal Shah's credit card bill payment platform...\n",
      "2       New Zealand defeated India by 8 wickets in the...\n",
      "3       With Aegon Life iTerm Insurance plan, customer...\n",
      "4       Speaking about the sexual harassment allegatio...\n",
      "                              ...                        \n",
      "1495    India head coach Ravi Shastri has said that he...\n",
      "1496    Italian tennis player Andreas Seppi ensured hi...\n",
      "1497    World number three Roger Federer was stopped b...\n",
      "1498    A cutout of TMC chief and West Bengal CM Mamat...\n",
      "1499    A Delhi court on Saturday pulled up Delhi Poli...\n",
      "Name: text, Length: 1500, dtype: object\n"
     ]
    }
   ],
   "source": [
    "print(text[:1500])"
   ]
  },
  {
   "cell_type": "markdown",
   "id": "parallel-dining",
   "metadata": {},
   "source": [
    "# summarize 사용하기\n",
    "- text (str) : 요약할 테스트.\n",
    " - ratio (float, optional) – 요약문에서 원본에서 선택되는 문장 비율. 0~1 사이값\n",
    " - words (int or None, optional) – 출력에 포함할 단어 수.\n",
    " - 만약, ratio와 함께 두 파라미터가 모두 제공되는 경우 ratio는 무시한다.\n",
    " - split (bool, optional) – True면 문장 list / False는 조인(join)된 문자열을 반환"
   ]
  },
  {
   "cell_type": "code",
   "execution_count": 8,
   "id": "blocked-robin",
   "metadata": {},
   "outputs": [
    {
     "name": "stdout",
     "output_type": "stream",
     "text": [
      "Summary:\n"
     ]
    },
    {
     "data": {
      "text/plain": [
       "'Users get one CRED coin per rupee of bill paid, which can be used to avail rewards from brands like Ixigo, BookMyShow, UberEats, Cult.Fit and more.'"
      ]
     },
     "execution_count": 8,
     "metadata": {},
     "output_type": "execute_result"
    }
   ],
   "source": [
    "print('Summary:')\n",
    "summarize(text[1], ratio=0.5)"
   ]
  },
  {
   "cell_type": "code",
   "execution_count": 9,
   "id": "north-northwest",
   "metadata": {},
   "outputs": [
    {
     "name": "stdout",
     "output_type": "stream",
     "text": [
      "Summary:\n",
      "['Users get one CRED coin per rupee of bill paid, which can be used to avail rewards from brands like Ixigo, BookMyShow, UberEats, Cult.Fit and more.']\n"
     ]
    }
   ],
   "source": [
    "print('Summary:')\n",
    "print(summarize(text[1], ratio=0.5, split=True))"
   ]
  },
  {
   "cell_type": "code",
   "execution_count": 11,
   "id": "technological-reality",
   "metadata": {},
   "outputs": [
    {
     "name": "stdout",
     "output_type": "stream",
     "text": [
      "Summary:\n",
      "Kunal Shah's credit card bill payment platform, CRED, gave users a chance to win free food from Swiggy for one year.\n",
      "Pranav Kaushik, a Delhi techie, bagged this reward after spending 2000 CRED coins.\n",
      "Users get one CRED coin per rupee of bill paid, which can be used to avail rewards from brands like Ixigo, BookMyShow, UberEats, Cult.Fit and more.\n"
     ]
    }
   ],
   "source": [
    "print('Summary:')\n",
    "print(summarize(text[1], words=50))"
   ]
  },
  {
   "cell_type": "code",
   "execution_count": 12,
   "id": "collaborative-sydney",
   "metadata": {},
   "outputs": [
    {
     "name": "stdout",
     "output_type": "stream",
     "text": [
      "Summary:\n",
      "Users get one CRED coin per rupee of bill paid, which can be used to avail rewards from brands like Ixigo, BookMyShow, UberEats, Cult.Fit and more.\n"
     ]
    }
   ],
   "source": [
    "print('Summary:')\n",
    "print(summarize(text[1], words=20))"
   ]
  },
  {
   "cell_type": "code",
   "execution_count": 14,
   "id": "musical-ranking",
   "metadata": {},
   "outputs": [
    {
     "name": "stdout",
     "output_type": "stream",
     "text": [
      "Summary:\n",
      "Two minor cousins in Uttar Pradesh's Gorakhpur were allegedly repeatedly burnt with tongs and forced to eat human excreta by their family for being friends with two boys from the same school.\n"
     ]
    }
   ],
   "source": [
    "print('Summary:')\n",
    "print(summarize(text[10], words=20))"
   ]
  },
  {
   "cell_type": "markdown",
   "id": "grave-interim",
   "metadata": {},
   "source": [
    "# 루브릭\n",
    "1. Abstractive 모델 구성을 위한 텍스트 전처리 단계가 체계적으로 진행되었다.\n",
    " - 분석단계, 정제단계, 정규화와 불용어 제거, 데이터셋 분리, 인코딩 과정이 빠짐없이 체계적으로 진행되었다.\n",
    "2. 텍스트 요약모델이 성공적으로 학습되었음을 확인하였다.\n",
    " -  모델학습이 안정적으로 수렴되었음을 그래프를 통해 확인하였으며, 실제 요약문과 유사한 요약문장을 얻을 수 있었다.\n",
    "3. Extractive 요약을 시도해 보고 Abstractive 요약 결과과 함께 비교해 보았다.\n",
    " - 두 요약 결과를 문법완성도 측면과 핵심단어 포함 측면으로 나누어 비교분석 결과를 제시하였다."
   ]
  },
  {
   "cell_type": "markdown",
   "id": "motivated-honduras",
   "metadata": {},
   "source": [
    "# 결과\n",
    " - 친절한 노드 설명으로 크게 어려움 없이 뉴스 데이터의 전처리 과정과 모델 구성을 통해 학습을 수행할 수 있었다.\n",
    " - 지난 간단한 모델에 비해 학습시간이 크게 늘어난것에 대해 다양한 시도를 하는데 있어 시간적 어려움이 있었다.\n",
    " - 추출적(Extrative) 요약과 추상적(Abstractive) 요약 결과를 비교, 이해하는데 큰 도움이 되었다.\n",
    " - summarize 모델을 통해 추출적 요약을 쉽게 결과 도출을 하였으며 기존 문장에서 추출하는것이므로 기본적인 성능이 어느정도 보장됨을 알수있었다."
   ]
  }
 ],
 "metadata": {
  "kernelspec": {
   "display_name": "aiffel",
   "language": "python",
   "name": "aiffel"
  },
  "language_info": {
   "codemirror_mode": {
    "name": "ipython",
    "version": 3
   },
   "file_extension": ".py",
   "mimetype": "text/x-python",
   "name": "python",
   "nbconvert_exporter": "python",
   "pygments_lexer": "ipython3",
   "version": "3.7.9"
  }
 },
 "nbformat": 4,
 "nbformat_minor": 5
}
