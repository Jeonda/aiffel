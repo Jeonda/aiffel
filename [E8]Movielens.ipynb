{
 "cells": [
  {
   "cell_type": "markdown",
   "id": "collect-thing",
   "metadata": {},
   "source": [
    "[E8]Movielens 영화 추천 실습\n",
    "\n",
    "1. 분석\n",
    " - ratings에 있는 유니크한 영화 개수\n",
    " - rating에 있는 유니크한 사용자 수\n",
    " - 가장 인기 있는 영화 30개(인기순)\n",
    "2. 내가 선호하는 영화 5가지 골라서 rating 추가\n",
    "3. CSR Matrix 직접 만들어보기\n",
    "4. als_model = AlternatingLeastSquares 모델을 직접 구성 및 훈련\n",
    "5. 내가 선호하는 영화 중 하나, 그 외 영화 하나 골라 훈련된 모델이 예측한 나의 선호파악\n",
    "6. 내가 좋아하는 영화와 비슷한 영화를 추천받아 봅시다\n",
    "7. 내가 가장 좋아할만한 영화들을 추천받아 봅시다.\n",
    " "
   ]
  },
  {
   "cell_type": "code",
   "execution_count": 1,
   "id": "small-saint",
   "metadata": {
    "scrolled": true
   },
   "outputs": [
    {
     "data": {
      "text/html": [
       "<div>\n",
       "<style scoped>\n",
       "    .dataframe tbody tr th:only-of-type {\n",
       "        vertical-align: middle;\n",
       "    }\n",
       "\n",
       "    .dataframe tbody tr th {\n",
       "        vertical-align: top;\n",
       "    }\n",
       "\n",
       "    .dataframe thead th {\n",
       "        text-align: right;\n",
       "    }\n",
       "</style>\n",
       "<table border=\"1\" class=\"dataframe\">\n",
       "  <thead>\n",
       "    <tr style=\"text-align: right;\">\n",
       "      <th></th>\n",
       "      <th>user_id</th>\n",
       "      <th>movie_id</th>\n",
       "      <th>rating</th>\n",
       "      <th>timestamp</th>\n",
       "    </tr>\n",
       "  </thead>\n",
       "  <tbody>\n",
       "    <tr>\n",
       "      <th>0</th>\n",
       "      <td>1</td>\n",
       "      <td>1193</td>\n",
       "      <td>5</td>\n",
       "      <td>978300760</td>\n",
       "    </tr>\n",
       "    <tr>\n",
       "      <th>1</th>\n",
       "      <td>1</td>\n",
       "      <td>661</td>\n",
       "      <td>3</td>\n",
       "      <td>978302109</td>\n",
       "    </tr>\n",
       "    <tr>\n",
       "      <th>2</th>\n",
       "      <td>1</td>\n",
       "      <td>914</td>\n",
       "      <td>3</td>\n",
       "      <td>978301968</td>\n",
       "    </tr>\n",
       "    <tr>\n",
       "      <th>3</th>\n",
       "      <td>1</td>\n",
       "      <td>3408</td>\n",
       "      <td>4</td>\n",
       "      <td>978300275</td>\n",
       "    </tr>\n",
       "    <tr>\n",
       "      <th>4</th>\n",
       "      <td>1</td>\n",
       "      <td>2355</td>\n",
       "      <td>5</td>\n",
       "      <td>978824291</td>\n",
       "    </tr>\n",
       "  </tbody>\n",
       "</table>\n",
       "</div>"
      ],
      "text/plain": [
       "   user_id  movie_id  rating  timestamp\n",
       "0        1      1193       5  978300760\n",
       "1        1       661       3  978302109\n",
       "2        1       914       3  978301968\n",
       "3        1      3408       4  978300275\n",
       "4        1      2355       5  978824291"
      ]
     },
     "execution_count": 1,
     "metadata": {},
     "output_type": "execute_result"
    }
   ],
   "source": [
    "import pandas as pd\n",
    "import os\n",
    "rating_file_path=os.getenv('HOME') + '/aiffel/recommendata_iu/data/ml-1m/ratings.dat'\n",
    "ratings_cols = ['user_id', 'movie_id', 'rating', 'timestamp']\n",
    "ratings = pd.read_csv(rating_file_path, sep='::', names=ratings_cols, engine='python')\n",
    "orginal_data_size = len(ratings)\n",
    "ratings.head()"
   ]
  },
  {
   "cell_type": "code",
   "execution_count": 2,
   "id": "systematic-invitation",
   "metadata": {},
   "outputs": [
    {
     "name": "stdout",
     "output_type": "stream",
     "text": [
      "orginal_data_size: 1000209, filtered_data_size: 836478\n",
      "Ratio of Remaining Data is 83.63%\n"
     ]
    }
   ],
   "source": [
    "# 3점 이상만 남깁니다.\n",
    "ratings = ratings[ratings['rating']>=3]\n",
    "filtered_data_size = len(ratings)\n",
    "\n",
    "print(f'orginal_data_size: {orginal_data_size}, filtered_data_size: {filtered_data_size}')\n",
    "print(f'Ratio of Remaining Data is {filtered_data_size / orginal_data_size:.2%}')"
   ]
  },
  {
   "cell_type": "code",
   "execution_count": 3,
   "id": "passing-fetish",
   "metadata": {},
   "outputs": [],
   "source": [
    "# rating 컬럼의 이름을 count로 바꿉니다.\n",
    "ratings.rename(columns={'rating':'count'}, inplace=True)"
   ]
  },
  {
   "cell_type": "code",
   "execution_count": 4,
   "id": "announced-momentum",
   "metadata": {},
   "outputs": [
    {
     "data": {
      "text/plain": [
       "0          5\n",
       "1          3\n",
       "2          3\n",
       "3          4\n",
       "4          5\n",
       "          ..\n",
       "1000203    3\n",
       "1000205    5\n",
       "1000206    5\n",
       "1000207    4\n",
       "1000208    4\n",
       "Name: count, Length: 836478, dtype: int64"
      ]
     },
     "execution_count": 4,
     "metadata": {},
     "output_type": "execute_result"
    }
   ],
   "source": [
    "ratings['count']"
   ]
  },
  {
   "cell_type": "code",
   "execution_count": 5,
   "id": "adult-breakfast",
   "metadata": {},
   "outputs": [
    {
     "data": {
      "text/html": [
       "<div>\n",
       "<style scoped>\n",
       "    .dataframe tbody tr th:only-of-type {\n",
       "        vertical-align: middle;\n",
       "    }\n",
       "\n",
       "    .dataframe tbody tr th {\n",
       "        vertical-align: top;\n",
       "    }\n",
       "\n",
       "    .dataframe thead th {\n",
       "        text-align: right;\n",
       "    }\n",
       "</style>\n",
       "<table border=\"1\" class=\"dataframe\">\n",
       "  <thead>\n",
       "    <tr style=\"text-align: right;\">\n",
       "      <th></th>\n",
       "      <th>movie_id</th>\n",
       "      <th>title</th>\n",
       "      <th>genre</th>\n",
       "    </tr>\n",
       "  </thead>\n",
       "  <tbody>\n",
       "    <tr>\n",
       "      <th>0</th>\n",
       "      <td>1</td>\n",
       "      <td>Toy Story (1995)</td>\n",
       "      <td>Animation|Children's|Comedy</td>\n",
       "    </tr>\n",
       "    <tr>\n",
       "      <th>1</th>\n",
       "      <td>2</td>\n",
       "      <td>Jumanji (1995)</td>\n",
       "      <td>Adventure|Children's|Fantasy</td>\n",
       "    </tr>\n",
       "    <tr>\n",
       "      <th>2</th>\n",
       "      <td>3</td>\n",
       "      <td>Grumpier Old Men (1995)</td>\n",
       "      <td>Comedy|Romance</td>\n",
       "    </tr>\n",
       "    <tr>\n",
       "      <th>3</th>\n",
       "      <td>4</td>\n",
       "      <td>Waiting to Exhale (1995)</td>\n",
       "      <td>Comedy|Drama</td>\n",
       "    </tr>\n",
       "    <tr>\n",
       "      <th>4</th>\n",
       "      <td>5</td>\n",
       "      <td>Father of the Bride Part II (1995)</td>\n",
       "      <td>Comedy</td>\n",
       "    </tr>\n",
       "  </tbody>\n",
       "</table>\n",
       "</div>"
      ],
      "text/plain": [
       "   movie_id                               title                         genre\n",
       "0         1                    Toy Story (1995)   Animation|Children's|Comedy\n",
       "1         2                      Jumanji (1995)  Adventure|Children's|Fantasy\n",
       "2         3             Grumpier Old Men (1995)                Comedy|Romance\n",
       "3         4            Waiting to Exhale (1995)                  Comedy|Drama\n",
       "4         5  Father of the Bride Part II (1995)                        Comedy"
      ]
     },
     "execution_count": 5,
     "metadata": {},
     "output_type": "execute_result"
    }
   ],
   "source": [
    "# 영화 제목을 보기 위해 메타 데이터를 읽어옵니다.\n",
    "movie_file_path=os.getenv('HOME') + '/aiffel/recommendata_iu/data/ml-1m/movies.dat'\n",
    "cols = ['movie_id', 'title', 'genre'] \n",
    "#movies = pd.read_csv(movie_file_path, sep='::', names=cols, engine='python')\n",
    "movies = pd.read_csv(movie_file_path, sep='::', names=cols, engine='python', encoding = \"ISO-8859-1\")\n",
    "\n",
    "movies.head()"
   ]
  },
  {
   "cell_type": "markdown",
   "id": "worldwide-people",
   "metadata": {},
   "source": [
    "- ratings에 있는 유니크한 영화 개수\n",
    "- rating에 있는 유니크한 사용자 수\n",
    "- 가장 인기 있는 영화 30개(인기순)"
   ]
  },
  {
   "cell_type": "code",
   "execution_count": 6,
   "id": "compact-details",
   "metadata": {},
   "outputs": [
    {
     "data": {
      "text/plain": [
       "3628"
      ]
     },
     "execution_count": 6,
     "metadata": {},
     "output_type": "execute_result"
    }
   ],
   "source": [
    "# ratings에 있는 유니크한 영화 개수\n",
    "ratings['movie_id'].nunique()"
   ]
  },
  {
   "cell_type": "code",
   "execution_count": 7,
   "id": "computational-interest",
   "metadata": {},
   "outputs": [
    {
     "data": {
      "text/plain": [
       "6039"
      ]
     },
     "execution_count": 7,
     "metadata": {},
     "output_type": "execute_result"
    }
   ],
   "source": [
    "# ratings에 있는 유니크한 사용자 수\n",
    "ratings['user_id'].nunique()"
   ]
  },
  {
   "cell_type": "code",
   "execution_count": 8,
   "id": "revised-pricing",
   "metadata": {},
   "outputs": [
    {
     "data": {
      "text/html": [
       "<div>\n",
       "<style scoped>\n",
       "    .dataframe tbody tr th:only-of-type {\n",
       "        vertical-align: middle;\n",
       "    }\n",
       "\n",
       "    .dataframe tbody tr th {\n",
       "        vertical-align: top;\n",
       "    }\n",
       "\n",
       "    .dataframe thead th {\n",
       "        text-align: right;\n",
       "    }\n",
       "</style>\n",
       "<table border=\"1\" class=\"dataframe\">\n",
       "  <thead>\n",
       "    <tr style=\"text-align: right;\">\n",
       "      <th></th>\n",
       "      <th>user_id</th>\n",
       "      <th>movie_id</th>\n",
       "      <th>count</th>\n",
       "      <th>timestamp</th>\n",
       "      <th>title</th>\n",
       "      <th>genre</th>\n",
       "    </tr>\n",
       "  </thead>\n",
       "  <tbody>\n",
       "    <tr>\n",
       "      <th>0</th>\n",
       "      <td>1</td>\n",
       "      <td>1193</td>\n",
       "      <td>5</td>\n",
       "      <td>978300760</td>\n",
       "      <td>One Flew Over the Cuckoo's Nest (1975)</td>\n",
       "      <td>Drama</td>\n",
       "    </tr>\n",
       "    <tr>\n",
       "      <th>1</th>\n",
       "      <td>2</td>\n",
       "      <td>1193</td>\n",
       "      <td>5</td>\n",
       "      <td>978298413</td>\n",
       "      <td>One Flew Over the Cuckoo's Nest (1975)</td>\n",
       "      <td>Drama</td>\n",
       "    </tr>\n",
       "    <tr>\n",
       "      <th>2</th>\n",
       "      <td>12</td>\n",
       "      <td>1193</td>\n",
       "      <td>4</td>\n",
       "      <td>978220179</td>\n",
       "      <td>One Flew Over the Cuckoo's Nest (1975)</td>\n",
       "      <td>Drama</td>\n",
       "    </tr>\n",
       "    <tr>\n",
       "      <th>3</th>\n",
       "      <td>15</td>\n",
       "      <td>1193</td>\n",
       "      <td>4</td>\n",
       "      <td>978199279</td>\n",
       "      <td>One Flew Over the Cuckoo's Nest (1975)</td>\n",
       "      <td>Drama</td>\n",
       "    </tr>\n",
       "    <tr>\n",
       "      <th>4</th>\n",
       "      <td>17</td>\n",
       "      <td>1193</td>\n",
       "      <td>5</td>\n",
       "      <td>978158471</td>\n",
       "      <td>One Flew Over the Cuckoo's Nest (1975)</td>\n",
       "      <td>Drama</td>\n",
       "    </tr>\n",
       "    <tr>\n",
       "      <th>5</th>\n",
       "      <td>18</td>\n",
       "      <td>1193</td>\n",
       "      <td>4</td>\n",
       "      <td>978156168</td>\n",
       "      <td>One Flew Over the Cuckoo's Nest (1975)</td>\n",
       "      <td>Drama</td>\n",
       "    </tr>\n",
       "    <tr>\n",
       "      <th>6</th>\n",
       "      <td>19</td>\n",
       "      <td>1193</td>\n",
       "      <td>5</td>\n",
       "      <td>982730936</td>\n",
       "      <td>One Flew Over the Cuckoo's Nest (1975)</td>\n",
       "      <td>Drama</td>\n",
       "    </tr>\n",
       "    <tr>\n",
       "      <th>7</th>\n",
       "      <td>24</td>\n",
       "      <td>1193</td>\n",
       "      <td>5</td>\n",
       "      <td>978136709</td>\n",
       "      <td>One Flew Over the Cuckoo's Nest (1975)</td>\n",
       "      <td>Drama</td>\n",
       "    </tr>\n",
       "    <tr>\n",
       "      <th>8</th>\n",
       "      <td>28</td>\n",
       "      <td>1193</td>\n",
       "      <td>3</td>\n",
       "      <td>978125194</td>\n",
       "      <td>One Flew Over the Cuckoo's Nest (1975)</td>\n",
       "      <td>Drama</td>\n",
       "    </tr>\n",
       "    <tr>\n",
       "      <th>9</th>\n",
       "      <td>33</td>\n",
       "      <td>1193</td>\n",
       "      <td>5</td>\n",
       "      <td>978557765</td>\n",
       "      <td>One Flew Over the Cuckoo's Nest (1975)</td>\n",
       "      <td>Drama</td>\n",
       "    </tr>\n",
       "  </tbody>\n",
       "</table>\n",
       "</div>"
      ],
      "text/plain": [
       "   user_id  movie_id  count  timestamp  \\\n",
       "0        1      1193      5  978300760   \n",
       "1        2      1193      5  978298413   \n",
       "2       12      1193      4  978220179   \n",
       "3       15      1193      4  978199279   \n",
       "4       17      1193      5  978158471   \n",
       "5       18      1193      4  978156168   \n",
       "6       19      1193      5  982730936   \n",
       "7       24      1193      5  978136709   \n",
       "8       28      1193      3  978125194   \n",
       "9       33      1193      5  978557765   \n",
       "\n",
       "                                    title  genre  \n",
       "0  One Flew Over the Cuckoo's Nest (1975)  Drama  \n",
       "1  One Flew Over the Cuckoo's Nest (1975)  Drama  \n",
       "2  One Flew Over the Cuckoo's Nest (1975)  Drama  \n",
       "3  One Flew Over the Cuckoo's Nest (1975)  Drama  \n",
       "4  One Flew Over the Cuckoo's Nest (1975)  Drama  \n",
       "5  One Flew Over the Cuckoo's Nest (1975)  Drama  \n",
       "6  One Flew Over the Cuckoo's Nest (1975)  Drama  \n",
       "7  One Flew Over the Cuckoo's Nest (1975)  Drama  \n",
       "8  One Flew Over the Cuckoo's Nest (1975)  Drama  \n",
       "9  One Flew Over the Cuckoo's Nest (1975)  Drama  "
      ]
     },
     "execution_count": 8,
     "metadata": {},
     "output_type": "execute_result"
    }
   ],
   "source": [
    "movies_data = pd.merge(left = ratings , right = movies, how = \"inner\", on = \"movie_id\")\n",
    "movies_data.head(10)\n"
   ]
  },
  {
   "cell_type": "code",
   "execution_count": 9,
   "id": "victorian-school",
   "metadata": {},
   "outputs": [
    {
     "data": {
      "text/plain": [
       "user_id      0\n",
       "movie_id     0\n",
       "count        0\n",
       "timestamp    0\n",
       "title        0\n",
       "genre        0\n",
       "dtype: int64"
      ]
     },
     "execution_count": 9,
     "metadata": {},
     "output_type": "execute_result"
    }
   ],
   "source": [
    "movies_data.isnull().sum()"
   ]
  },
  {
   "cell_type": "code",
   "execution_count": 10,
   "id": "speaking-generator",
   "metadata": {},
   "outputs": [
    {
     "data": {
      "text/plain": [
       "title\n",
       "American Beauty (1999)                                   3211\n",
       "Star Wars: Episode IV - A New Hope (1977)                2910\n",
       "Star Wars: Episode V - The Empire Strikes Back (1980)    2885\n",
       "Star Wars: Episode VI - Return of the Jedi (1983)        2716\n",
       "Saving Private Ryan (1998)                               2561\n",
       "Terminator 2: Judgment Day (1991)                        2509\n",
       "Silence of the Lambs, The (1991)                         2498\n",
       "Raiders of the Lost Ark (1981)                           2473\n",
       "Back to the Future (1985)                                2460\n",
       "Matrix, The (1999)                                       2434\n",
       "Jurassic Park (1993)                                     2413\n",
       "Sixth Sense, The (1999)                                  2385\n",
       "Fargo (1996)                                             2371\n",
       "Braveheart (1995)                                        2314\n",
       "Men in Black (1997)                                      2297\n",
       "Schindler's List (1993)                                  2257\n",
       "Princess Bride, The (1987)                               2252\n",
       "Shakespeare in Love (1998)                               2213\n",
       "L.A. Confidential (1997)                                 2210\n",
       "Shawshank Redemption, The (1994)                         2194\n",
       "Godfather, The (1972)                                    2167\n",
       "Groundhog Day (1993)                                     2121\n",
       "E.T. the Extra-Terrestrial (1982)                        2102\n",
       "Being John Malkovich (1999)                              2066\n",
       "Ghostbusters (1984)                                      2051\n",
       "Pulp Fiction (1994)                                      2030\n",
       "Forrest Gump (1994)                                      2022\n",
       "Terminator, The (1984)                                   2019\n",
       "Toy Story (1995)                                         2000\n",
       "Fugitive, The (1993)                                     1941\n",
       "Name: count, dtype: int64"
      ]
     },
     "execution_count": 10,
     "metadata": {},
     "output_type": "execute_result"
    }
   ],
   "source": [
    "# 평점 3,4,5 모두 인기있는 경우라고 정한다.\n",
    "# 3,4,5점을 한번 받으면 1 count로 정하고, 각 영화에 대한 총 count수를 로 정렬한다. \n",
    "movies_count = movies_data.groupby('title')['count'].count()\n",
    "\n",
    "movies_count.sort_values(ascending=False).head(30)"
   ]
  },
  {
   "cell_type": "markdown",
   "id": "annoying-prisoner",
   "metadata": {},
   "source": [
    "내가 선호하는 영화를 5가지 골라서 rating에 추가해 줍시다."
   ]
  },
  {
   "cell_type": "code",
   "execution_count": 11,
   "id": "practical-convert",
   "metadata": {},
   "outputs": [
    {
     "data": {
      "text/plain": [
       "2"
      ]
     },
     "execution_count": 11,
     "metadata": {},
     "output_type": "execute_result"
    }
   ],
   "source": [
    "# [title] input -> [movie_id] output\n",
    "def title_in_id_out(title):\n",
    "    a=movies_data[movies_data['title'].isin([title])] # title칼럼중 인자로 들어온 title과 같은 행렬 추출\n",
    "    mv_id=a.iloc[0,1] #추출된 행렬중 0번째 행의 1번째칼럼[movie_id] 값 가져온다.\n",
    "    return mv_id\n",
    "#title가 'Jumanji (1995)'인 movie_id 출력\n",
    "title_in_id_out('Jumanji (1995)')"
   ]
  },
  {
   "cell_type": "code",
   "execution_count": 12,
   "id": "usual-diabetes",
   "metadata": {},
   "outputs": [
    {
     "data": {
      "text/plain": [
       "'Assassins (1995)'"
      ]
     },
     "execution_count": 12,
     "metadata": {},
     "output_type": "execute_result"
    }
   ],
   "source": [
    "# [movie_id] output -> [title] input\n",
    "def id_in_title_out(movie_id):\n",
    "    a=movies_data[movies_data['movie_id'].isin([movie_id])] # movie_id칼럼중 인자에 들어온 영화id와 같은 행렬 추출\n",
    "    title=a.iloc[0,4] #추출된 행렬중 0번째 행의 4번째칼럼[title] 값 가져온다.\n",
    "    return title\n",
    "\n",
    "#moive_id가 23인 title값 출력\n",
    "id_in_title_out(23)"
   ]
  },
  {
   "cell_type": "code",
   "execution_count": 16,
   "id": "pursuant-index",
   "metadata": {},
   "outputs": [
    {
     "name": "stdout",
     "output_type": "stream",
     "text": [
      "영화명: Jumanji (1995) \t\t 무비id: 2\n",
      "영화명: Jumanji (1995) \t\t 무비id: 2\n",
      "영화명: Ace Ventura: When Nature Calls (1995) \t\t 무비id: 19\n",
      "영화명: Ace Ventura: When Nature Calls (1995) \t\t 무비id: 19\n",
      "영화명: Apollo 13 (1995) \t\t 무비id: 150\n",
      "영화명: Apollo 13 (1995) \t\t 무비id: 150\n",
      "영화명: Home Alone 2: Lost in New York (1992) \t\t 무비id: 2953\n",
      "영화명: Home Alone 2: Lost in New York (1992) \t\t 무비id: 2953\n",
      "영화명: Top Gun (1986) \t\t 무비id: 1101\n",
      "영화명: Top Gun (1986) \t\t 무비id: 1101\n"
     ]
    },
    {
     "data": {
      "text/plain": [
       "[2, 19, 150, 2953, 1101]"
      ]
     },
     "execution_count": 16,
     "metadata": {},
     "output_type": "execute_result"
    }
   ],
   "source": [
    "# 영화 이름은 꼭 데이터셋에 있는 것과 동일하게 맞춰주세요. \n",
    "#선호 영화 리스트 생성\n",
    "my_favorite = ['Jumanji (1995)', 'Ace Ventura: When Nature Calls (1995)', 'Apollo 13 (1995)', 'Home Alone 2: Lost in New York (1992)' ,'Top Gun (1986)']\n",
    "my_movie_id = []\n",
    "\n",
    "\n",
    "#선호 영화 딕셔너리 생성\n",
    "dir_favorite ={} #{'title' :'movie_id'} 딕셔너리\n",
    " \n",
    "for title in my_favorite:\n",
    "    mv_id = title_in_id_out(title)\n",
    "    my_movie_id.append(mv_id) \n",
    "    print('영화명:',title,'\\t\\t 무비id:', mv_id)\n",
    "    \n",
    "    dir_favorite[title]=int(mv_id)\n",
    "    print('영화명:',title,'\\t\\t 무비id:', dir_favorite[title])\n",
    "    \n",
    "       \n",
    "\n",
    "#print(movies_data.columns)\n",
    "#movies_data.sort_values(by='movie_id')\n",
    "my_movie_id"
   ]
  },
  {
   "cell_type": "code",
   "execution_count": 17,
   "id": "opposed-creation",
   "metadata": {},
   "outputs": [
    {
     "name": "stdout",
     "output_type": "stream",
     "text": [
      "6039\n"
     ]
    },
    {
     "data": {
      "text/plain": [
       "6039"
      ]
     },
     "execution_count": 17,
     "metadata": {},
     "output_type": "execute_result"
    }
   ],
   "source": [
    "# user_id 마지막은 6040\n",
    "# user_id은 1부터 시작해서 6040개로 끝난다면 유니크한 값은 6040개가 되어야되는데 6039개다 ,그럼 중간에 한개의 값이 없다고 추측된다.\n",
    "print(ratings['user_id'].nunique()) \n",
    "movies_data.sort_values(by='user_id',ascending=True, inplace=False)\n",
    "6039"
   ]
  },
  {
   "cell_type": "code",
   "execution_count": 19,
   "id": "under-employer",
   "metadata": {},
   "outputs": [
    {
     "data": {
      "text/html": [
       "<div>\n",
       "<style scoped>\n",
       "    .dataframe tbody tr th:only-of-type {\n",
       "        vertical-align: middle;\n",
       "    }\n",
       "\n",
       "    .dataframe tbody tr th {\n",
       "        vertical-align: top;\n",
       "    }\n",
       "\n",
       "    .dataframe thead th {\n",
       "        text-align: right;\n",
       "    }\n",
       "</style>\n",
       "<table border=\"1\" class=\"dataframe\">\n",
       "  <thead>\n",
       "    <tr style=\"text-align: right;\">\n",
       "      <th></th>\n",
       "      <th>user_id</th>\n",
       "      <th>movie_id</th>\n",
       "      <th>count</th>\n",
       "      <th>timestamp</th>\n",
       "    </tr>\n",
       "  </thead>\n",
       "  <tbody>\n",
       "    <tr>\n",
       "      <th>0</th>\n",
       "      <td>syj</td>\n",
       "      <td>2</td>\n",
       "      <td>5</td>\n",
       "      <td>NaN</td>\n",
       "    </tr>\n",
       "    <tr>\n",
       "      <th>1</th>\n",
       "      <td>syj</td>\n",
       "      <td>19</td>\n",
       "      <td>5</td>\n",
       "      <td>NaN</td>\n",
       "    </tr>\n",
       "    <tr>\n",
       "      <th>2</th>\n",
       "      <td>syj</td>\n",
       "      <td>150</td>\n",
       "      <td>5</td>\n",
       "      <td>NaN</td>\n",
       "    </tr>\n",
       "    <tr>\n",
       "      <th>3</th>\n",
       "      <td>syj</td>\n",
       "      <td>2953</td>\n",
       "      <td>5</td>\n",
       "      <td>NaN</td>\n",
       "    </tr>\n",
       "    <tr>\n",
       "      <th>4</th>\n",
       "      <td>syj</td>\n",
       "      <td>1101</td>\n",
       "      <td>5</td>\n",
       "      <td>NaN</td>\n",
       "    </tr>\n",
       "    <tr>\n",
       "      <th>0</th>\n",
       "      <td>JJEONDA</td>\n",
       "      <td>2</td>\n",
       "      <td>5</td>\n",
       "      <td>NaN</td>\n",
       "    </tr>\n",
       "    <tr>\n",
       "      <th>1</th>\n",
       "      <td>JJEONDA</td>\n",
       "      <td>19</td>\n",
       "      <td>5</td>\n",
       "      <td>NaN</td>\n",
       "    </tr>\n",
       "    <tr>\n",
       "      <th>2</th>\n",
       "      <td>JJEONDA</td>\n",
       "      <td>150</td>\n",
       "      <td>5</td>\n",
       "      <td>NaN</td>\n",
       "    </tr>\n",
       "    <tr>\n",
       "      <th>3</th>\n",
       "      <td>JJEONDA</td>\n",
       "      <td>2953</td>\n",
       "      <td>5</td>\n",
       "      <td>NaN</td>\n",
       "    </tr>\n",
       "    <tr>\n",
       "      <th>4</th>\n",
       "      <td>JJEONDA</td>\n",
       "      <td>1101</td>\n",
       "      <td>5</td>\n",
       "      <td>NaN</td>\n",
       "    </tr>\n",
       "  </tbody>\n",
       "</table>\n",
       "</div>"
      ],
      "text/plain": [
       "   user_id  movie_id  count  timestamp\n",
       "0      syj         2      5        NaN\n",
       "1      syj        19      5        NaN\n",
       "2      syj       150      5        NaN\n",
       "3      syj      2953      5        NaN\n",
       "4      syj      1101      5        NaN\n",
       "0  JJEONDA         2      5        NaN\n",
       "1  JJEONDA        19      5        NaN\n",
       "2  JJEONDA       150      5        NaN\n",
       "3  JJEONDA      2953      5        NaN\n",
       "4  JJEONDA      1101      5        NaN"
      ]
     },
     "execution_count": 19,
     "metadata": {},
     "output_type": "execute_result"
    }
   ],
   "source": [
    "#my_moivelist = pd.DataFrame({'user_id': [0]*5, 'movie_id': my_movie_id, 'count':[5]*5})\n",
    "my_moivelist = pd.DataFrame({'user_id': ['JJEONDA']*5, 'movie_id': my_movie_id, 'count':[5]*5})\n",
    "\n",
    "# 사용자는 6039이였기때문에  나에대한 유저번호는 6040으로 설정한다.\n",
    "if not ratings.isin({'user_id':[6041]})['user_id'].any():  # user_id에 'zimin'이라는 데이터가 없다면\n",
    "    ratings = ratings.append(my_moivelist)              \n",
    "\n",
    "ratings.tail(10)"
   ]
  },
  {
   "cell_type": "code",
   "execution_count": 20,
   "id": "thick-conclusion",
   "metadata": {},
   "outputs": [
    {
     "name": "stdout",
     "output_type": "stream",
     "text": [
      "기본행 개수 836478\n",
      "추가후 행 개수 836488\n"
     ]
    },
    {
     "data": {
      "text/html": [
       "<div>\n",
       "<style scoped>\n",
       "    .dataframe tbody tr th:only-of-type {\n",
       "        vertical-align: middle;\n",
       "    }\n",
       "\n",
       "    .dataframe tbody tr th {\n",
       "        vertical-align: top;\n",
       "    }\n",
       "\n",
       "    .dataframe thead th {\n",
       "        text-align: right;\n",
       "    }\n",
       "</style>\n",
       "<table border=\"1\" class=\"dataframe\">\n",
       "  <thead>\n",
       "    <tr style=\"text-align: right;\">\n",
       "      <th></th>\n",
       "      <th>user_id</th>\n",
       "      <th>movie_id</th>\n",
       "      <th>count</th>\n",
       "      <th>timestamp</th>\n",
       "      <th>title</th>\n",
       "      <th>genre</th>\n",
       "    </tr>\n",
       "  </thead>\n",
       "  <tbody>\n",
       "    <tr>\n",
       "      <th>836483</th>\n",
       "      <td>5851</td>\n",
       "      <td>3607</td>\n",
       "      <td>5</td>\n",
       "      <td>9.577566e+08</td>\n",
       "      <td>One Little Indian (1973)</td>\n",
       "      <td>Comedy|Drama|Western</td>\n",
       "    </tr>\n",
       "    <tr>\n",
       "      <th>836484</th>\n",
       "      <td>5854</td>\n",
       "      <td>3026</td>\n",
       "      <td>4</td>\n",
       "      <td>9.583469e+08</td>\n",
       "      <td>Slaughterhouse (1987)</td>\n",
       "      <td>Horror</td>\n",
       "    </tr>\n",
       "    <tr>\n",
       "      <th>836485</th>\n",
       "      <td>5854</td>\n",
       "      <td>690</td>\n",
       "      <td>3</td>\n",
       "      <td>9.577443e+08</td>\n",
       "      <td>Promise, The (Versprechen, Das) (1994)</td>\n",
       "      <td>Romance</td>\n",
       "    </tr>\n",
       "    <tr>\n",
       "      <th>836486</th>\n",
       "      <td>5938</td>\n",
       "      <td>2909</td>\n",
       "      <td>4</td>\n",
       "      <td>9.572734e+08</td>\n",
       "      <td>Five Wives, Three Secretaries and Me (1998)</td>\n",
       "      <td>Documentary</td>\n",
       "    </tr>\n",
       "    <tr>\n",
       "      <th>836487</th>\n",
       "      <td>5948</td>\n",
       "      <td>1360</td>\n",
       "      <td>5</td>\n",
       "      <td>1.016564e+09</td>\n",
       "      <td>Identification of a Woman (Identificazione di ...</td>\n",
       "      <td>Drama</td>\n",
       "    </tr>\n",
       "  </tbody>\n",
       "</table>\n",
       "</div>"
      ],
      "text/plain": [
       "       user_id  movie_id  count     timestamp  \\\n",
       "836483    5851      3607      5  9.577566e+08   \n",
       "836484    5854      3026      4  9.583469e+08   \n",
       "836485    5854       690      3  9.577443e+08   \n",
       "836486    5938      2909      4  9.572734e+08   \n",
       "836487    5948      1360      5  1.016564e+09   \n",
       "\n",
       "                                                    title  \\\n",
       "836483                           One Little Indian (1973)   \n",
       "836484                              Slaughterhouse (1987)   \n",
       "836485             Promise, The (Versprechen, Das) (1994)   \n",
       "836486        Five Wives, Three Secretaries and Me (1998)   \n",
       "836487  Identification of a Woman (Identificazione di ...   \n",
       "\n",
       "                       genre  \n",
       "836483  Comedy|Drama|Western  \n",
       "836484                Horror  \n",
       "836485               Romance  \n",
       "836486           Documentary  \n",
       "836487                 Drama  "
      ]
     },
     "execution_count": 20,
     "metadata": {},
     "output_type": "execute_result"
    }
   ],
   "source": [
    "\n",
    "print('기본행 개수',len(movies_data))\n",
    "movies_data = pd.merge(left = ratings , right = movies, how = \"inner\", on = \"movie_id\")\n",
    "movies_data.head(10)\n",
    "print('추가후 행 개수',len(movies_data))\n",
    "movies_data.tail(5)"
   ]
  },
  {
   "cell_type": "code",
   "execution_count": 21,
   "id": "smart-commander",
   "metadata": {},
   "outputs": [
    {
     "data": {
      "text/html": [
       "<div>\n",
       "<style scoped>\n",
       "    .dataframe tbody tr th:only-of-type {\n",
       "        vertical-align: middle;\n",
       "    }\n",
       "\n",
       "    .dataframe tbody tr th {\n",
       "        vertical-align: top;\n",
       "    }\n",
       "\n",
       "    .dataframe thead th {\n",
       "        text-align: right;\n",
       "    }\n",
       "</style>\n",
       "<table border=\"1\" class=\"dataframe\">\n",
       "  <thead>\n",
       "    <tr style=\"text-align: right;\">\n",
       "      <th></th>\n",
       "      <th>user_id</th>\n",
       "      <th>movie_id</th>\n",
       "      <th>count</th>\n",
       "    </tr>\n",
       "  </thead>\n",
       "  <tbody>\n",
       "    <tr>\n",
       "      <th>0</th>\n",
       "      <td>1</td>\n",
       "      <td>1193</td>\n",
       "      <td>5</td>\n",
       "    </tr>\n",
       "    <tr>\n",
       "      <th>1</th>\n",
       "      <td>2</td>\n",
       "      <td>1193</td>\n",
       "      <td>5</td>\n",
       "    </tr>\n",
       "    <tr>\n",
       "      <th>2</th>\n",
       "      <td>12</td>\n",
       "      <td>1193</td>\n",
       "      <td>4</td>\n",
       "    </tr>\n",
       "    <tr>\n",
       "      <th>3</th>\n",
       "      <td>15</td>\n",
       "      <td>1193</td>\n",
       "      <td>4</td>\n",
       "    </tr>\n",
       "    <tr>\n",
       "      <th>4</th>\n",
       "      <td>17</td>\n",
       "      <td>1193</td>\n",
       "      <td>5</td>\n",
       "    </tr>\n",
       "    <tr>\n",
       "      <th>...</th>\n",
       "      <td>...</td>\n",
       "      <td>...</td>\n",
       "      <td>...</td>\n",
       "    </tr>\n",
       "    <tr>\n",
       "      <th>836483</th>\n",
       "      <td>5851</td>\n",
       "      <td>3607</td>\n",
       "      <td>5</td>\n",
       "    </tr>\n",
       "    <tr>\n",
       "      <th>836484</th>\n",
       "      <td>5854</td>\n",
       "      <td>3026</td>\n",
       "      <td>4</td>\n",
       "    </tr>\n",
       "    <tr>\n",
       "      <th>836485</th>\n",
       "      <td>5854</td>\n",
       "      <td>690</td>\n",
       "      <td>3</td>\n",
       "    </tr>\n",
       "    <tr>\n",
       "      <th>836486</th>\n",
       "      <td>5938</td>\n",
       "      <td>2909</td>\n",
       "      <td>4</td>\n",
       "    </tr>\n",
       "    <tr>\n",
       "      <th>836487</th>\n",
       "      <td>5948</td>\n",
       "      <td>1360</td>\n",
       "      <td>5</td>\n",
       "    </tr>\n",
       "  </tbody>\n",
       "</table>\n",
       "<p>836488 rows × 3 columns</p>\n",
       "</div>"
      ],
      "text/plain": [
       "       user_id  movie_id  count\n",
       "0            1      1193      5\n",
       "1            2      1193      5\n",
       "2           12      1193      4\n",
       "3           15      1193      4\n",
       "4           17      1193      5\n",
       "...        ...       ...    ...\n",
       "836483    5851      3607      5\n",
       "836484    5854      3026      4\n",
       "836485    5854       690      3\n",
       "836486    5938      2909      4\n",
       "836487    5948      1360      5\n",
       "\n",
       "[836488 rows x 3 columns]"
      ]
     },
     "execution_count": 21,
     "metadata": {},
     "output_type": "execute_result"
    }
   ],
   "source": [
    "movies_tmp= movies_data.loc[:,['user_id','movie_id','count']]\n",
    "movies_tmp"
   ]
  },
  {
   "cell_type": "code",
   "execution_count": 22,
   "id": "naked-cardiff",
   "metadata": {},
   "outputs": [],
   "source": [
    "# 고유한 유저, movie_id를 찾아내는 코드\n",
    "user_unique = movies_tmp['user_id'].unique()\n",
    "movie_unique = movies_tmp['movie_id'].unique()\n",
    "\n",
    "# 유저id, 영화id indexing 하는 코드 idx는 index의 약자입니다.\n",
    "user_to_idx = {v:k for k,v in enumerate(user_unique)}\n",
    "movie_to_idx = {v:k for k,v in enumerate(movie_unique)}"
   ]
  },
  {
   "cell_type": "code",
   "execution_count": 23,
   "id": "digital-raleigh",
   "metadata": {},
   "outputs": [
    {
     "name": "stdout",
     "output_type": "stream",
     "text": [
      "user_id:1    ,user_idx:0\n",
      "user_id:2    ,user_idx:1\n",
      "user_id:12    ,user_idx:2\n",
      "user_id:15    ,user_idx:3\n",
      "user_id:17    ,user_idx:4\n",
      "user_id:18    ,user_idx:5\n",
      "user_to_idx의 사이즈: 6041\n"
     ]
    }
   ],
   "source": [
    "num=0\n",
    "for key, value in user_to_idx.items():\n",
    "    print('user_id:{}    ,user_idx:{}'.format(key, value))\n",
    "    num+=1\n",
    "    if num>5:\n",
    "        break\n",
    "print('user_to_idx의 사이즈:', len(user_to_idx))"
   ]
  },
  {
   "cell_type": "code",
   "execution_count": 24,
   "id": "outstanding-sample",
   "metadata": {},
   "outputs": [
    {
     "name": "stdout",
     "output_type": "stream",
     "text": [
      "movie_id:1193    ,movie_idx:0\n",
      "movie_id:661    ,movie_idx:1\n",
      "movie_id:914    ,movie_idx:2\n",
      "movie_id:3408    ,movie_idx:3\n",
      "movie_id:2355    ,movie_idx:4\n",
      "movie_id:1197    ,movie_idx:5\n",
      "user_to_idx의 사이즈: 3628\n"
     ]
    }
   ],
   "source": [
    "num=0\n",
    "for key, value in movie_to_idx.items():\n",
    "    print('movie_id:{}    ,movie_idx:{}'.format(key, value))\n",
    "    num+=1\n",
    "    if num>5:\n",
    "        break\n",
    "print('user_to_idx의 사이즈:', len(movie_to_idx))"
   ]
  },
  {
   "cell_type": "code",
   "execution_count": 25,
   "id": "fifth-collapse",
   "metadata": {},
   "outputs": [
    {
     "name": "stdout",
     "output_type": "stream",
     "text": [
      "user_id column indexing OK!!\n",
      "movie column indexing OK!!\n"
     ]
    },
    {
     "data": {
      "text/html": [
       "<div>\n",
       "<style scoped>\n",
       "    .dataframe tbody tr th:only-of-type {\n",
       "        vertical-align: middle;\n",
       "    }\n",
       "\n",
       "    .dataframe tbody tr th {\n",
       "        vertical-align: top;\n",
       "    }\n",
       "\n",
       "    .dataframe thead th {\n",
       "        text-align: right;\n",
       "    }\n",
       "</style>\n",
       "<table border=\"1\" class=\"dataframe\">\n",
       "  <thead>\n",
       "    <tr style=\"text-align: right;\">\n",
       "      <th></th>\n",
       "      <th>user_id</th>\n",
       "      <th>movie_id</th>\n",
       "      <th>count</th>\n",
       "    </tr>\n",
       "  </thead>\n",
       "  <tbody>\n",
       "    <tr>\n",
       "      <th>0</th>\n",
       "      <td>0</td>\n",
       "      <td>0</td>\n",
       "      <td>5</td>\n",
       "    </tr>\n",
       "    <tr>\n",
       "      <th>1</th>\n",
       "      <td>1</td>\n",
       "      <td>0</td>\n",
       "      <td>5</td>\n",
       "    </tr>\n",
       "    <tr>\n",
       "      <th>2</th>\n",
       "      <td>2</td>\n",
       "      <td>0</td>\n",
       "      <td>4</td>\n",
       "    </tr>\n",
       "    <tr>\n",
       "      <th>3</th>\n",
       "      <td>3</td>\n",
       "      <td>0</td>\n",
       "      <td>4</td>\n",
       "    </tr>\n",
       "    <tr>\n",
       "      <th>4</th>\n",
       "      <td>4</td>\n",
       "      <td>0</td>\n",
       "      <td>5</td>\n",
       "    </tr>\n",
       "    <tr>\n",
       "      <th>...</th>\n",
       "      <td>...</td>\n",
       "      <td>...</td>\n",
       "      <td>...</td>\n",
       "    </tr>\n",
       "    <tr>\n",
       "      <th>836483</th>\n",
       "      <td>1621</td>\n",
       "      <td>3623</td>\n",
       "      <td>5</td>\n",
       "    </tr>\n",
       "    <tr>\n",
       "      <th>836484</th>\n",
       "      <td>3481</td>\n",
       "      <td>3624</td>\n",
       "      <td>4</td>\n",
       "    </tr>\n",
       "    <tr>\n",
       "      <th>836485</th>\n",
       "      <td>3481</td>\n",
       "      <td>3625</td>\n",
       "      <td>3</td>\n",
       "    </tr>\n",
       "    <tr>\n",
       "      <th>836486</th>\n",
       "      <td>4159</td>\n",
       "      <td>3626</td>\n",
       "      <td>4</td>\n",
       "    </tr>\n",
       "    <tr>\n",
       "      <th>836487</th>\n",
       "      <td>1648</td>\n",
       "      <td>3627</td>\n",
       "      <td>5</td>\n",
       "    </tr>\n",
       "  </tbody>\n",
       "</table>\n",
       "<p>836488 rows × 3 columns</p>\n",
       "</div>"
      ],
      "text/plain": [
       "        user_id  movie_id  count\n",
       "0             0         0      5\n",
       "1             1         0      5\n",
       "2             2         0      4\n",
       "3             3         0      4\n",
       "4             4         0      5\n",
       "...         ...       ...    ...\n",
       "836483     1621      3623      5\n",
       "836484     3481      3624      4\n",
       "836485     3481      3625      3\n",
       "836486     4159      3626      4\n",
       "836487     1648      3627      5\n",
       "\n",
       "[836488 rows x 3 columns]"
      ]
     },
     "execution_count": 25,
     "metadata": {},
     "output_type": "execute_result"
    }
   ],
   "source": [
    "# indexing을 통해 데이터 컬럼 내 값을 바꾸는 코드\n",
    "# dictionary 자료형의 get 함수는 https://wikidocs.net/16 을 참고하세요.\n",
    "\n",
    "# user_to_idx.get을 통해 user_id 컬럼의 모든 값을 인덱싱한 Series를 구해 봅시다. \n",
    "# 혹시 정상적으로 인덱싱되지 않은 row가 있다면 인덱스가 NaN이 될 테니 dropna()로 제거합니다. \n",
    "temp_user_data = movies_tmp['user_id'].map(user_to_idx.get).dropna()\n",
    "if len(temp_user_data) == len(movies_tmp):   # 모든 row가 정상적으로 인덱싱되었다면\n",
    "    print('user_id column indexing OK!!')\n",
    "    movies_tmp['user_id'] = temp_user_data   # movies_tmp['user_id']을 인덱싱된 Series로 교체해 줍니다. \n",
    "else:\n",
    "    print('user_id column indexing Fail!!')\n",
    "\n",
    "#movie_id를 통해 movie 컬럼도 동일한 방식으로 인덱싱해 줍니다. \n",
    "temp_movie_data = movies_tmp['movie_id'].map(movie_to_idx.get).dropna()\n",
    "if len(temp_movie_data) == len(movies_tmp):\n",
    "    print('movie column indexing OK!!')\n",
    "    movies_tmp['movie_id'] = temp_movie_data\n",
    "else:\n",
    "    print('movie column indexing Fail!!')\n",
    "\n",
    "movies_tmp"
   ]
  },
  {
   "cell_type": "markdown",
   "id": "normal-penetration",
   "metadata": {},
   "source": [
    " CSR matrix를 직접 만들어 봅시다."
   ]
  },
  {
   "cell_type": "code",
   "execution_count": 26,
   "id": "unexpected-blind",
   "metadata": {},
   "outputs": [],
   "source": [
    "#SciPy(사이파이)는 과학 컴퓨팅과 기술 컴퓨팅에 사용되는 자유-오픈 소스 파이썬 라이브러리이다\n",
    "from scipy.sparse import csr_matrix\n",
    "\n",
    "num_user = movies_tmp['user_id'].nunique()\n",
    "num_movie = movies_tmp['movie_id'].nunique()\n",
    "\n",
    "\n",
    "#=> csr_matrix((data, indices, indptr), shape=(row, col))\n",
    "csr_data = csr_matrix((movies_tmp['count'], (movies_tmp['user_id'], movies_tmp['movie_id'])), shape= (num_user, num_movie))\n",
    "#csr_data"
   ]
  },
  {
   "cell_type": "markdown",
   "id": "scheduled-capability",
   "metadata": {},
   "source": [
    "als_model = AlternatingLeastSquares 모델을 직접 구성하여 훈련시켜 봅시다."
   ]
  },
  {
   "cell_type": "code",
   "execution_count": 27,
   "id": "precious-nylon",
   "metadata": {},
   "outputs": [],
   "source": [
    "from implicit.als import AlternatingLeastSquares\n",
    "import os\n",
    "import numpy as np\n",
    "\n",
    "# implicit 라이브러리에서 권장하고 있는 부분입니다. 학습 내용과는 무관합니다.\n",
    "os.environ['OPENBLAS_NUM_THREADS']='1'\n",
    "os.environ['KMP_DUPLICATE_LIB_OK']='True'\n",
    "os.environ['MKL_NUM_THREADS']='1'"
   ]
  },
  {
   "cell_type": "code",
   "execution_count": 28,
   "id": "statutory-threat",
   "metadata": {},
   "outputs": [],
   "source": [
    "# Implicit AlternatingLeastSquares 모델의 선언\n",
    "als_model = AlternatingLeastSquares(\\\n",
    "        factors=100, regularization=0.01, use_gpu=False, iterations=15, dtype=np.float32)"
   ]
  },
  {
   "cell_type": "code",
   "execution_count": 29,
   "id": "decent-negotiation",
   "metadata": {},
   "outputs": [
    {
     "data": {
      "text/plain": [
       "<3628x6041 sparse matrix of type '<class 'numpy.int64'>'\n",
       "\twith 836488 stored elements in Compressed Sparse Column format>"
      ]
     },
     "execution_count": 29,
     "metadata": {},
     "output_type": "execute_result"
    }
   ],
   "source": [
    "# als 모델은 input으로 (item X user 꼴의 matrix를 받기 때문에 Transpose해줍니다.)\n",
    "csr_data_transpose = csr_data.T\n",
    "csr_data_transpose"
   ]
  },
  {
   "cell_type": "code",
   "execution_count": 30,
   "id": "historical-credit",
   "metadata": {},
   "outputs": [
    {
     "data": {
      "application/vnd.jupyter.widget-view+json": {
       "model_id": "2bddcf27af5043dc9bd789a90430793a",
       "version_major": 2,
       "version_minor": 0
      },
      "text/plain": [
       "  0%|          | 0/15 [00:00<?, ?it/s]"
      ]
     },
     "metadata": {},
     "output_type": "display_data"
    }
   ],
   "source": [
    "# 모델 훈련\n",
    "als_model.fit(csr_data_transpose)"
   ]
  },
  {
   "cell_type": "markdown",
   "id": "compact-consolidation",
   "metadata": {},
   "source": [
    "내가 선호하는 5가지 영화 중 하나와 그 외의 영화 하나를 골라 훈련된 모델이 예측한 나의 선호도를 파악해 보세요."
   ]
  },
  {
   "cell_type": "code",
   "execution_count": 32,
   "id": "mediterranean-spread",
   "metadata": {},
   "outputs": [
    {
     "name": "stdout",
     "output_type": "stream",
     "text": [
      "5670\n"
     ]
    },
    {
     "data": {
      "text/html": [
       "<div>\n",
       "<style scoped>\n",
       "    .dataframe tbody tr th:only-of-type {\n",
       "        vertical-align: middle;\n",
       "    }\n",
       "\n",
       "    .dataframe tbody tr th {\n",
       "        vertical-align: top;\n",
       "    }\n",
       "\n",
       "    .dataframe thead th {\n",
       "        text-align: right;\n",
       "    }\n",
       "</style>\n",
       "<table border=\"1\" class=\"dataframe\">\n",
       "  <thead>\n",
       "    <tr style=\"text-align: right;\">\n",
       "      <th></th>\n",
       "      <th>user_id</th>\n",
       "      <th>movie_id</th>\n",
       "      <th>count</th>\n",
       "    </tr>\n",
       "  </thead>\n",
       "  <tbody>\n",
       "    <tr>\n",
       "      <th>40236</th>\n",
       "      <td>5677</td>\n",
       "      <td>40</td>\n",
       "      <td>5</td>\n",
       "    </tr>\n",
       "    <tr>\n",
       "      <th>78888</th>\n",
       "      <td>5677</td>\n",
       "      <td>80</td>\n",
       "      <td>5</td>\n",
       "    </tr>\n",
       "    <tr>\n",
       "      <th>82320</th>\n",
       "      <td>5677</td>\n",
       "      <td>84</td>\n",
       "      <td>5</td>\n",
       "    </tr>\n",
       "    <tr>\n",
       "      <th>106595</th>\n",
       "      <td>5677</td>\n",
       "      <td>110</td>\n",
       "      <td>5</td>\n",
       "    </tr>\n",
       "    <tr>\n",
       "      <th>127206</th>\n",
       "      <td>5677</td>\n",
       "      <td>126</td>\n",
       "      <td>5</td>\n",
       "    </tr>\n",
       "    <tr>\n",
       "      <th>157763</th>\n",
       "      <td>5677</td>\n",
       "      <td>163</td>\n",
       "      <td>5</td>\n",
       "    </tr>\n",
       "    <tr>\n",
       "      <th>196547</th>\n",
       "      <td>5677</td>\n",
       "      <td>204</td>\n",
       "      <td>4</td>\n",
       "    </tr>\n",
       "    <tr>\n",
       "      <th>220576</th>\n",
       "      <td>5677</td>\n",
       "      <td>245</td>\n",
       "      <td>5</td>\n",
       "    </tr>\n",
       "    <tr>\n",
       "      <th>237380</th>\n",
       "      <td>5677</td>\n",
       "      <td>276</td>\n",
       "      <td>5</td>\n",
       "    </tr>\n",
       "    <tr>\n",
       "      <th>253719</th>\n",
       "      <td>5677</td>\n",
       "      <td>306</td>\n",
       "      <td>5</td>\n",
       "    </tr>\n",
       "    <tr>\n",
       "      <th>261746</th>\n",
       "      <td>5677</td>\n",
       "      <td>322</td>\n",
       "      <td>5</td>\n",
       "    </tr>\n",
       "    <tr>\n",
       "      <th>268055</th>\n",
       "      <td>5677</td>\n",
       "      <td>332</td>\n",
       "      <td>5</td>\n",
       "    </tr>\n",
       "    <tr>\n",
       "      <th>274217</th>\n",
       "      <td>5677</td>\n",
       "      <td>349</td>\n",
       "      <td>5</td>\n",
       "    </tr>\n",
       "    <tr>\n",
       "      <th>352845</th>\n",
       "      <td>5677</td>\n",
       "      <td>493</td>\n",
       "      <td>5</td>\n",
       "    </tr>\n",
       "    <tr>\n",
       "      <th>358156</th>\n",
       "      <td>5677</td>\n",
       "      <td>503</td>\n",
       "      <td>5</td>\n",
       "    </tr>\n",
       "    <tr>\n",
       "      <th>367044</th>\n",
       "      <td>5677</td>\n",
       "      <td>525</td>\n",
       "      <td>5</td>\n",
       "    </tr>\n",
       "    <tr>\n",
       "      <th>374390</th>\n",
       "      <td>5677</td>\n",
       "      <td>539</td>\n",
       "      <td>5</td>\n",
       "    </tr>\n",
       "    <tr>\n",
       "      <th>375380</th>\n",
       "      <td>5677</td>\n",
       "      <td>540</td>\n",
       "      <td>5</td>\n",
       "    </tr>\n",
       "    <tr>\n",
       "      <th>414109</th>\n",
       "      <td>5677</td>\n",
       "      <td>613</td>\n",
       "      <td>4</td>\n",
       "    </tr>\n",
       "    <tr>\n",
       "      <th>464408</th>\n",
       "      <td>5677</td>\n",
       "      <td>707</td>\n",
       "      <td>4</td>\n",
       "    </tr>\n",
       "    <tr>\n",
       "      <th>474168</th>\n",
       "      <td>5677</td>\n",
       "      <td>733</td>\n",
       "      <td>5</td>\n",
       "    </tr>\n",
       "    <tr>\n",
       "      <th>481046</th>\n",
       "      <td>5677</td>\n",
       "      <td>753</td>\n",
       "      <td>4</td>\n",
       "    </tr>\n",
       "    <tr>\n",
       "      <th>520061</th>\n",
       "      <td>5677</td>\n",
       "      <td>847</td>\n",
       "      <td>4</td>\n",
       "    </tr>\n",
       "    <tr>\n",
       "      <th>591463</th>\n",
       "      <td>5677</td>\n",
       "      <td>1054</td>\n",
       "      <td>5</td>\n",
       "    </tr>\n",
       "    <tr>\n",
       "      <th>600129</th>\n",
       "      <td>5677</td>\n",
       "      <td>1088</td>\n",
       "      <td>4</td>\n",
       "    </tr>\n",
       "    <tr>\n",
       "      <th>606943</th>\n",
       "      <td>5677</td>\n",
       "      <td>1106</td>\n",
       "      <td>5</td>\n",
       "    </tr>\n",
       "    <tr>\n",
       "      <th>615186</th>\n",
       "      <td>5677</td>\n",
       "      <td>1129</td>\n",
       "      <td>5</td>\n",
       "    </tr>\n",
       "    <tr>\n",
       "      <th>619883</th>\n",
       "      <td>5677</td>\n",
       "      <td>1144</td>\n",
       "      <td>5</td>\n",
       "    </tr>\n",
       "    <tr>\n",
       "      <th>651074</th>\n",
       "      <td>5677</td>\n",
       "      <td>1271</td>\n",
       "      <td>5</td>\n",
       "    </tr>\n",
       "    <tr>\n",
       "      <th>652736</th>\n",
       "      <td>5677</td>\n",
       "      <td>1280</td>\n",
       "      <td>5</td>\n",
       "    </tr>\n",
       "    <tr>\n",
       "      <th>653546</th>\n",
       "      <td>5677</td>\n",
       "      <td>1284</td>\n",
       "      <td>5</td>\n",
       "    </tr>\n",
       "    <tr>\n",
       "      <th>655918</th>\n",
       "      <td>5677</td>\n",
       "      <td>1290</td>\n",
       "      <td>5</td>\n",
       "    </tr>\n",
       "    <tr>\n",
       "      <th>664020</th>\n",
       "      <td>5677</td>\n",
       "      <td>1324</td>\n",
       "      <td>5</td>\n",
       "    </tr>\n",
       "    <tr>\n",
       "      <th>667780</th>\n",
       "      <td>5677</td>\n",
       "      <td>1340</td>\n",
       "      <td>5</td>\n",
       "    </tr>\n",
       "    <tr>\n",
       "      <th>667938</th>\n",
       "      <td>5677</td>\n",
       "      <td>1341</td>\n",
       "      <td>5</td>\n",
       "    </tr>\n",
       "    <tr>\n",
       "      <th>670962</th>\n",
       "      <td>5677</td>\n",
       "      <td>1353</td>\n",
       "      <td>5</td>\n",
       "    </tr>\n",
       "    <tr>\n",
       "      <th>691889</th>\n",
       "      <td>5677</td>\n",
       "      <td>1453</td>\n",
       "      <td>5</td>\n",
       "    </tr>\n",
       "    <tr>\n",
       "      <th>732876</th>\n",
       "      <td>5677</td>\n",
       "      <td>1699</td>\n",
       "      <td>5</td>\n",
       "    </tr>\n",
       "    <tr>\n",
       "      <th>737549</th>\n",
       "      <td>5677</td>\n",
       "      <td>1730</td>\n",
       "      <td>3</td>\n",
       "    </tr>\n",
       "    <tr>\n",
       "      <th>781861</th>\n",
       "      <td>5677</td>\n",
       "      <td>2101</td>\n",
       "      <td>5</td>\n",
       "    </tr>\n",
       "    <tr>\n",
       "      <th>794434</th>\n",
       "      <td>5677</td>\n",
       "      <td>2260</td>\n",
       "      <td>3</td>\n",
       "    </tr>\n",
       "    <tr>\n",
       "      <th>800394</th>\n",
       "      <td>5677</td>\n",
       "      <td>2326</td>\n",
       "      <td>5</td>\n",
       "    </tr>\n",
       "  </tbody>\n",
       "</table>\n",
       "</div>"
      ],
      "text/plain": [
       "        user_id  movie_id  count\n",
       "40236      5677        40      5\n",
       "78888      5677        80      5\n",
       "82320      5677        84      5\n",
       "106595     5677       110      5\n",
       "127206     5677       126      5\n",
       "157763     5677       163      5\n",
       "196547     5677       204      4\n",
       "220576     5677       245      5\n",
       "237380     5677       276      5\n",
       "253719     5677       306      5\n",
       "261746     5677       322      5\n",
       "268055     5677       332      5\n",
       "274217     5677       349      5\n",
       "352845     5677       493      5\n",
       "358156     5677       503      5\n",
       "367044     5677       525      5\n",
       "374390     5677       539      5\n",
       "375380     5677       540      5\n",
       "414109     5677       613      4\n",
       "464408     5677       707      4\n",
       "474168     5677       733      5\n",
       "481046     5677       753      4\n",
       "520061     5677       847      4\n",
       "591463     5677      1054      5\n",
       "600129     5677      1088      4\n",
       "606943     5677      1106      5\n",
       "615186     5677      1129      5\n",
       "619883     5677      1144      5\n",
       "651074     5677      1271      5\n",
       "652736     5677      1280      5\n",
       "653546     5677      1284      5\n",
       "655918     5677      1290      5\n",
       "664020     5677      1324      5\n",
       "667780     5677      1340      5\n",
       "667938     5677      1341      5\n",
       "670962     5677      1353      5\n",
       "691889     5677      1453      5\n",
       "732876     5677      1699      5\n",
       "737549     5677      1730      3\n",
       "781861     5677      2101      5\n",
       "794434     5677      2260      3\n",
       "800394     5677      2326      5"
      ]
     },
     "execution_count": 32,
     "metadata": {},
     "output_type": "execute_result"
    }
   ],
   "source": [
    "# JJEONDA idx값 찾기\n",
    "JJEONDA_idx_num = user_to_idx['JJEONDA']\n",
    "print(JJEONDA_idx_num)\n",
    "\n",
    "#syj의 데이터정보만 가져온다.\n",
    "is_moives_JJEONDA = movies_tmp['user_id'] == 5677 #56\n",
    "moives_JJEONDA = movies_tmp[is_moives_JJEONDA]\n",
    "moives_JJEONDA"
   ]
  },
  {
   "cell_type": "code",
   "execution_count": 34,
   "id": "aggregate-sacramento",
   "metadata": {},
   "outputs": [
    {
     "name": "stdout",
     "output_type": "stream",
     "text": [
      "JJEONDA의 인덱스:5670  ,homealone_idx 인덱스:2015\n",
      "슝=3\n"
     ]
    }
   ],
   "source": [
    "JJEONDA_idx, homealone_idx = user_to_idx['JJEONDA'], movie_to_idx[dir_favorite['Home Alone 2: Lost in New York (1992)']]\n",
    "JJEONDA_vector, homealone_vector = als_model.user_factors[JJEONDA_idx], als_model.item_factors[homealone_idx]\n",
    "\n",
    "\n",
    "print('JJEONDA의 인덱스:{}  ,homealone_idx 인덱스:{}'.format(JJEONDA_idx, homealone_idx) )\n",
    "print('슝=3')"
   ]
  },
  {
   "cell_type": "code",
   "execution_count": 35,
   "id": "finite-model",
   "metadata": {},
   "outputs": [
    {
     "data": {
      "text/plain": [
       "5670"
      ]
     },
     "execution_count": 35,
     "metadata": {},
     "output_type": "execute_result"
    }
   ],
   "source": [
    "JJEONDA_idx"
   ]
  },
  {
   "cell_type": "code",
   "execution_count": 36,
   "id": "artificial-tooth",
   "metadata": {},
   "outputs": [
    {
     "data": {
      "text/plain": [
       "array([-0.00368237,  0.01100785,  0.01638047, -0.00245515,  0.00814493,\n",
       "        0.01986632,  0.01423694,  0.01744054,  0.01848664,  0.00830389,\n",
       "        0.00304481, -0.00521108, -0.01637813,  0.01720892,  0.00216137,\n",
       "        0.00817107,  0.00207953,  0.01306386,  0.00109178, -0.01025805,\n",
       "        0.02537838, -0.00378598, -0.00162661, -0.00553135,  0.01249203,\n",
       "       -0.00093408,  0.00587426,  0.00582796, -0.0011902 , -0.01845865,\n",
       "        0.00460565, -0.00540353,  0.00591411, -0.00322129,  0.01736781,\n",
       "       -0.0043687 , -0.00262132,  0.01446025,  0.00013595,  0.01358902,\n",
       "       -0.00219243,  0.00923886,  0.00795313,  0.00369829,  0.00689605,\n",
       "       -0.00024051,  0.02065185,  0.01229502,  0.00778025,  0.00751914,\n",
       "        0.00561945,  0.00558639, -0.0023534 , -0.00723679,  0.00782451,\n",
       "        0.00276992,  0.0177479 ,  0.00510138,  0.0258256 ,  0.00566899,\n",
       "       -0.00190447, -0.0019089 , -0.00366359,  0.01114942,  0.00240431,\n",
       "        0.00045485,  0.01468423, -0.0011598 ,  0.01785812,  0.00341534,\n",
       "        0.01377723,  0.00591316,  0.00801284,  0.01674846,  0.00804018,\n",
       "        0.0090031 ,  0.00378952,  0.01363746, -0.00986639,  0.00936902,\n",
       "        0.01115008,  0.00476147,  0.00957393,  0.0028664 ,  0.00489704,\n",
       "        0.00786518,  0.00836818,  0.00415389,  0.00090835, -0.0012456 ,\n",
       "       -0.00183204,  0.01035413,  0.01012737,  0.00020763,  0.00309044,\n",
       "        0.01081313,  0.00982817,  0.01603549, -0.00741879,  0.00456272],\n",
       "      dtype=float32)"
      ]
     },
     "execution_count": 36,
     "metadata": {},
     "output_type": "execute_result"
    }
   ],
   "source": [
    "homealone_vector"
   ]
  },
  {
   "cell_type": "code",
   "execution_count": 37,
   "id": "collective-queens",
   "metadata": {},
   "outputs": [
    {
     "data": {
      "text/plain": [
       "array([ -20.87901582,   62.41452039,   92.87727686,  -13.92070584,\n",
       "         46.18176897,  112.64202029,   80.72346604,   98.8878553 ,\n",
       "        104.819267  ,   47.08307745,   17.26408673,  -29.54682337,\n",
       "        -92.86398031,   97.57460201,   12.25497125,   46.32998482,\n",
       "         11.79092673,   74.07211332,    6.19036436,  -58.16314182,\n",
       "        143.89541443,  -21.46649038,   -9.2228546 ,  -31.36277648,\n",
       "         70.82980969,   -5.29623122,   33.30702966,   33.04450996,\n",
       "         -6.7484306 , -104.66054276,   26.11404061,  -30.63804331,\n",
       "         33.53301289,  -18.26471139,   98.47549332,  -24.77055326,\n",
       "        -14.86286635,   81.98959527,    0.77085574,   77.04976388,\n",
       "        -12.43110035,   52.38432887,   45.09426129,   20.96928898,\n",
       "         39.10059397,   -1.36369893,  117.09596263,   69.7127729 ,\n",
       "         44.11402634,   42.63350744,   31.86230794,   31.6748414 ,\n",
       "        -13.34377663,  -41.03260144,   44.3649472 ,   15.70542949,\n",
       "        100.6305797 ,   28.92484537,  146.43116863,   32.14319356,\n",
       "        -10.79836818,  -10.82346885,  -20.77255103,   63.2172084 ,\n",
       "         13.63244322,    2.57899802,   83.25956876,   -6.57606789,\n",
       "        101.25552803,   19.36499284,   78.11689901,   33.52762932,\n",
       "         45.43282161,   94.96375769,   45.5878336 ,   51.04755051,\n",
       "         21.48655006,   77.32437615,  -55.94243344,   53.12234539,\n",
       "         63.22093123,   26.99754555,   54.2841775 ,   16.25250746,\n",
       "         27.76623707,   44.59558792,   47.44758664,   23.55255933,\n",
       "          5.15036755,   -7.06256287,  -10.38767817,   58.70790954,\n",
       "         57.42221042,    1.17726895,   17.52279912,   61.31042635,\n",
       "         55.72571238,   90.92124794,  -42.06451233,   25.87062612])"
      ]
     },
     "execution_count": 37,
     "metadata": {},
     "output_type": "execute_result"
    }
   ],
   "source": [
    "# JJEONDA_idx homealone_vector 내적하는 코드\n",
    "np.dot(JJEONDA_idx, homealone_vector)"
   ]
  },
  {
   "cell_type": "markdown",
   "id": "sexual-religious",
   "metadata": {},
   "source": [
    "내가 좋아하는 영화와 비슷한 영화를 추천받아 봅시다."
   ]
  },
  {
   "cell_type": "code",
   "execution_count": 38,
   "id": "experienced-empty",
   "metadata": {},
   "outputs": [
    {
     "name": "stdout",
     "output_type": "stream",
     "text": [
      "Ace Ventura: When Nature Calls (1995)\n"
     ]
    },
    {
     "data": {
      "text/plain": [
       "[(326, 1.0),\n",
       " (325, 0.60001904),\n",
       " (360, 0.57940257),\n",
       " (188, 0.52862614),\n",
       " (1219, 0.52597123),\n",
       " (614, 0.5131331),\n",
       " (1314, 0.49002367),\n",
       " (344, 0.4732888),\n",
       " (1182, 0.4704993),\n",
       " (1243, 0.46560764)]"
      ]
     },
     "execution_count": 38,
     "metadata": {},
     "output_type": "execute_result"
    }
   ],
   "source": [
    "#AlternatingLeastSquares 클래스 \n",
    "#similar_items 메서드를 통하여 비슷한 영화를 찾습니다\n",
    "print(my_favorite[1])\n",
    "\n",
    "favorite_movie = 'Top Gun (1986)'\n",
    "movie_id = movie_to_idx[title_in_id_out(favorite_movie)]\n",
    "similar_movie = als_model.similar_items(movie_id, N=10)\n",
    "similar_movie\n",
    "#(영화의 idx, 유사도) Tuple 로 반환"
   ]
  },
  {
   "cell_type": "markdown",
   "id": "affecting-layout",
   "metadata": {},
   "source": [
    "내가 가장 좋아할 만한 영화들을 추천받아 봅시다."
   ]
  },
  {
   "cell_type": "code",
   "execution_count": 39,
   "id": "attached-huntington",
   "metadata": {},
   "outputs": [
    {
     "name": "stdout",
     "output_type": "stream",
     "text": [
      "idx:326,   moive_id:1101 \n",
      "Top Gun (1986) \n",
      "\n",
      "idx:325,   moive_id:2406 \n",
      "Romancing the Stone (1984) \n",
      "\n",
      "idx:360,   moive_id:1088 \n",
      "Dirty Dancing (1987) \n",
      "\n",
      "idx:188,   moive_id:2115 \n",
      "Indiana Jones and the Temple of Doom (1984) \n",
      "\n",
      "idx:1219,   moive_id:2403 \n",
      "First Blood (1982) \n",
      "\n",
      "idx:614,   moive_id:2405 \n",
      "Jewel of the Nile, The (1985) \n",
      "\n",
      "idx:1314,   moive_id:3197 \n",
      "Presidio, The (1988) \n",
      "\n",
      "idx:344,   moive_id:2802 \n",
      "Tequila Sunrise (1988) \n",
      "\n",
      "idx:1182,   moive_id:3441 \n",
      "Red Dawn (1984) \n",
      "\n",
      "idx:1243,   moive_id:2942 \n",
      "Flashdance (1983) \n",
      "\n"
     ]
    }
   ],
   "source": [
    "#movie_to_idx 를 뒤집어, index로부터 movie_id를  얻는 dict를 생성합니다. \n",
    "idx_to_movie = {v:k for k,v in movie_to_idx.items()}\n",
    "\n",
    "for i in similar_movie:\n",
    "    idx = i[0]\n",
    "    moive_id = idx_to_movie[idx]\n",
    "    print('idx:{},   moive_id:{} '.format(idx,moive_id))\n",
    "    print(id_in_title_out(moive_id),'\\n')"
   ]
  },
  {
   "cell_type": "code",
   "execution_count": null,
   "id": "american-public",
   "metadata": {},
   "outputs": [],
   "source": []
  },
  {
   "cell_type": "code",
   "execution_count": null,
   "id": "hidden-metabolism",
   "metadata": {},
   "outputs": [],
   "source": []
  }
 ],
 "metadata": {
  "kernelspec": {
   "display_name": "aiffel",
   "language": "python",
   "name": "aiffel"
  },
  "language_info": {
   "codemirror_mode": {
    "name": "ipython",
    "version": 3
   },
   "file_extension": ".py",
   "mimetype": "text/x-python",
   "name": "python",
   "nbconvert_exporter": "python",
   "pygments_lexer": "ipython3",
   "version": "3.7.9"
  }
 },
 "nbformat": 4,
 "nbformat_minor": 5
}
